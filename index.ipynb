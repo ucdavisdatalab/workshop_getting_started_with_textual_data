{
 "cells": [
  {
   "cell_type": "markdown",
   "id": "0564503a",
   "metadata": {},
   "source": [
    "Overview\n",
    "=======\n",
    "\n",
    "In this three-part workshop series you will learn the basics of text mining with Python. We will focus primarily on \n",
    "unstructured text data, discussing how to format and clean text to enable the discovery of significant patterns in \n",
    "collections of documents. Sessions will introduce participants to core terminology in text mining/natural language \n",
    "processing and will walk through different methods of ranking terms and documents. We will conclude by using these \n",
    "methods to classify texts and to build models of \"topics.\" Basic familiarity with Python is required. We welcome \n",
    "students, postdocs, faculty, and staff from a variety of research domains, ranging from health informatics to the \n",
    "humanities."
   ]
  }
 ],
 "metadata": {
  "kernelspec": {
   "display_name": "nlp",
   "language": "python",
   "name": "nlp"
  },
  "language_info": {
   "codemirror_mode": {
    "name": "ipython",
    "version": 3
   },
   "file_extension": ".py",
   "mimetype": "text/x-python",
   "name": "python",
   "nbconvert_exporter": "python",
   "pygments_lexer": "ipython3",
   "version": "3.9.12"
  }
 },
 "nbformat": 4,
 "nbformat_minor": 5
}
