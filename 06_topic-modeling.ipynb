{
 "cells": [
  {
   "cell_type": "markdown",
   "id": "a0ecf5d1",
   "metadata": {},
   "source": [
    "Topic Modeling\n",
    "============\n",
    "\n",
    "\n",
    "\n",
    "```{admonition} Learning Objectives\n",
    "By the end of this chapter, you will be able to:\n",
    "\n",
    "+ Explain what a topic model is, what it represents, and how to use one to explore a corpus\n",
    "+ Build a topic model\n",
    "+ Appraise the validity of a topic model and fine tune it accordingly\n",
    "```"
   ]
  },
  {
   "cell_type": "markdown",
   "id": "d101066c",
   "metadata": {},
   "source": [
    "Preliminiaries\n",
    "----------------\n",
    "\n",
    "As before, we'll use a file manifest to keep things orderly."
   ]
  },
  {
   "cell_type": "code",
   "execution_count": 1,
   "id": "af14157d",
   "metadata": {},
   "outputs": [
    {
     "name": "stdout",
     "output_type": "stream",
     "text": [
      "Number of blurbs: 1500 \n",
      "Date range: 1958--2018 \n",
      "Genres: Fiction, Classics, Nonfiction, Children’s Books, Teen & Young Adult, Poetry, Humor\n"
     ]
    },
    {
     "data": {
      "text/html": [
       "<div>\n",
       "<style scoped>\n",
       "    .dataframe tbody tr th:only-of-type {\n",
       "        vertical-align: middle;\n",
       "    }\n",
       "\n",
       "    .dataframe tbody tr th {\n",
       "        vertical-align: top;\n",
       "    }\n",
       "\n",
       "    .dataframe thead th {\n",
       "        text-align: right;\n",
       "    }\n",
       "</style>\n",
       "<table border=\"1\" class=\"dataframe\">\n",
       "  <thead>\n",
       "    <tr style=\"text-align: right;\">\n",
       "      <th></th>\n",
       "      <th>AUTHOR</th>\n",
       "      <th>TITLE</th>\n",
       "      <th>GENRE</th>\n",
       "      <th>PUB_DATE</th>\n",
       "      <th>ISBN</th>\n",
       "      <th>FILE_NAME</th>\n",
       "    </tr>\n",
       "  </thead>\n",
       "  <tbody>\n",
       "    <tr>\n",
       "      <th>174</th>\n",
       "      <td>Patricia Briggs</td>\n",
       "      <td>The Hob's Bargain</td>\n",
       "      <td>Fiction</td>\n",
       "      <td>2001-03-01</td>\n",
       "      <td>9780441008131</td>\n",
       "      <td>0174.txt</td>\n",
       "    </tr>\n",
       "    <tr>\n",
       "      <th>1247</th>\n",
       "      <td>DK</td>\n",
       "      <td>The Sherlock Holmes Book</td>\n",
       "      <td>Classics</td>\n",
       "      <td>2015-10-20</td>\n",
       "      <td>9781465438492</td>\n",
       "      <td>1247.txt</td>\n",
       "    </tr>\n",
       "    <tr>\n",
       "      <th>1040</th>\n",
       "      <td>Bryan D. Palmer</td>\n",
       "      <td>E.P. Thompson</td>\n",
       "      <td>Nonfiction</td>\n",
       "      <td>1994-10-17</td>\n",
       "      <td>9781859840702</td>\n",
       "      <td>1040.txt</td>\n",
       "    </tr>\n",
       "    <tr>\n",
       "      <th>824</th>\n",
       "      <td>Robert B. Parker</td>\n",
       "      <td>Pale Kings and Princes</td>\n",
       "      <td>Fiction</td>\n",
       "      <td>1988-06-10</td>\n",
       "      <td>9780440200048</td>\n",
       "      <td>0824.txt</td>\n",
       "    </tr>\n",
       "    <tr>\n",
       "      <th>925</th>\n",
       "      <td>Penelope Lively</td>\n",
       "      <td>The Purple Swamp Hen and Other Stories</td>\n",
       "      <td>Fiction</td>\n",
       "      <td>2018-05-08</td>\n",
       "      <td>9780735222052</td>\n",
       "      <td>0925.txt</td>\n",
       "    </tr>\n",
       "  </tbody>\n",
       "</table>\n",
       "</div>"
      ],
      "text/plain": [
       "                AUTHOR                                   TITLE       GENRE  \\\n",
       "174    Patricia Briggs                       The Hob's Bargain     Fiction   \n",
       "1247                DK                The Sherlock Holmes Book    Classics   \n",
       "1040   Bryan D. Palmer                           E.P. Thompson  Nonfiction   \n",
       "824   Robert B. Parker                  Pale Kings and Princes     Fiction   \n",
       "925    Penelope Lively  The Purple Swamp Hen and Other Stories     Fiction   \n",
       "\n",
       "       PUB_DATE           ISBN FILE_NAME  \n",
       "174  2001-03-01  9780441008131  0174.txt  \n",
       "1247 2015-10-20  9781465438492  1247.txt  \n",
       "1040 1994-10-17  9781859840702  1040.txt  \n",
       "824  1988-06-10  9780440200048  0824.txt  \n",
       "925  2018-05-08  9780735222052  0925.txt  "
      ]
     },
     "execution_count": 1,
     "metadata": {},
     "output_type": "execute_result"
    }
   ],
   "source": [
    "import pandas as pd\n",
    "\n",
    "manifest = pd.read_csv(\"data/session_three/manifest.csv\", index_col = 0)\n",
    "manifest['PUB_DATE'] = pd.to_datetime(manifest['PUB_DATE'], format=\"%Y-%m-%d\")\n",
    "\n",
    "print(\n",
    "    f\"Number of blurbs: {len(manifest)}\",\n",
    "    f\"\\nDate range: {manifest['PUB_DATE'].dt.year.min()}--{manifest['PUB_DATE'].dt.year.max()}\",\n",
    "    f\"\\nGenres: {', '.join(manifest['GENRE'].unique().tolist())}\"\n",
    ")\n",
    "\n",
    "manifest.sample(5)"
   ]
  },
  {
   "cell_type": "code",
   "execution_count": 2,
   "id": "39b76dbd",
   "metadata": {},
   "outputs": [
    {
     "data": {
      "image/png": "[encoded data removed]",
      "text/plain": [
       "<Figure size 1080x360 with 1 Axes>"
      ]
     },
     "metadata": {
      "needs_background": "light"
     },
     "output_type": "display_data"
    }
   ],
   "source": [
    "manifest.groupby('PUB_DATE')['ISBN'].count().plot(figsize = (15, 5),\n",
    "                                                  title = \"Books per Year\",\n",
    "                                                  xlabel = \"Publication Year\",\n",
    "                                                  ylabel = \"Number of Books\",\n",
    "                                                  ylim = (0, 11)\n",
    "                                                  );"
   ]
  },
  {
   "cell_type": "markdown",
   "id": "b3423a70",
   "metadata": {},
   "source": [
    "To make file loading easier, we'll isolate the file names from `manifest` and create a list of paths."
   ]
  },
  {
   "cell_type": "code",
   "execution_count": 3,
   "id": "7bfc3ab6",
   "metadata": {},
   "outputs": [],
   "source": [
    "indir = \"data/session_three/input/\"\n",
    "paths = indir + manifest['FILE_NAME']"
   ]
  },
  {
   "cell_type": "markdown",
   "id": "1dc99bbe",
   "metadata": {},
   "source": [
    "Building a Topic Model\n",
    "---------------------------\n",
    "\n",
    "With this bit of preliminary work done, we're ready to build a topic model. There are numerous implementations of \n",
    "LDA modeling available, ranging from the command line utility, [MALLET] (which many of us in the DataLab use in our \n",
    "own work), to built-in APIs offered by both `gensim` and `scikit-learn`. It's tempting to use the `scikit-learn` \n",
    "API: we should be familiar with this package's conventions by now, and indeed it's quite easy to spin up a topic \n",
    "model using its API. But there's a [reported bug] in a key metric for validating LDA models in `scikit-learn`, and, \n",
    "as far as we know, this bug hasn't been fixed. Depending on your use case, this may not be a big deal. The bug has \n",
    "to do with generating a **perplexity score** from the model, which is useful for fine tuning. You, however, may not \n",
    "want to go through this process, especially if you're working in an exploratory model. In this case, it's probably \n",
    "fine to use `scikit-learn`.\n",
    "\n",
    "As for us: we'll be demonstrating how to fine tune models and will thus avoid `scikit-learn` for the workshop. \n",
    "Instead, we'll be using `tomotopy`, a Python wrapper built around Tomato, a topic modeling tool built in C++. Its \n",
    "API is fairly intuitive and comes with lots of options, which we'll leverage to build the best model possible for \n",
    "our data.\n",
    "\n",
    "[MALLET]: https://mimno.github.io/Mallet/\n",
    "[reported bug]: https://github.com/scikit-learn/scikit-learn/issues/6777"
   ]
  },
  {
   "cell_type": "markdown",
   "id": "53b4d79e",
   "metadata": {},
   "source": [
    "### Initializing a model\n",
    "\n",
    "Initializing a topic model with `tomotopy` is simple: just assign `LDAModel()` to a variable and declare the number \n",
    "of topics the model will generate. As we'll discuss below, determining how many topics to use is a matter of some \n",
    "debate and complexity, but for now, we'll just pick a number and move ahead."
   ]
  },
  {
   "cell_type": "code",
   "execution_count": 4,
   "id": "2dfba4dd",
   "metadata": {},
   "outputs": [],
   "source": [
    "import tomotopy as tp\n",
    "\n",
    "n_topics = 5\n",
    "model = tp.LDAModel(k = n_topics, seed = 357)"
   ]
  },
  {
   "cell_type": "markdown",
   "id": "75458d22",
   "metadata": {},
   "source": [
    "Now we need to add our blurbs to the model. We'll do so by using a `for` loop in conjunction with all the paths we \n",
    "created above. The only catch here is that we need to split each blurb into a list of tokens (right now they're \n",
    "stored as text blobs)."
   ]
  },
  {
   "cell_type": "code",
   "execution_count": 5,
   "id": "8671ce75",
   "metadata": {},
   "outputs": [
    {
     "name": "stdout",
     "output_type": "stream",
     "text": [
      "Number of documents: 1500\n"
     ]
    }
   ],
   "source": [
    "for path in paths:\n",
    "    with open(path, 'r') as p:\n",
    "        doc = p.read().split()\n",
    "        model.add_doc(doc)\n",
    "        \n",
    "print(\"Number of documents:\", len(model.docs))"
   ]
  },
  {
   "cell_type": "markdown",
   "id": "f4f02d07",
   "metadata": {},
   "source": [
    "### Training a model\n",
    "\n",
    "Our model is now ready to be trained. Under the hood, this happens in an iterative fashion, so we need to set the \n",
    "total number of iterations we'd like to use to do the training. With that set, it's simply a matter of calling \n",
    "`model.train()`."
   ]
  },
  {
   "cell_type": "code",
   "execution_count": 6,
   "id": "bf75d52b",
   "metadata": {},
   "outputs": [],
   "source": [
    "n_iters = 500\n",
    "model.train(iter = n_iters)"
   ]
  },
  {
   "cell_type": "markdown",
   "id": "e5f54b7b",
   "metadata": {},
   "source": [
    "### Inspecting the Results\n",
    "\n",
    "With our trained on our corpus, we can access some high-level information about the corpus."
   ]
  },
  {
   "cell_type": "code",
   "execution_count": 7,
   "id": "bc30aca5",
   "metadata": {},
   "outputs": [
    {
     "name": "stdout",
     "output_type": "stream",
     "text": [
      "Number of unique words: 19609 \n",
      "Total number of tokens: 129027\n"
     ]
    }
   ],
   "source": [
    "print(\n",
    "    f\"Number of unique words: {len(model.used_vocabs)}\",\n",
    "    f\"\\nTotal number of tokens: {model.num_words}\"\n",
    ")"
   ]
  },
  {
   "cell_type": "markdown",
   "id": "94601aa3",
   "metadata": {},
   "source": [
    "For each topic, we can get the words most associated with that topic. The accompanying score is the probability of \n",
    "that word appearing in a given topic."
   ]
  },
  {
   "cell_type": "code",
   "execution_count": 8,
   "id": "121c074d",
   "metadata": {},
   "outputs": [
    {
     "name": "stdout",
     "output_type": "stream",
     "text": [
      "Topic 0: \n",
      "+ book (0.0262%), story (0.0134%), new (0.0109%), reader (0.0101%), read (0.0078%)\n",
      "Topic 1: \n",
      "+ book (0.0110%), use (0.0067%), guide (0.0065%), include (0.0063%), work (0.0060%)\n",
      "Topic 2: \n",
      "+ novel (0.0090%), new (0.0088%), war (0.0073%), man (0.0065%), time (0.0063%)\n",
      "Topic 3: \n",
      "+ life (0.0253%), story (0.0084%), live (0.0082%), year (0.0079%), new (0.0077%)\n",
      "Topic 4: \n",
      "+ just (0.0102%), make (0.0097%), friend (0.0086%), get (0.0076%), day (0.0074%)\n"
     ]
    }
   ],
   "source": [
    "for k in range(model.k):\n",
    "    top_words = model.get_topic_words(topic_id = k, top_n = 5)\n",
    "    top_words = [f\"{tup[0]} ({tup[1]:.04f}%)\" for tup in top_words]\n",
    "    print(\n",
    "        f\"Topic {k}:\",\n",
    "        f\"\\n+ {', '.join(top_words)}\"\n",
    "    )"
   ]
  },
  {
   "cell_type": "markdown",
   "id": "5e2d8843",
   "metadata": {},
   "source": [
    "This seems to make intuitive sense: we're dealing here with several hundred book blurbs, so \"book,\" \"reader,\" and \n",
    "\"new\" are all words we'd expect to see.\n",
    "\n",
    "Since each topic has a probability score for every word, it's also possible to look at the total word distribution \n",
    "for a topic with `get_word_dist()`. This outputs an array of probabilities, which is indexed in the same order as \n",
    "`model.used_vocabs()`."
   ]
  },
  {
   "cell_type": "code",
   "execution_count": 9,
   "id": "459ba13b",
   "metadata": {},
   "outputs": [
    {
     "data": {
      "text/plain": [
       "just      0.010161\n",
       "make      0.009699\n",
       "friend    0.008590\n",
       "get       0.007574\n",
       "day       0.007390\n",
       "like      0.006743\n",
       "school    0.006420\n",
       "new       0.006050\n",
       "girl      0.005958\n",
       "home      0.005727\n",
       "family    0.005727\n",
       "time      0.005681\n",
       "he        0.005542\n",
       "good      0.005496\n",
       "shes      0.005358\n",
       "start     0.005265\n",
       "food      0.004988\n",
       "want      0.004988\n",
       "love      0.004896\n",
       "help      0.004711\n",
       "little    0.004434\n",
       "best      0.004388\n",
       "come      0.004342\n",
       "night     0.004065\n",
       "recipe    0.004065\n",
       "dtype: float32"
      ]
     },
     "execution_count": 9,
     "metadata": {},
     "output_type": "execute_result"
    }
   ],
   "source": [
    "word_dist = model.get_topic_word_dist(topic_id = 4)\n",
    "pd.Series(word_dist, index = model.used_vocabs).sort_values(ascending = False).head(25)"
   ]
  },
  {
   "cell_type": "markdown",
   "id": "bbdd46e1",
   "metadata": {},
   "source": [
    "To zoom out a bit: it's also often helpful to know how large each topic is."
   ]
  },
  {
   "cell_type": "code",
   "execution_count": 10,
   "id": "1d1dba45",
   "metadata": {},
   "outputs": [
    {
     "name": "stdout",
     "output_type": "stream",
     "text": [
      "Topic 0: 23727 words\n",
      "Topic 1: 23950 words\n",
      "Topic 2: 30303 words\n",
      "Topic 3: 29590 words\n",
      "Topic 4: 21457 words\n"
     ]
    }
   ],
   "source": [
    "topic_sizes = model.get_count_by_topics()\n",
    "for k in range(0, n_topics):\n",
    "    print(f\"Topic {k}: {topic_sizes[k]} words\")"
   ]
  },
  {
   "cell_type": "markdown",
   "id": "5ed54467",
   "metadata": {},
   "source": [
    "Finally, we can get the topic distribution for a given document. We do so with the `docs` attribute of `model`, \n",
    "which is indexed in the same order as our documents. Here, we'll sample from `manifest`, get the associated index, \n",
    "pipe it into our model object, and return the top topic for a blurb. As with `get_topic_words()` above, the top \n",
    "topic will also return a probability score for a given document."
   ]
  },
  {
   "cell_type": "code",
   "execution_count": 11,
   "id": "0e277271",
   "metadata": {},
   "outputs": [
    {
     "name": "stdout",
     "output_type": "stream",
     "text": [
      "Top topics for:\n",
      "+ Southern Discomfort: 4 (0.461%)\n",
      "+ Mr. and Mr. Smith: 4 (0.330%)\n",
      "+ Tattoo: 4 (0.507%)\n",
      "+ Scream Street: Invasion of the Normals: 2 (0.468%)\n",
      "+ The Encyclopedia of Guilty Pleasures: 0 (0.421%)\n"
     ]
    }
   ],
   "source": [
    "sampled_titles = manifest.sample(5).index\n",
    "\n",
    "print(\"Top topics for:\")\n",
    "for idx in sampled_titles:\n",
    "    result = model.docs[idx].get_topics(top_n = 1)\n",
    "    topic = result[0][0]\n",
    "    score = result[0][1]\n",
    "    print(f\"+ {manifest.loc[idx, 'TITLE']}: {topic} ({score:0.3f}%)\")"
   ]
  },
  {
   "cell_type": "markdown",
   "id": "383909f8",
   "metadata": {},
   "source": [
    "We can get even more granular. Every word in a document has its own associated topic, which will change depending \n",
    "on the document. This is about as close to context-sensitive semantics as we can get with this method. We'll grab \n",
    "just one title from our sampled set to show this."
   ]
  },
  {
   "cell_type": "code",
   "execution_count": 12,
   "id": "98139fb6",
   "metadata": {},
   "outputs": [
    {
     "data": {
      "text/html": [
       "<div>\n",
       "<style scoped>\n",
       "    .dataframe tbody tr th:only-of-type {\n",
       "        vertical-align: middle;\n",
       "    }\n",
       "\n",
       "    .dataframe tbody tr th {\n",
       "        vertical-align: top;\n",
       "    }\n",
       "\n",
       "    .dataframe thead th {\n",
       "        text-align: right;\n",
       "    }\n",
       "</style>\n",
       "<table border=\"1\" class=\"dataframe\">\n",
       "  <thead>\n",
       "    <tr style=\"text-align: right;\">\n",
       "      <th></th>\n",
       "      <th>WORD</th>\n",
       "      <th>TOPIC</th>\n",
       "    </tr>\n",
       "  </thead>\n",
       "  <tbody>\n",
       "    <tr>\n",
       "      <th>0</th>\n",
       "      <td>southern</td>\n",
       "      <td>4</td>\n",
       "    </tr>\n",
       "    <tr>\n",
       "      <th>1</th>\n",
       "      <td>hospitality</td>\n",
       "      <td>4</td>\n",
       "    </tr>\n",
       "    <tr>\n",
       "      <th>2</th>\n",
       "      <td>meet</td>\n",
       "      <td>2</td>\n",
       "    </tr>\n",
       "    <tr>\n",
       "      <th>3</th>\n",
       "      <td>deadly</td>\n",
       "      <td>2</td>\n",
       "    </tr>\n",
       "    <tr>\n",
       "      <th>4</th>\n",
       "      <td>deception</td>\n",
       "      <td>2</td>\n",
       "    </tr>\n",
       "    <tr>\n",
       "      <th>5</th>\n",
       "      <td>start</td>\n",
       "      <td>4</td>\n",
       "    </tr>\n",
       "    <tr>\n",
       "      <th>6</th>\n",
       "      <td>charm</td>\n",
       "      <td>0</td>\n",
       "    </tr>\n",
       "    <tr>\n",
       "      <th>7</th>\n",
       "      <td>new</td>\n",
       "      <td>0</td>\n",
       "    </tr>\n",
       "    <tr>\n",
       "      <th>8</th>\n",
       "      <td>mystery</td>\n",
       "      <td>2</td>\n",
       "    </tr>\n",
       "    <tr>\n",
       "      <th>9</th>\n",
       "      <td>series</td>\n",
       "      <td>4</td>\n",
       "    </tr>\n",
       "  </tbody>\n",
       "</table>\n",
       "</div>"
      ],
      "text/plain": [
       "          WORD  TOPIC\n",
       "0     southern      4\n",
       "1  hospitality      4\n",
       "2         meet      2\n",
       "3       deadly      2\n",
       "4    deception      2\n",
       "5        start      4\n",
       "6        charm      0\n",
       "7          new      0\n",
       "8      mystery      2\n",
       "9       series      4"
      ]
     },
     "execution_count": 12,
     "metadata": {},
     "output_type": "execute_result"
    }
   ],
   "source": [
    "doc = model.docs[sampled_titles[0]]\n",
    "doc_word_to_topic_dist = doc.topics\n",
    "\n",
    "pd.DataFrame(zip(doc, doc_word_to_topic_dist), columns = ['WORD', 'TOPIC']).head(10)"
   ]
  },
  {
   "cell_type": "markdown",
   "id": "45001cfb",
   "metadata": {},
   "source": [
    "Fine Tuning: The Basics\n",
    "----------------------------\n",
    "\n",
    "All this looks good so far, but our topics are fairly general – and quite large. More, the same top words appear \n",
    "across different topics in the model, which makes it difficult to interpret the specifcity of each topic. All this \n",
    "suggests that we need to make some adjustments to the way we initialize our model. But there are several different \n",
    "parameters to adjust when intializing the model, so what, then, should we change?"
   ]
  },
  {
   "cell_type": "markdown",
   "id": "5a947e00",
   "metadata": {},
   "source": [
    "### Setting the number of topics\n",
    "\n",
    "An easy answer would be the number of topics. If, as above, your topics seem too general, it may be because you've \n",
    "too small a number of topics for the model. Increasing the number of topics you use may make the model more \n",
    "interpretable.\n",
    "\n",
    "We'll show an example. But before doing so, we'll load our files into a `tomotopy` `Corpus()` object, which will \n",
    "streamline the model initialization process."
   ]
  },
  {
   "cell_type": "code",
   "execution_count": 13,
   "id": "95055881",
   "metadata": {},
   "outputs": [],
   "source": [
    "from tomotopy.utils import Corpus\n",
    "\n",
    "corpus = Corpus()\n",
    "for path in paths:\n",
    "    with open(path, 'r') as p:\n",
    "        doc = p.read().split()\n",
    "        corpus.add_doc(doc)"
   ]
  },
  {
   "cell_type": "markdown",
   "id": "e55af82d",
   "metadata": {},
   "source": [
    "Now, let's set a higher number of topics for our model."
   ]
  },
  {
   "cell_type": "code",
   "execution_count": 14,
   "id": "1f11d9f2",
   "metadata": {},
   "outputs": [
    {
     "name": "stdout",
     "output_type": "stream",
     "text": [
      "Number of documents: 1500\n"
     ]
    }
   ],
   "source": [
    "n_topics = 10\n",
    "model = tp.LDAModel(k = n_topics, corpus = corpus, seed = 357)\n",
    "\n",
    "print(\"Number of documents:\", len(model.docs))"
   ]
  },
  {
   "cell_type": "markdown",
   "id": "0de378a1",
   "metadata": {},
   "source": [
    "And let's also define a quick function to help us inspect the top words for each topic. This is the same `for` loop \n",
    "we used earlier wrapped up in a callable function."
   ]
  },
  {
   "cell_type": "code",
   "execution_count": 15,
   "id": "eab2d7c1",
   "metadata": {},
   "outputs": [],
   "source": [
    "def print_topic_words(model, top_n = 5):\n",
    "    for k in range(model.k):\n",
    "        top_words = model.get_topic_words(topic_id = k, top_n = top_n)\n",
    "        top_words = [f\"{tup[0]} ({tup[1]:.04f}%)\" for tup in top_words]\n",
    "        print(\n",
    "            f\"Topic {k}:\",\n",
    "            f\"\\n+ {', '.join(top_words)}\"\n",
    "        )"
   ]
  },
  {
   "cell_type": "markdown",
   "id": "356e588b",
   "metadata": {},
   "source": [
    "With that done, let's train a model with our new number of topics and see what the results look like. We'll use the \n",
    "same number of iterations as above."
   ]
  },
  {
   "cell_type": "code",
   "execution_count": 16,
   "id": "2a28fc8e",
   "metadata": {},
   "outputs": [
    {
     "name": "stdout",
     "output_type": "stream",
     "text": [
      "Topic 0: \n",
      "+ new (0.0369%), time (0.0228%), author (0.0188%), york (0.0185%), novel (0.0172%)\n",
      "Topic 1: \n",
      "+ book (0.0372%), story (0.0193%), reader (0.0151%), new (0.0134%), read (0.0108%)\n",
      "Topic 2: \n",
      "+ book (0.0128%), use (0.0086%), offer (0.0083%), life (0.0080%), learn (0.0071%)\n",
      "Topic 3: \n",
      "+ murder (0.0172%), mystery (0.0168%), crime (0.0090%), kill (0.0088%), killer (0.0088%)\n",
      "Topic 4: \n",
      "+ food (0.0199%), recipe (0.0172%), italian (0.0080%), eat (0.0074%), cook (0.0074%)\n",
      "Topic 5: \n",
      "+ life (0.0299%), woman (0.0165%), story (0.0154%), love (0.0151%), family (0.0126%)\n",
      "Topic 6: \n",
      "+ history (0.0129%), work (0.0127%), american (0.0125%), world (0.0088%), year (0.0085%)\n",
      "Topic 7: \n",
      "+ just (0.0120%), know (0.0100%), like (0.0089%), time (0.0088%), make (0.0085%)\n",
      "Topic 8: \n",
      "+ war (0.0159%), world (0.0111%), power (0.0081%), battle (0.0081%), king (0.0069%)\n",
      "Topic 9: \n",
      "+ child (0.0132%), little (0.0124%), animal (0.0109%), day (0.0107%), make (0.0094%)\n"
     ]
    }
   ],
   "source": [
    "model.train(iter = n_iters)\n",
    "\n",
    "print_topic_words(model)"
   ]
  },
  {
   "cell_type": "markdown",
   "id": "34d093e4",
   "metadata": {},
   "source": [
    "That looks better! Adding more topics spreads out the word distributions.\n",
    "\n",
    "Given that, what if we increased our number of topics even higher?"
   ]
  },
  {
   "cell_type": "code",
   "execution_count": 17,
   "id": "a9f99a32",
   "metadata": {},
   "outputs": [
    {
     "name": "stdout",
     "output_type": "stream",
     "text": [
      "Topic 0: \n",
      "+ life (0.0439%), story (0.0182%), character (0.0175%), century (0.0167%), become (0.0123%)\n",
      "Topic 1: \n",
      "+ business (0.0339%), company (0.0163%), success (0.0158%), idea (0.0122%), career (0.0104%)\n",
      "Topic 2: \n",
      "+ vampire (0.0247%), magic (0.0195%), max (0.0182%), witch (0.0169%), magical (0.0143%)\n",
      "Topic 3: \n",
      "+ american (0.0273%), story (0.0245%), history (0.0200%), tell (0.0147%), great (0.0143%)\n",
      "Topic 4: \n",
      "+ music (0.0298%), film (0.0160%), black (0.0160%), universe (0.0155%), take (0.0151%)\n",
      "Topic 5: \n",
      "+ love (0.0264%), father (0.0201%), london (0.0201%), tale (0.0193%), elizabeth (0.0134%)\n",
      "Topic 6: \n",
      "+ secret (0.0143%), face (0.0139%), dark (0.0131%), world (0.0117%), power (0.0113%)\n",
      "Topic 7: \n",
      "+ sister (0.0217%), woman (0.0199%), fear (0.0181%), relationship (0.0145%), brother (0.0133%)\n",
      "Topic 8: \n",
      "+ adventure (0.0321%), book (0.0287%), friend (0.0181%), story (0.0158%), new (0.0156%)\n",
      "Topic 9: \n",
      "+ animal (0.0356%), little (0.0277%), baby (0.0209%), christmas (0.0202%), cat (0.0195%)\n",
      "Topic 10: \n",
      "+ book (0.0434%), reader (0.0287%), learn (0.0213%), read (0.0202%), child (0.0167%)\n",
      "Topic 11: \n",
      "+ big (0.0147%), box (0.0133%), set (0.0119%), machine (0.0112%), piece (0.0105%)\n",
      "Topic 12: \n",
      "+ guide (0.0296%), use (0.0160%), new (0.0157%), book (0.0149%), include (0.0136%)\n",
      "Topic 13: \n",
      "+ love (0.0356%), heart (0.0253%), author (0.0193%), romance (0.0180%), novel (0.0166%)\n",
      "Topic 14: \n",
      "+ planet (0.0155%), military (0.0142%), lego (0.0138%), president (0.0125%), war (0.0125%)\n",
      "Topic 15: \n",
      "+ team (0.0292%), game (0.0280%), sport (0.0274%), horse (0.0268%), baseball (0.0191%)\n",
      "Topic 16: \n",
      "+ man (0.0224%), miss (0.0200%), jack (0.0176%), agent (0.0176%), tom (0.0170%)\n",
      "Topic 17: \n",
      "+ recipe (0.0307%), food (0.0289%), italian (0.0132%), family (0.0128%), cook (0.0121%)\n",
      "Topic 18: \n",
      "+ story (0.0212%), volume (0.0188%), comic (0.0183%), include (0.0180%), collection (0.0178%)\n",
      "Topic 19: \n",
      "+ murder (0.0238%), mystery (0.0229%), town (0.0229%), kill (0.0139%), death (0.0128%)\n",
      "Topic 20: \n",
      "+ classic (0.0304%), penguin (0.0241%), work (0.0231%), english (0.0188%), year (0.0183%)\n",
      "Topic 21: \n",
      "+ political (0.0175%), social (0.0145%), state (0.0138%), world (0.0137%), american (0.0119%)\n",
      "Topic 22: \n",
      "+ cole (0.0196%), financial (0.0183%), money (0.0169%), city (0.0122%), ice (0.0108%)\n",
      "Topic 23: \n",
      "+ book (0.0485%), time (0.0335%), new (0.0316%), york (0.0246%), review (0.0189%)\n",
      "Topic 24: \n",
      "+ life (0.0580%), spiritual (0.0192%), world (0.0127%), self (0.0124%), book (0.0122%)\n",
      "Topic 25: \n",
      "+ emma (0.0198%), holmes (0.0179%), russell (0.0113%), sherlock (0.0104%), alpine (0.0095%)\n",
      "Topic 26: \n",
      "+ love (0.0346%), story (0.0272%), family (0.0245%), life (0.0218%), young (0.0179%)\n",
      "Topic 27: \n",
      "+ art (0.0201%), paris (0.0139%), louis (0.0116%), ford (0.0108%), famous (0.0108%)\n",
      "Topic 28: \n",
      "+ help (0.0130%), provide (0.0117%), health (0.0114%), body (0.0107%), guide (0.0105%)\n",
      "Topic 29: \n",
      "+ war (0.0643%), men (0.0152%), soldier (0.0148%), king (0.0144%), fight (0.0129%)\n",
      "Topic 30: \n",
      "+ jones (0.0138%), foot (0.0118%), longarm (0.0112%), aunt (0.0112%), junie (0.0105%)\n",
      "Topic 31: \n",
      "+ god (0.0197%), book (0.0177%), study (0.0143%), work (0.0140%), personal (0.0135%)\n",
      "Topic 32: \n",
      "+ new (0.0364%), time (0.0245%), year (0.0228%), world (0.0222%), life (0.0153%)\n",
      "Topic 33: \n",
      "+ woman (0.0576%), husband (0.0279%), life (0.0220%), wife (0.0195%), men (0.0176%)\n",
      "Topic 34: \n",
      "+ just (0.0218%), like (0.0164%), make (0.0139%), want (0.0138%), good (0.0131%)\n"
     ]
    }
   ],
   "source": [
    "n_topics = 35\n",
    "more_topics = tp.LDAModel(k = n_topics, corpus = corpus, seed = 357)\n",
    "\n",
    "more_topics.train(iter = n_iters)\n",
    "\n",
    "print_topic_words(more_topics)"
   ]
  },
  {
   "cell_type": "markdown",
   "id": "b2566226",
   "metadata": {},
   "source": [
    "This also looks pretty solid. Between the two models, there appear to be some similar topics, but the second model, \n",
    "which has a higher number of topics, includes a wider range of words in the top word distrubition. While all that \n",
    "seems well and good, we don't yet have a way to determine whether an increase in the number of topics will always \n",
    "produce more interpretable results. At some point, we might start splitting hairs. In fact, we can see this \n",
    "beginning to happen in a few instances with the second model. There are a few topics above that we might prefer to \n",
    "merge into a single one. Maybe topics 23 and 32, for example, would be better off belonging together, rather than \n",
    "staying apart, as they are here.\n",
    "\n",
    "So the question is, what is an ideal number of topics?\n",
    "\n",
    "One way to approach this question would be to run through a range of different topic sizes and inspect the results. \n",
    "In some cases, it can be perfectly valid to pick the number of topics that appears to be the most interpretable for \n",
    "you and the questions you have about your corpus. But there are also a few metrics we can use to measure the \n",
    "quality of a given model in terms of the underlying data it represents. Sometimes these metrics lead to models that \n",
    "aren't quite as interpretable, but they also help us make a more empirically grounded assessment of the resultant \n",
    "topics."
   ]
  },
  {
   "cell_type": "markdown",
   "id": "18b9267d",
   "metadata": {},
   "source": [
    "### Perplexity\n",
    "\n",
    "The first of these measures is **perplexity**. In text mining and natural language processing, we use perplexity \n",
    "scoring to evaluate how well a model predicts an unseen set of words. Essentially, it measures how \"surprised\" a \n",
    "model is by a sequence of unseen words. The lower the perplexity, the more your model is capable of mapping \n",
    "predictions against the data it's been trained on.\n",
    "\n",
    "```{margin} More on perplexity\n",
    "FIND A GOOD EXPLAINER FOR PERPLEXITY\n",
    "```\n",
    "\n",
    "When you train a `tomotopy` model object, the model records a perplexity score for the training run. We can access \n",
    "this score as an attribute for a given model."
   ]
  },
  {
   "cell_type": "code",
   "execution_count": 18,
   "id": "3d6a87c9",
   "metadata": {},
   "outputs": [
    {
     "name": "stdout",
     "output_type": "stream",
     "text": [
      "Perplexity score for the 10-topic model: 9767.1118 \n",
      "Perplexity score for the 35-topic model: 10134.3682\n"
     ]
    }
   ],
   "source": [
    "print(\n",
    "    f\"Perplexity score for the {model.k}-topic model: {model.perplexity:0.4f}\",\n",
    "    f\"\\nPerplexity score for the {more_topics.k}-topic model: {more_topics.perplexity:0.4f}\"\n",
    ")"
   ]
  },
  {
   "cell_type": "markdown",
   "id": "9b8e8782",
   "metadata": {},
   "source": [
    "Interestingly, in this instance, the model with the smaller number of topics has a better perplexity score than the \n",
    "one with more topics. This would suggest that the first model is better fitted to our data and is thus a \"better\" \n",
    "model.\n",
    "\n",
    "It also suggests that there may be a topic size between these two sizes that has an even better perplexity score. \n",
    "We can test to see whether this is the case by constructing a `for` loop, in which we iterate through a number of \n",
    "different topic sizes, train a model with those sizes, and record the resultant perplexity scores."
   ]
  },
  {
   "cell_type": "code",
   "execution_count": 19,
   "id": "ae2f6ac7",
   "metadata": {},
   "outputs": [],
   "source": [
    "n_topic_range = range(10, 31)\n",
    "\n",
    "perplexity_scores = []\n",
    "for k in n_topic_range:\n",
    "    model = tp.LDAModel(k = k, corpus = corpus, seed = 357)\n",
    "    model.train(iter = n_iters)\n",
    "    perplexity_scores.append({'N_TOPICS': k, 'SCORE': model.perplexity})"
   ]
  },
  {
   "cell_type": "markdown",
   "id": "1925d7d2",
   "metadata": {},
   "source": [
    "Let's convert the results to a dataframe and, while we're at it, train a model with the best-scoring number of \n",
    "topics."
   ]
  },
  {
   "cell_type": "code",
   "execution_count": 20,
   "id": "f0b9f299",
   "metadata": {},
   "outputs": [],
   "source": [
    "perplexity_scores = pd.DataFrame(perplexity_scores)\n",
    "perplexity_scores = perplexity_scores.sort_values('SCORE')\n",
    "\n",
    "best_n_topic = perplexity_scores.nsmallest(1, 'SCORE')['N_TOPICS'].item()\n",
    "best_model = tp.LDAModel(k = best_n_topic, corpus = corpus, seed = 357)\n",
    "best_model.train(iter = n_iters)"
   ]
  },
  {
   "cell_type": "markdown",
   "id": "46843d79",
   "metadata": {},
   "source": [
    "Here are the results:"
   ]
  },
  {
   "cell_type": "code",
   "execution_count": 21,
   "id": "69bf9bec",
   "metadata": {},
   "outputs": [
    {
     "data": {
      "text/html": [
       "<div>\n",
       "<style scoped>\n",
       "    .dataframe tbody tr th:only-of-type {\n",
       "        vertical-align: middle;\n",
       "    }\n",
       "\n",
       "    .dataframe tbody tr th {\n",
       "        vertical-align: top;\n",
       "    }\n",
       "\n",
       "    .dataframe thead th {\n",
       "        text-align: right;\n",
       "    }\n",
       "</style>\n",
       "<table border=\"1\" class=\"dataframe\">\n",
       "  <thead>\n",
       "    <tr style=\"text-align: right;\">\n",
       "      <th></th>\n",
       "      <th>N_TOPICS</th>\n",
       "      <th>SCORE</th>\n",
       "    </tr>\n",
       "  </thead>\n",
       "  <tbody>\n",
       "    <tr>\n",
       "      <th>12</th>\n",
       "      <td>22</td>\n",
       "      <td>9743.965507</td>\n",
       "    </tr>\n",
       "    <tr>\n",
       "      <th>0</th>\n",
       "      <td>10</td>\n",
       "      <td>9767.111839</td>\n",
       "    </tr>\n",
       "    <tr>\n",
       "      <th>17</th>\n",
       "      <td>27</td>\n",
       "      <td>9817.241300</td>\n",
       "    </tr>\n",
       "    <tr>\n",
       "      <th>1</th>\n",
       "      <td>11</td>\n",
       "      <td>9854.947514</td>\n",
       "    </tr>\n",
       "    <tr>\n",
       "      <th>7</th>\n",
       "      <td>17</td>\n",
       "      <td>9901.255709</td>\n",
       "    </tr>\n",
       "    <tr>\n",
       "      <th>18</th>\n",
       "      <td>28</td>\n",
       "      <td>9960.354987</td>\n",
       "    </tr>\n",
       "    <tr>\n",
       "      <th>5</th>\n",
       "      <td>15</td>\n",
       "      <td>9980.877440</td>\n",
       "    </tr>\n",
       "    <tr>\n",
       "      <th>13</th>\n",
       "      <td>23</td>\n",
       "      <td>9992.182970</td>\n",
       "    </tr>\n",
       "    <tr>\n",
       "      <th>8</th>\n",
       "      <td>18</td>\n",
       "      <td>10016.706893</td>\n",
       "    </tr>\n",
       "    <tr>\n",
       "      <th>14</th>\n",
       "      <td>24</td>\n",
       "      <td>10072.478196</td>\n",
       "    </tr>\n",
       "    <tr>\n",
       "      <th>11</th>\n",
       "      <td>21</td>\n",
       "      <td>10088.561813</td>\n",
       "    </tr>\n",
       "    <tr>\n",
       "      <th>3</th>\n",
       "      <td>13</td>\n",
       "      <td>10096.603287</td>\n",
       "    </tr>\n",
       "    <tr>\n",
       "      <th>10</th>\n",
       "      <td>20</td>\n",
       "      <td>10097.970560</td>\n",
       "    </tr>\n",
       "    <tr>\n",
       "      <th>6</th>\n",
       "      <td>16</td>\n",
       "      <td>10103.504066</td>\n",
       "    </tr>\n",
       "    <tr>\n",
       "      <th>2</th>\n",
       "      <td>12</td>\n",
       "      <td>10141.311590</td>\n",
       "    </tr>\n",
       "  </tbody>\n",
       "</table>\n",
       "</div>"
      ],
      "text/plain": [
       "    N_TOPICS         SCORE\n",
       "12        22   9743.965507\n",
       "0         10   9767.111839\n",
       "17        27   9817.241300\n",
       "1         11   9854.947514\n",
       "7         17   9901.255709\n",
       "18        28   9960.354987\n",
       "5         15   9980.877440\n",
       "13        23   9992.182970\n",
       "8         18  10016.706893\n",
       "14        24  10072.478196\n",
       "11        21  10088.561813\n",
       "3         13  10096.603287\n",
       "10        20  10097.970560\n",
       "6         16  10103.504066\n",
       "2         12  10141.311590"
      ]
     },
     "execution_count": 21,
     "metadata": {},
     "output_type": "execute_result"
    }
   ],
   "source": [
    "perplexity_scores.head(15)"
   ]
  },
  {
   "cell_type": "markdown",
   "id": "9b86dfb0",
   "metadata": {},
   "source": [
    "In this instance, it looks like 22 topics is the best, though the difference between the perplexity scores for that \n",
    "model and the next best-scoring model, our 10-topic model, are relatively small. Given this, if you find that a \n",
    "10-topic model is more interpretable, you may choose to make a compromise on perplexity and go with that instead."
   ]
  },
  {
   "cell_type": "code",
   "execution_count": 22,
   "id": "e44e273c",
   "metadata": {},
   "outputs": [
    {
     "name": "stdout",
     "output_type": "stream",
     "text": [
      "Topic 0: \n",
      "+ book (0.0318%), story (0.0279%), time (0.0214%), new (0.0184%), novel (0.0166%)\n",
      "Topic 1: \n",
      "+ love (0.0391%), woman (0.0364%), life (0.0232%), mother (0.0203%), family (0.0184%)\n",
      "Topic 2: \n",
      "+ life (0.0400%), world (0.0225%), great (0.0157%), year (0.0137%), story (0.0134%)\n",
      "Topic 3: \n",
      "+ just (0.0201%), like (0.0149%), make (0.0126%), want (0.0124%), know (0.0122%)\n",
      "Topic 4: \n",
      "+ book (0.0269%), child (0.0241%), school (0.0190%), young (0.0186%), kid (0.0169%)\n",
      "Topic 5: \n",
      "+ war (0.0349%), world (0.0182%), battle (0.0152%), fight (0.0131%), force (0.0105%)\n",
      "Topic 6: \n",
      "+ new (0.0383%), york (0.0232%), art (0.0163%), music (0.0135%), street (0.0100%)\n",
      "Topic 7: \n",
      "+ god (0.0361%), spiritual (0.0212%), book (0.0164%), religious (0.0112%), religion (0.0100%)\n",
      "Topic 8: \n",
      "+ home (0.0218%), house (0.0215%), cat (0.0159%), horse (0.0148%), dog (0.0120%)\n",
      "Topic 9: \n",
      "+ adventure (0.0244%), story (0.0237%), tale (0.0155%), book (0.0153%), feature (0.0129%)\n",
      "Topic 10: \n",
      "+ work (0.0272%), classic (0.0211%), year (0.0168%), penguin (0.0154%), literature (0.0133%)\n",
      "Topic 11: \n",
      "+ book (0.0268%), include (0.0163%), help (0.0130%), new (0.0126%), provide (0.0113%)\n",
      "Topic 12: \n",
      "+ food (0.0269%), recipe (0.0257%), family (0.0111%), cook (0.0105%), italian (0.0102%)\n",
      "Topic 13: \n",
      "+ city (0.0249%), london (0.0151%), empire (0.0107%), elizabeth (0.0099%), king (0.0096%)\n",
      "Topic 14: \n",
      "+ new (0.0304%), author (0.0245%), time (0.0231%), bestselling (0.0221%), york (0.0197%)\n",
      "Topic 15: \n",
      "+ travel (0.0194%), sea (0.0168%), new (0.0130%), top (0.0121%), map (0.0119%)\n",
      "Topic 16: \n",
      "+ use (0.0326%), step (0.0179%), simple (0.0150%), book (0.0138%), create (0.0131%)\n",
      "Topic 17: \n",
      "+ team (0.0175%), baseball (0.0170%), sport (0.0164%), hockey (0.0117%), player (0.0111%)\n",
      "Topic 18: \n",
      "+ family (0.0138%), new (0.0136%), secret (0.0135%), know (0.0124%), old (0.0124%)\n",
      "Topic 19: \n",
      "+ magic (0.0159%), king (0.0141%), return (0.0138%), kingdom (0.0116%), power (0.0105%)\n",
      "Topic 20: \n",
      "+ american (0.0246%), history (0.0203%), political (0.0167%), america (0.0158%), state (0.0132%)\n",
      "Topic 21: \n",
      "+ business (0.0122%), problem (0.0105%), success (0.0101%), health (0.0099%), people (0.0097%)\n"
     ]
    }
   ],
   "source": [
    "print_topic_words(best_model)"
   ]
  },
  {
   "cell_type": "markdown",
   "id": "60b01c17",
   "metadata": {},
   "source": [
    "### Coherence\n",
    "\n",
    "If you're having trouble mapping perplexity scores onto interpretable results, you might use a **coherence score** \n",
    "instead. Coherence scores measure the degree of semantic similarity among the words in a topic. Some people prefer \n",
    "to use coherence scoring in place of perplexity because these scores help distinguish the difference between topics \n",
    "that fit snugly on consistent word co-occurence and those that are artifacts of statistical inference.\n",
    "\n",
    "There are a few ways to calculate coherence scores. We'll use `c_v` coherence, which uses the two kinds of text \n",
    "similarity we've already seen in the workshop: pointwise mutual information (PMI) and cosine similarity. This \n",
    "method takes the co-occurence counts of top words in a given topic and calculates a PMI score for each word. Then, \n",
    "it looks to every other topic in the model and calculates a PMI score for the present topic's words and those in \n",
    "the other topics. This results in a series of vectors, which are then measured with cosine similarity.\n",
    "\n",
    "That's a mouthful, but `tomotoy` makes implementing it a breeze. Let's look at the score for the best model above."
   ]
  },
  {
   "cell_type": "code",
   "execution_count": 23,
   "id": "30a5ea5b",
   "metadata": {},
   "outputs": [
    {
     "name": "stdout",
     "output_type": "stream",
     "text": [
      "Coherence score: 0.6051\n"
     ]
    }
   ],
   "source": [
    "from tomotopy.coherence import Coherence\n",
    "\n",
    "coherence = Coherence(best_model, coherence = 'c_v')\n",
    "print(f\"Coherence score: {coherence.get_score():.4f}\")"
   ]
  },
  {
   "cell_type": "markdown",
   "id": "72ecf8d6",
   "metadata": {},
   "source": [
    "Like with perplexity, we can construct a `for` loop and look for the best score among a set of different topic \n",
    "sizes. Here, we're looking for the highest score, which will be a number between 0 and 1."
   ]
  },
  {
   "cell_type": "code",
   "execution_count": 24,
   "id": "f5fa4b34",
   "metadata": {},
   "outputs": [],
   "source": [
    "n_topic_range = range(10, 31)\n",
    "\n",
    "coherence_scores = []\n",
    "for k in n_topic_range:\n",
    "    model = tp.LDAModel(k = k, corpus = corpus, seed = 357)\n",
    "    model.train(iter = n_iters)\n",
    "    coherence = Coherence(model, coherence = 'c_v')\n",
    "    coherence_scores.append({'N_TOPICS': k, 'SCORE': coherence.get_score()})"
   ]
  },
  {
   "cell_type": "markdown",
   "id": "6a7f2c7a",
   "metadata": {},
   "source": [
    "Let's format the scores, find the best one, and train a model on that."
   ]
  },
  {
   "cell_type": "code",
   "execution_count": 25,
   "id": "2bb8acb7",
   "metadata": {},
   "outputs": [],
   "source": [
    "coherence_scores = pd.DataFrame(coherence_scores)\n",
    "coherence_scores = coherence_scores.sort_values('SCORE', ascending = False)\n",
    "\n",
    "best_n_topic = perplexity_scores.nlargest(1, 'SCORE')['N_TOPICS'].item()\n",
    "best_model = tp.LDAModel(k = best_n_topic, corpus = corpus, seed = 357)\n",
    "best_model.train(iter = n_iters)"
   ]
  },
  {
   "cell_type": "code",
   "execution_count": 26,
   "id": "4dd40915",
   "metadata": {},
   "outputs": [
    {
     "data": {
      "text/html": [
       "<div>\n",
       "<style scoped>\n",
       "    .dataframe tbody tr th:only-of-type {\n",
       "        vertical-align: middle;\n",
       "    }\n",
       "\n",
       "    .dataframe tbody tr th {\n",
       "        vertical-align: top;\n",
       "    }\n",
       "\n",
       "    .dataframe thead th {\n",
       "        text-align: right;\n",
       "    }\n",
       "</style>\n",
       "<table border=\"1\" class=\"dataframe\">\n",
       "  <thead>\n",
       "    <tr style=\"text-align: right;\">\n",
       "      <th></th>\n",
       "      <th>N_TOPICS</th>\n",
       "      <th>SCORE</th>\n",
       "    </tr>\n",
       "  </thead>\n",
       "  <tbody>\n",
       "    <tr>\n",
       "      <th>19</th>\n",
       "      <td>29</td>\n",
       "      <td>0.655928</td>\n",
       "    </tr>\n",
       "    <tr>\n",
       "      <th>18</th>\n",
       "      <td>28</td>\n",
       "      <td>0.654988</td>\n",
       "    </tr>\n",
       "    <tr>\n",
       "      <th>17</th>\n",
       "      <td>27</td>\n",
       "      <td>0.648859</td>\n",
       "    </tr>\n",
       "    <tr>\n",
       "      <th>20</th>\n",
       "      <td>30</td>\n",
       "      <td>0.645488</td>\n",
       "    </tr>\n",
       "    <tr>\n",
       "      <th>13</th>\n",
       "      <td>23</td>\n",
       "      <td>0.624086</td>\n",
       "    </tr>\n",
       "    <tr>\n",
       "      <th>15</th>\n",
       "      <td>25</td>\n",
       "      <td>0.615611</td>\n",
       "    </tr>\n",
       "    <tr>\n",
       "      <th>16</th>\n",
       "      <td>26</td>\n",
       "      <td>0.608920</td>\n",
       "    </tr>\n",
       "    <tr>\n",
       "      <th>12</th>\n",
       "      <td>22</td>\n",
       "      <td>0.605131</td>\n",
       "    </tr>\n",
       "    <tr>\n",
       "      <th>11</th>\n",
       "      <td>21</td>\n",
       "      <td>0.599103</td>\n",
       "    </tr>\n",
       "    <tr>\n",
       "      <th>14</th>\n",
       "      <td>24</td>\n",
       "      <td>0.595933</td>\n",
       "    </tr>\n",
       "    <tr>\n",
       "      <th>8</th>\n",
       "      <td>18</td>\n",
       "      <td>0.579910</td>\n",
       "    </tr>\n",
       "    <tr>\n",
       "      <th>10</th>\n",
       "      <td>20</td>\n",
       "      <td>0.578593</td>\n",
       "    </tr>\n",
       "    <tr>\n",
       "      <th>5</th>\n",
       "      <td>15</td>\n",
       "      <td>0.570283</td>\n",
       "    </tr>\n",
       "    <tr>\n",
       "      <th>7</th>\n",
       "      <td>17</td>\n",
       "      <td>0.558606</td>\n",
       "    </tr>\n",
       "    <tr>\n",
       "      <th>9</th>\n",
       "      <td>19</td>\n",
       "      <td>0.558422</td>\n",
       "    </tr>\n",
       "    <tr>\n",
       "      <th>3</th>\n",
       "      <td>13</td>\n",
       "      <td>0.554183</td>\n",
       "    </tr>\n",
       "    <tr>\n",
       "      <th>6</th>\n",
       "      <td>16</td>\n",
       "      <td>0.534431</td>\n",
       "    </tr>\n",
       "    <tr>\n",
       "      <th>4</th>\n",
       "      <td>14</td>\n",
       "      <td>0.521571</td>\n",
       "    </tr>\n",
       "    <tr>\n",
       "      <th>2</th>\n",
       "      <td>12</td>\n",
       "      <td>0.516569</td>\n",
       "    </tr>\n",
       "    <tr>\n",
       "      <th>0</th>\n",
       "      <td>10</td>\n",
       "      <td>0.511096</td>\n",
       "    </tr>\n",
       "    <tr>\n",
       "      <th>1</th>\n",
       "      <td>11</td>\n",
       "      <td>0.499647</td>\n",
       "    </tr>\n",
       "  </tbody>\n",
       "</table>\n",
       "</div>"
      ],
      "text/plain": [
       "    N_TOPICS     SCORE\n",
       "19        29  0.655928\n",
       "18        28  0.654988\n",
       "17        27  0.648859\n",
       "20        30  0.645488\n",
       "13        23  0.624086\n",
       "15        25  0.615611\n",
       "16        26  0.608920\n",
       "12        22  0.605131\n",
       "11        21  0.599103\n",
       "14        24  0.595933\n",
       "8         18  0.579910\n",
       "10        20  0.578593\n",
       "5         15  0.570283\n",
       "7         17  0.558606\n",
       "9         19  0.558422\n",
       "3         13  0.554183\n",
       "6         16  0.534431\n",
       "4         14  0.521571\n",
       "2         12  0.516569\n",
       "0         10  0.511096\n",
       "1         11  0.499647"
      ]
     },
     "execution_count": 26,
     "metadata": {},
     "output_type": "execute_result"
    }
   ],
   "source": [
    "coherence_scores"
   ]
  },
  {
   "cell_type": "markdown",
   "id": "71b6eaef",
   "metadata": {},
   "source": [
    "Looks like a 29-topic model wins out!"
   ]
  },
  {
   "cell_type": "code",
   "execution_count": 27,
   "id": "f679149d",
   "metadata": {},
   "outputs": [
    {
     "name": "stdout",
     "output_type": "stream",
     "text": [
      "Topic 0: \n",
      "+ life (0.0506%), book (0.0211%), live (0.0142%), experience (0.0133%), offer (0.0124%)\n",
      "Topic 1: \n",
      "+ war (0.0329%), soldier (0.0166%), american (0.0133%), men (0.0133%), military (0.0112%)\n",
      "Topic 2: \n",
      "+ baby (0.0162%), feel (0.0140%), fly (0.0129%), touch (0.0123%), rat (0.0112%)\n",
      "Topic 3: \n",
      "+ friend (0.0323%), girl (0.0301%), love (0.0296%), old (0.0195%), brother (0.0150%)\n",
      "Topic 4: \n",
      "+ new (0.0424%), book (0.0368%), time (0.0296%), york (0.0271%), review (0.0179%)\n",
      "Topic 5: \n",
      "+ just (0.0196%), time (0.0159%), make (0.0146%), like (0.0145%), know (0.0132%)\n",
      "Topic 6: \n",
      "+ guide (0.0242%), travel (0.0233%), top (0.0170%), new (0.0166%), eyewitness (0.0161%)\n",
      "Topic 7: \n",
      "+ world (0.0338%), human (0.0310%), new (0.0224%), people (0.0152%), way (0.0142%)\n",
      "Topic 8: \n",
      "+ star (0.0243%), war (0.0211%), lego (0.0170%), universe (0.0138%), set (0.0124%)\n",
      "Topic 9: \n",
      "+ london (0.0222%), ben (0.0114%), lady (0.0107%), freud (0.0100%), lacey (0.0093%)\n",
      "Topic 10: \n",
      "+ classic (0.0288%), work (0.0252%), english (0.0194%), penguin (0.0191%), literature (0.0180%)\n",
      "Topic 11: \n",
      "+ god (0.0330%), magic (0.0210%), king (0.0191%), return (0.0158%), kingdom (0.0153%)\n",
      "Topic 12: \n",
      "+ guide (0.0227%), use (0.0226%), book (0.0213%), step (0.0180%), learn (0.0163%)\n",
      "Topic 13: \n",
      "+ people (0.0145%), show (0.0136%), business (0.0124%), think (0.0123%), study (0.0121%)\n",
      "Topic 14: \n",
      "+ music (0.0222%), sport (0.0163%), team (0.0155%), star (0.0134%), baseball (0.0130%)\n",
      "Topic 15: \n",
      "+ home (0.0270%), year (0.0245%), family (0.0219%), life (0.0193%), old (0.0177%)\n",
      "Topic 16: \n",
      "+ book (0.0458%), reader (0.0166%), read (0.0156%), child (0.0155%), feature (0.0147%)\n",
      "Topic 17: \n",
      "+ health (0.0171%), program (0.0128%), body (0.0124%), plan (0.0117%), help (0.0114%)\n",
      "Topic 18: \n",
      "+ murder (0.0317%), town (0.0270%), mystery (0.0258%), death (0.0188%), police (0.0137%)\n",
      "Topic 19: \n",
      "+ comic (0.0279%), cat (0.0228%), poem (0.0217%), animal (0.0199%), cole (0.0165%)\n",
      "Topic 20: \n",
      "+ tale (0.0337%), horse (0.0263%), ship (0.0189%), adventure (0.0164%), sea (0.0144%)\n",
      "Topic 21: \n",
      "+ christmas (0.0234%), tree (0.0168%), house (0.0156%), jack (0.0135%), night (0.0127%)\n",
      "Topic 22: \n",
      "+ political (0.0253%), state (0.0200%), american (0.0149%), america (0.0144%), power (0.0121%)\n",
      "Topic 23: \n",
      "+ story (0.0397%), year (0.0211%), world (0.0173%), life (0.0138%), become (0.0121%)\n",
      "Topic 24: \n",
      "+ art (0.0255%), work (0.0189%), history (0.0158%), artist (0.0143%), life (0.0141%)\n",
      "Topic 25: \n",
      "+ century (0.0257%), history (0.0161%), john (0.0138%), war (0.0130%), figure (0.0092%)\n",
      "Topic 26: \n",
      "+ woman (0.0427%), love (0.0375%), life (0.0276%), mother (0.0167%), heart (0.0153%)\n",
      "Topic 27: \n",
      "+ new (0.0268%), author (0.0216%), novel (0.0171%), time (0.0158%), series (0.0158%)\n",
      "Topic 28: \n",
      "+ world (0.0165%), secret (0.0137%), know (0.0133%), face (0.0098%), dark (0.0096%)\n",
      "Topic 29: \n",
      "+ recipe (0.0304%), food (0.0279%), family (0.0143%), cook (0.0133%), drink (0.0129%)\n"
     ]
    }
   ],
   "source": [
    "print_topic_words(best_model)"
   ]
  },
  {
   "cell_type": "markdown",
   "id": "1bc9479d",
   "metadata": {},
   "source": [
    "Fine Tuning: Advanced\n",
    "---------------------------"
   ]
  },
  {
   "cell_type": "code",
   "execution_count": null,
   "id": "6dcfeda2",
   "metadata": {},
   "outputs": [],
   "source": []
  }
 ],
 "metadata": {
  "kernelspec": {
   "display_name": "nlp",
   "language": "python",
   "name": "nlp"
  },
  "language_info": {
   "codemirror_mode": {
    "name": "ipython",
    "version": 3
   },
   "file_extension": ".py",
   "mimetype": "text/x-python",
   "name": "python",
   "nbconvert_exporter": "python",
   "pygments_lexer": "ipython3",
   "version": "3.7.3"
  }
 },
 "nbformat": 4,
 "nbformat_minor": 5
}
