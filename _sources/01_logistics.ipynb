{
 "cells": [
  {
   "cell_type": "markdown",
   "id": "0f29d934",
   "metadata": {},
   "source": [
    "Logistics\n",
    "=======\n",
    "\n",
    "```{admonition} Learning objectives\n",
    "By the end of this series, you will be able to:\n",
    "+ Prepare textual data for analysis using a variety of cleaning proceses\n",
    "+ Recognize and explain how these cleaning processes impact research findings\n",
    "+ Explain key terminology in text mining, including \"tokenization,\" \"n-grams,\" \"dependency parsing,\" \"stylometry\"\n",
    "+ Use special data structures such as document-term matrices to efficiently analyze multiple texts\n",
    "+ Use statistical measures (pointwise mutual information, tf-idf) to identify significant patterns in text\n",
    "+ Classify texts on the basis of such measures\n",
    "+ Produce statistical models of \"topics\" from/about a collection of texts\n",
    "```\n",
    "\n",
    "File and Data Setup\n",
    "-----------------------"
   ]
  },
  {
   "cell_type": "code",
   "execution_count": null,
   "id": "410e7d08",
   "metadata": {},
   "outputs": [],
   "source": []
  }
 ],
 "metadata": {
  "kernelspec": {
   "display_name": "nlp",
   "language": "python",
   "name": "nlp"
  },
  "language_info": {
   "codemirror_mode": {
    "name": "ipython",
    "version": 3
   },
   "file_extension": ".py",
   "mimetype": "text/x-python",
   "name": "python",
   "nbconvert_exporter": "python",
   "pygments_lexer": "ipython3",
   "version": "3.7.3"
  }
 },
 "nbformat": 4,
 "nbformat_minor": 5
}
