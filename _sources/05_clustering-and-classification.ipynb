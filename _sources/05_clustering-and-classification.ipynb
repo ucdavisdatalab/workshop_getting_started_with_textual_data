{
 "cells": [
  {
   "cell_type": "markdown",
   "id": "81cb0775",
   "metadata": {},
   "source": [
    "Clustering and Classification\n",
    "=======================\n",
    "\n",
    "This chapter is a direct extension of the last. In Chapter 4, we learned how to build a corpus from a collection of \n",
    "text files and produce different metrics about them using a document-term matrix. For the most part these metrics \n",
    "hewed either toward the level of documents or the level of terms; we hadn't yet discussed ways to more fully weave \n",
    "these two aspects of our corpus together. We'll do so now. In this chapter, we will learn how to identify \n",
    "similarities between texts using a more general measure of the various features recorded in a document-term matrix. \n",
    "With this measure, we'll be able to cluster the obituaries in our corpus into distinct groups, which may in turn \n",
    "tell us something about the overall shape of our corpus, its trends, its patterns, etc.\n",
    "\n",
    "The applications of this technique are broad. Search engines use text similarity to identify relevant results for \n",
    "queries; literature scholars consult it to investigate authorship and topicality. Below, we'll walk through the \n",
    "concepts that underly text similarity show a few examples of how to explore and interpret the results of this \n",
    "measure.\n",
    "\n",
    "```{admonition} Learning objectives\n",
    "By the end of this chapter, you will be able to:\n",
    "+ Rank documents by similarity, using a cosine distance measure\n",
    "+ Project documents into a feature space to visualize their similarities\n",
    "+ Cluster documents by their similarities\n",
    "```"
   ]
  },
  {
   "cell_type": "markdown",
   "id": "64a94154",
   "metadata": {},
   "source": [
    "The Vector Space Concept\n",
    "-------------------------------\n",
    "\n",
    "To measure similarities between documents, we need to make a bit of a conceptual leap. Imagine projecting every \n",
    "document in our corpus into a space. In this space, similar documents have similar orientations to a point of \n",
    "origin (in this case, the origin point of XY axes), while dissimilar ones have different orientations. Guiding \n",
    "these orientations are the values for each term in a document. Here, _space is a metaphor for semantics_.\n",
    "\n",
    "### Plotting an example\n",
    "\n",
    "We can build a toy example to demonstrate this. Imagine two documents, each with a value for two terms."
   ]
  },
  {
   "cell_type": "code",
   "execution_count": 1,
   "id": "89fe4635",
   "metadata": {},
   "outputs": [
    {
     "data": {
      "text/html": [
       "<div>\n",
       "<style scoped>\n",
       "    .dataframe tbody tr th:only-of-type {\n",
       "        vertical-align: middle;\n",
       "    }\n",
       "\n",
       "    .dataframe tbody tr th {\n",
       "        vertical-align: top;\n",
       "    }\n",
       "\n",
       "    .dataframe thead th {\n",
       "        text-align: right;\n",
       "    }\n",
       "</style>\n",
       "<table border=\"1\" class=\"dataframe\">\n",
       "  <thead>\n",
       "    <tr style=\"text-align: right;\">\n",
       "      <th></th>\n",
       "      <th>page</th>\n",
       "      <th>screen</th>\n",
       "    </tr>\n",
       "  </thead>\n",
       "  <tbody>\n",
       "    <tr>\n",
       "      <th>Document 1</th>\n",
       "      <td>18</td>\n",
       "      <td>7</td>\n",
       "    </tr>\n",
       "    <tr>\n",
       "      <th>Document 2</th>\n",
       "      <td>4</td>\n",
       "      <td>12</td>\n",
       "    </tr>\n",
       "  </tbody>\n",
       "</table>\n",
       "</div>"
      ],
      "text/plain": [
       "            page  screen\n",
       "Document 1    18       7\n",
       "Document 2     4      12"
      ]
     },
     "execution_count": 1,
     "metadata": {},
     "output_type": "execute_result"
    }
   ],
   "source": [
    "import pandas as pd\n",
    "import numpy as np\n",
    "\n",
    "ex1 = np.array([[18, 7], [4, 12]])\n",
    "ex1_dtm = pd.DataFrame(ex1, columns = ['page', 'screen'], index = ['Document 1', 'Document 2'])\n",
    "ex1_dtm"
   ]
  },
  {
   "cell_type": "markdown",
   "id": "5b3ea45f",
   "metadata": {},
   "source": [
    "Since there are only two terms here, we can directly plot this data using XY coordinates."
   ]
  },
  {
   "cell_type": "code",
   "execution_count": 2,
   "id": "3b1ad31a",
   "metadata": {
    "scrolled": false
   },
   "outputs": [
    {
     "data": {
      "image/png": "[encoded data removed]",
      "text/plain": [
       "<Figure size 720x720 with 1 Axes>"
      ]
     },
     "metadata": {
      "needs_background": "light"
     },
     "output_type": "display_data"
    }
   ],
   "source": [
    "import matplotlib.pyplot as plt\n",
    "\n",
    "origin = np.array([[0, 0], [0, 0]])\n",
    "\n",
    "fig, ax = plt.subplots(figsize = (10, 10))\n",
    "plt.quiver(*origin, ex1_dtm['page'], ex1_dtm['screen'], scale = 1, units = 'xy')\n",
    "plt.setp(ax, xlim = (0, 20), ylim = (0, 20), xticks = range(0, 21), yticks = range(0, 21))\n",
    "plt.setp(ax, xlabel = 'screen', ylabel = 'page')\n",
    "\n",
    "for doc in ex1_dtm.index:\n",
    "    plt.text(ex1_dtm.loc[doc, 'page'],\n",
    "             ex1_dtm.loc[doc, 'screen'] + 0.5,\n",
    "             doc,\n",
    "             va = 'top',\n",
    "             ha = 'center'\n",
    "            )\n",
    "\n",
    "plt.show()"
   ]
  },
  {
   "cell_type": "markdown",
   "id": "f352632f",
   "metadata": {},
   "source": [
    "In this plot, we're particularly interested in the angle created by the two documents. Right now, this angle is \n",
    "fairly wide, as the differences between the two counts in each document are rough inverses of one another. Document \n",
    "1 has more counts for \"page\" than \"screen,\" whereas Document 2 is the other way around.\n",
    "\n",
    "But if we change the counts in Document 1 to be more like those in Document 2..."
   ]
  },
  {
   "cell_type": "code",
   "execution_count": 3,
   "id": "89d0a725",
   "metadata": {},
   "outputs": [
    {
     "data": {
      "text/html": [
       "<div>\n",
       "<style scoped>\n",
       "    .dataframe tbody tr th:only-of-type {\n",
       "        vertical-align: middle;\n",
       "    }\n",
       "\n",
       "    .dataframe tbody tr th {\n",
       "        vertical-align: top;\n",
       "    }\n",
       "\n",
       "    .dataframe thead th {\n",
       "        text-align: right;\n",
       "    }\n",
       "</style>\n",
       "<table border=\"1\" class=\"dataframe\">\n",
       "  <thead>\n",
       "    <tr style=\"text-align: right;\">\n",
       "      <th></th>\n",
       "      <th>page</th>\n",
       "      <th>screen</th>\n",
       "    </tr>\n",
       "  </thead>\n",
       "  <tbody>\n",
       "    <tr>\n",
       "      <th>Document 1</th>\n",
       "      <td>10</td>\n",
       "      <td>18</td>\n",
       "    </tr>\n",
       "    <tr>\n",
       "      <th>Document 2</th>\n",
       "      <td>4</td>\n",
       "      <td>12</td>\n",
       "    </tr>\n",
       "  </tbody>\n",
       "</table>\n",
       "</div>"
      ],
      "text/plain": [
       "            page  screen\n",
       "Document 1    10      18\n",
       "Document 2     4      12"
      ]
     },
     "execution_count": 3,
     "metadata": {},
     "output_type": "execute_result"
    }
   ],
   "source": [
    "ex2 = np.array([[10, 18], [4, 12]])\n",
    "ex2_dtm = pd.DataFrame(ex2, columns = ['page', 'screen'], index = ['Document 1', 'Document 2'])\n",
    "ex2_dtm"
   ]
  },
  {
   "cell_type": "markdown",
   "id": "9463d2fe",
   "metadata": {},
   "source": [
    "...and replot our documents..."
   ]
  },
  {
   "cell_type": "code",
   "execution_count": 4,
   "id": "f1414dc6",
   "metadata": {},
   "outputs": [
    {
     "data": {
      "image/png": "[encoded data removed]",
      "text/plain": [
       "<Figure size 720x720 with 1 Axes>"
      ]
     },
     "metadata": {
      "needs_background": "light"
     },
     "output_type": "display_data"
    }
   ],
   "source": [
    "fig, ax = plt.subplots(figsize = (10, 10))\n",
    "plt.quiver(*origin, ex2_dtm['page'], ex2_dtm['screen'], scale = 1, units = 'xy')\n",
    "plt.setp(ax, xlim = (0, 20), ylim = (0, 20), xticks = range(0, 21), yticks = range(0, 21))\n",
    "plt.setp(ax, xlabel = 'screen', ylabel = 'page')\n",
    "\n",
    "for doc in ex2_dtm.index:\n",
    "    plt.text(ex2_dtm.loc[doc, 'page'],\n",
    "             ex2_dtm.loc[doc, 'screen'] + 0.5,\n",
    "             doc,\n",
    "             va = 'top',\n",
    "             ha = 'center'\n",
    "            )\n",
    "\n",
    "plt.show()"
   ]
  },
  {
   "cell_type": "markdown",
   "id": "06c7fbf9",
   "metadata": {},
   "source": [
    "...we'll see that the angle has shrunk considerably. Document 1 is more like Document 2. Importantly, this \n",
    "similarity is relatively impervious to the actual value for each word. The counts for Document 1 and Document 2 are \n",
    "still quite different, but the _overall relationship_ between the values for each word is now similar: both \n",
    "documents have more instances of \"screen\" than \"page,\" and our method of projecting them into this space, or what \n",
    "we call a **vector space**, captures this."
   ]
  },
  {
   "cell_type": "markdown",
   "id": "97fde484",
   "metadata": {},
   "source": [
    "### Cosine similarity\n",
    "\n",
    "We can assign a concrete metric to the difference in these angles using a **cosine similarity** score. Cosine \n",
    "similarity measures the inner product space between two vectors, that is, the amount of space created by \n",
    "divergences in the attribute values of each vector. Typically, we express it within a bounded interval, [0,1], \n",
    "where 0 stands for a right angle between two vectors and 1 measures vectors that completely overlap.\n",
    "\n",
    "Formally, we express cosine similarity as\n",
    "\n",
    "$similarity_{xy} = \\frac{x \\cdot y}{\\Vert x \\Vert \\cdot \\Vert y \\Vert}$\n",
    "\n",
    "where $x \\cdot y$ is the dot product of two vectors. But we don't need to worry about implementing this ourselves. \n",
    "`scikit-learn` has a one-liner for this, which we can use on our two example vectors to demontrate how it works. It \n",
    "will output a square matrix of values, where each cell is the cosine similarity measure of the intersection between \n",
    "a column and a row. (You'll note, for example, that there are 1s in the following matrices: these are the \n",
    "intersections of a document with itself.)"
   ]
  },
  {
   "cell_type": "code",
   "execution_count": 5,
   "id": "3ca36ce2",
   "metadata": {},
   "outputs": [
    {
     "name": "stdout",
     "output_type": "stream",
     "text": [
      "Cosine similarity for first example, where:\n"
     ]
    },
    {
     "data": {
      "text/html": [
       "<div>\n",
       "<style scoped>\n",
       "    .dataframe tbody tr th:only-of-type {\n",
       "        vertical-align: middle;\n",
       "    }\n",
       "\n",
       "    .dataframe tbody tr th {\n",
       "        vertical-align: top;\n",
       "    }\n",
       "\n",
       "    .dataframe thead th {\n",
       "        text-align: right;\n",
       "    }\n",
       "</style>\n",
       "<table border=\"1\" class=\"dataframe\">\n",
       "  <thead>\n",
       "    <tr style=\"text-align: right;\">\n",
       "      <th></th>\n",
       "      <th>page</th>\n",
       "      <th>screen</th>\n",
       "    </tr>\n",
       "  </thead>\n",
       "  <tbody>\n",
       "    <tr>\n",
       "      <th>Document 1</th>\n",
       "      <td>18</td>\n",
       "      <td>7</td>\n",
       "    </tr>\n",
       "    <tr>\n",
       "      <th>Document 2</th>\n",
       "      <td>4</td>\n",
       "      <td>12</td>\n",
       "    </tr>\n",
       "  </tbody>\n",
       "</table>\n",
       "</div>"
      ],
      "text/plain": [
       "            page  screen\n",
       "Document 1    18       7\n",
       "Document 2     4      12"
      ]
     },
     "metadata": {},
     "output_type": "display_data"
    },
    {
     "data": {
      "text/html": [
       "<div>\n",
       "<style scoped>\n",
       "    .dataframe tbody tr th:only-of-type {\n",
       "        vertical-align: middle;\n",
       "    }\n",
       "\n",
       "    .dataframe tbody tr th {\n",
       "        vertical-align: top;\n",
       "    }\n",
       "\n",
       "    .dataframe thead th {\n",
       "        text-align: right;\n",
       "    }\n",
       "</style>\n",
       "<table border=\"1\" class=\"dataframe\">\n",
       "  <thead>\n",
       "    <tr style=\"text-align: right;\">\n",
       "      <th></th>\n",
       "      <th>Document 1</th>\n",
       "      <th>Document 2</th>\n",
       "    </tr>\n",
       "  </thead>\n",
       "  <tbody>\n",
       "    <tr>\n",
       "      <th>Document 1</th>\n",
       "      <td>1.000000</td>\n",
       "      <td>0.638572</td>\n",
       "    </tr>\n",
       "    <tr>\n",
       "      <th>Document 2</th>\n",
       "      <td>0.638572</td>\n",
       "      <td>1.000000</td>\n",
       "    </tr>\n",
       "  </tbody>\n",
       "</table>\n",
       "</div>"
      ],
      "text/plain": [
       "            Document 1  Document 2\n",
       "Document 1    1.000000    0.638572\n",
       "Document 2    0.638572    1.000000"
      ]
     },
     "metadata": {},
     "output_type": "display_data"
    },
    {
     "name": "stdout",
     "output_type": "stream",
     "text": [
      "...or, simplified: 0.64\n"
     ]
    }
   ],
   "source": [
    "from sklearn.metrics.pairwise import cosine_similarity\n",
    "\n",
    "print(\"Cosine similarity for first example, where:\")\n",
    "display(ex1_dtm)\n",
    "display(pd.DataFrame(cosine_similarity(ex1), columns = ex1_dtm.index, index = ex1_dtm.index))\n",
    "print(f\"...or, simplified: {cosine_similarity(ex1)[0][1]:0.2f}\")"
   ]
  },
  {
   "cell_type": "code",
   "execution_count": 6,
   "id": "79e9a9ba",
   "metadata": {},
   "outputs": [
    {
     "name": "stdout",
     "output_type": "stream",
     "text": [
      "Cosine similarity for second example, where:\n"
     ]
    },
    {
     "data": {
      "text/html": [
       "<div>\n",
       "<style scoped>\n",
       "    .dataframe tbody tr th:only-of-type {\n",
       "        vertical-align: middle;\n",
       "    }\n",
       "\n",
       "    .dataframe tbody tr th {\n",
       "        vertical-align: top;\n",
       "    }\n",
       "\n",
       "    .dataframe thead th {\n",
       "        text-align: right;\n",
       "    }\n",
       "</style>\n",
       "<table border=\"1\" class=\"dataframe\">\n",
       "  <thead>\n",
       "    <tr style=\"text-align: right;\">\n",
       "      <th></th>\n",
       "      <th>page</th>\n",
       "      <th>screen</th>\n",
       "    </tr>\n",
       "  </thead>\n",
       "  <tbody>\n",
       "    <tr>\n",
       "      <th>Document 1</th>\n",
       "      <td>10</td>\n",
       "      <td>18</td>\n",
       "    </tr>\n",
       "    <tr>\n",
       "      <th>Document 2</th>\n",
       "      <td>4</td>\n",
       "      <td>12</td>\n",
       "    </tr>\n",
       "  </tbody>\n",
       "</table>\n",
       "</div>"
      ],
      "text/plain": [
       "            page  screen\n",
       "Document 1    10      18\n",
       "Document 2     4      12"
      ]
     },
     "metadata": {},
     "output_type": "display_data"
    },
    {
     "data": {
      "text/html": [
       "<div>\n",
       "<style scoped>\n",
       "    .dataframe tbody tr th:only-of-type {\n",
       "        vertical-align: middle;\n",
       "    }\n",
       "\n",
       "    .dataframe tbody tr th {\n",
       "        vertical-align: top;\n",
       "    }\n",
       "\n",
       "    .dataframe thead th {\n",
       "        text-align: right;\n",
       "    }\n",
       "</style>\n",
       "<table border=\"1\" class=\"dataframe\">\n",
       "  <thead>\n",
       "    <tr style=\"text-align: right;\">\n",
       "      <th></th>\n",
       "      <th>Document 1</th>\n",
       "      <th>Document 2</th>\n",
       "    </tr>\n",
       "  </thead>\n",
       "  <tbody>\n",
       "    <tr>\n",
       "      <th>Document 1</th>\n",
       "      <td>1.000000</td>\n",
       "      <td>0.982872</td>\n",
       "    </tr>\n",
       "    <tr>\n",
       "      <th>Document 2</th>\n",
       "      <td>0.982872</td>\n",
       "      <td>1.000000</td>\n",
       "    </tr>\n",
       "  </tbody>\n",
       "</table>\n",
       "</div>"
      ],
      "text/plain": [
       "            Document 1  Document 2\n",
       "Document 1    1.000000    0.982872\n",
       "Document 2    0.982872    1.000000"
      ]
     },
     "metadata": {},
     "output_type": "display_data"
    },
    {
     "name": "stdout",
     "output_type": "stream",
     "text": [
      "...or, simplified: 0.98\n"
     ]
    }
   ],
   "source": [
    "print(\"Cosine similarity for second example, where:\")\n",
    "display(ex2_dtm)\n",
    "display(pd.DataFrame(cosine_similarity(ex2), columns = ex2_dtm.index, index = ex2_dtm.index))\n",
    "print(f\"...or, simplified: {cosine_similarity(ex2)[0][1]:0.2f}\")"
   ]
  },
  {
   "cell_type": "markdown",
   "id": "123829e1",
   "metadata": {},
   "source": [
    "Of the two examples, which one has more similar documents? Our second one: the cosine similarity score is 0.98, far \n",
    "higher than 0.64."
   ]
  },
  {
   "cell_type": "markdown",
   "id": "d0883b5e",
   "metadata": {},
   "source": [
    "Measuring Similarity\n",
    "------------------------\n",
    "\n",
    "With the principles of text similarity laid out, we can load in the document-matrix we've already created and, for \n",
    "each text in our corpus, compute a cosine similarity measure between that text and all the others. But rather \n",
    "than only measuring the attribute values between two terms, as above, we'll instead measure the values of every \n",
    "single tf-idf score in our corpus."
   ]
  },
  {
   "cell_type": "code",
   "execution_count": 7,
   "id": "eb7229c8",
   "metadata": {},
   "outputs": [
    {
     "data": {
      "text/html": [
       "<div>\n",
       "<style scoped>\n",
       "    .dataframe tbody tr th:only-of-type {\n",
       "        vertical-align: middle;\n",
       "    }\n",
       "\n",
       "    .dataframe tbody tr th {\n",
       "        vertical-align: top;\n",
       "    }\n",
       "\n",
       "    .dataframe thead th {\n",
       "        text-align: right;\n",
       "    }\n",
       "</style>\n",
       "<table border=\"1\" class=\"dataframe\">\n",
       "  <thead>\n",
       "    <tr style=\"text-align: right;\">\n",
       "      <th></th>\n",
       "      <th>absorb</th>\n",
       "      <th>absorbed</th>\n",
       "      <th>absorption</th>\n",
       "      <th>abstain</th>\n",
       "      <th>abstemious</th>\n",
       "      <th>abstemiousness</th>\n",
       "      <th>abstention</th>\n",
       "      <th>abstinence</th>\n",
       "      <th>abstinent</th>\n",
       "      <th>abstract</th>\n",
       "      <th>abstraction</th>\n",
       "      <th>abstractions</th>\n",
       "      <th>abstracts</th>\n",
       "      <th>abstruse</th>\n",
       "      <th>absurd</th>\n",
       "    </tr>\n",
       "    <tr>\n",
       "      <th>NAME</th>\n",
       "      <th></th>\n",
       "      <th></th>\n",
       "      <th></th>\n",
       "      <th></th>\n",
       "      <th></th>\n",
       "      <th></th>\n",
       "      <th></th>\n",
       "      <th></th>\n",
       "      <th></th>\n",
       "      <th></th>\n",
       "      <th></th>\n",
       "      <th></th>\n",
       "      <th></th>\n",
       "      <th></th>\n",
       "      <th></th>\n",
       "    </tr>\n",
       "  </thead>\n",
       "  <tbody>\n",
       "    <tr>\n",
       "      <th>Ada Lovelace</th>\n",
       "      <td>0.0</td>\n",
       "      <td>0.0</td>\n",
       "      <td>0.0</td>\n",
       "      <td>0.0</td>\n",
       "      <td>0.000000</td>\n",
       "      <td>0.0</td>\n",
       "      <td>0.0</td>\n",
       "      <td>0.0</td>\n",
       "      <td>0.0</td>\n",
       "      <td>0.055834</td>\n",
       "      <td>0.0</td>\n",
       "      <td>0.0</td>\n",
       "      <td>0.0</td>\n",
       "      <td>0.0</td>\n",
       "      <td>0.0</td>\n",
       "    </tr>\n",
       "    <tr>\n",
       "      <th>Robert E Lee</th>\n",
       "      <td>0.0</td>\n",
       "      <td>0.0</td>\n",
       "      <td>0.0</td>\n",
       "      <td>0.0</td>\n",
       "      <td>0.000000</td>\n",
       "      <td>0.0</td>\n",
       "      <td>0.0</td>\n",
       "      <td>0.0</td>\n",
       "      <td>0.0</td>\n",
       "      <td>0.000000</td>\n",
       "      <td>0.0</td>\n",
       "      <td>0.0</td>\n",
       "      <td>0.0</td>\n",
       "      <td>0.0</td>\n",
       "      <td>0.0</td>\n",
       "    </tr>\n",
       "    <tr>\n",
       "      <th>Andrew Johnson</th>\n",
       "      <td>0.0</td>\n",
       "      <td>0.0</td>\n",
       "      <td>0.0</td>\n",
       "      <td>0.0</td>\n",
       "      <td>0.000000</td>\n",
       "      <td>0.0</td>\n",
       "      <td>0.0</td>\n",
       "      <td>0.0</td>\n",
       "      <td>0.0</td>\n",
       "      <td>0.000000</td>\n",
       "      <td>0.0</td>\n",
       "      <td>0.0</td>\n",
       "      <td>0.0</td>\n",
       "      <td>0.0</td>\n",
       "      <td>0.0</td>\n",
       "    </tr>\n",
       "    <tr>\n",
       "      <th>Bedford Forrest</th>\n",
       "      <td>0.0</td>\n",
       "      <td>0.0</td>\n",
       "      <td>0.0</td>\n",
       "      <td>0.0</td>\n",
       "      <td>0.023602</td>\n",
       "      <td>0.0</td>\n",
       "      <td>0.0</td>\n",
       "      <td>0.0</td>\n",
       "      <td>0.0</td>\n",
       "      <td>0.000000</td>\n",
       "      <td>0.0</td>\n",
       "      <td>0.0</td>\n",
       "      <td>0.0</td>\n",
       "      <td>0.0</td>\n",
       "      <td>0.0</td>\n",
       "    </tr>\n",
       "    <tr>\n",
       "      <th>Lucretia Mott</th>\n",
       "      <td>0.0</td>\n",
       "      <td>0.0</td>\n",
       "      <td>0.0</td>\n",
       "      <td>0.0</td>\n",
       "      <td>0.000000</td>\n",
       "      <td>0.0</td>\n",
       "      <td>0.0</td>\n",
       "      <td>0.0</td>\n",
       "      <td>0.0</td>\n",
       "      <td>0.000000</td>\n",
       "      <td>0.0</td>\n",
       "      <td>0.0</td>\n",
       "      <td>0.0</td>\n",
       "      <td>0.0</td>\n",
       "      <td>0.0</td>\n",
       "    </tr>\n",
       "  </tbody>\n",
       "</table>\n",
       "</div>"
      ],
      "text/plain": [
       "                 absorb  absorbed  absorption  abstain  abstemious  \\\n",
       "NAME                                                                 \n",
       "Ada Lovelace        0.0       0.0         0.0      0.0    0.000000   \n",
       "Robert E Lee        0.0       0.0         0.0      0.0    0.000000   \n",
       "Andrew Johnson      0.0       0.0         0.0      0.0    0.000000   \n",
       "Bedford Forrest     0.0       0.0         0.0      0.0    0.023602   \n",
       "Lucretia Mott       0.0       0.0         0.0      0.0    0.000000   \n",
       "\n",
       "                 abstemiousness  abstention  abstinence  abstinent  abstract  \\\n",
       "NAME                                                                           \n",
       "Ada Lovelace                0.0         0.0         0.0        0.0  0.055834   \n",
       "Robert E Lee                0.0         0.0         0.0        0.0  0.000000   \n",
       "Andrew Johnson              0.0         0.0         0.0        0.0  0.000000   \n",
       "Bedford Forrest             0.0         0.0         0.0        0.0  0.000000   \n",
       "Lucretia Mott               0.0         0.0         0.0        0.0  0.000000   \n",
       "\n",
       "                 abstraction  abstractions  abstracts  abstruse  absurd  \n",
       "NAME                                                                     \n",
       "Ada Lovelace             0.0           0.0        0.0       0.0     0.0  \n",
       "Robert E Lee             0.0           0.0        0.0       0.0     0.0  \n",
       "Andrew Johnson           0.0           0.0        0.0       0.0     0.0  \n",
       "Bedford Forrest          0.0           0.0        0.0       0.0     0.0  \n",
       "Lucretia Mott            0.0           0.0        0.0       0.0     0.0  "
      ]
     },
     "execution_count": 7,
     "metadata": {},
     "output_type": "execute_result"
    }
   ],
   "source": [
    "indir = \"data/session_two/output/\"\n",
    "dtm = pd.read_csv(indir + \"tfidf_scores.csv\", index_col = 0)\n",
    "\n",
    "dtm.iloc[:5, 100:115]"
   ]
  },
  {
   "cell_type": "markdown",
   "id": "8dcfd50f",
   "metadata": {},
   "source": [
    "In other words, rather than our stories having only two attributes, they'll have..."
   ]
  },
  {
   "cell_type": "code",
   "execution_count": 8,
   "id": "c3d78359",
   "metadata": {},
   "outputs": [
    {
     "name": "stdout",
     "output_type": "stream",
     "text": [
      "Number of each attributes per text: 32548\n"
     ]
    }
   ],
   "source": [
    "print(\"Number of each attributes per text:\", len(dtm.columns))"
   ]
  },
  {
   "cell_type": "markdown",
   "id": "a083dce1",
   "metadata": {},
   "source": [
    "We're working in very high-dimensional space!"
   ]
  },
  {
   "cell_type": "markdown",
   "id": "6902f9fe",
   "metadata": {},
   "source": [
    "### Generating scores\n",
    "\n",
    "While this might be a bit hard to conceptualize (and indeed impossible to visualize), we can let `scikit-learn` do \n",
    "the heavy lifting and inspect the condensed results. Doing so involves simply running `cosine_similarity()` across \n",
    "the entire dataframe and assign the result to a new dataframe. The result will be a square matrix, where rows and \n",
    "columns are each of the texts in our corpus."
   ]
  },
  {
   "cell_type": "code",
   "execution_count": 9,
   "id": "e09be90e",
   "metadata": {},
   "outputs": [
    {
     "data": {
      "text/html": [
       "<div>\n",
       "<style scoped>\n",
       "    .dataframe tbody tr th:only-of-type {\n",
       "        vertical-align: middle;\n",
       "    }\n",
       "\n",
       "    .dataframe tbody tr th {\n",
       "        vertical-align: top;\n",
       "    }\n",
       "\n",
       "    .dataframe thead th {\n",
       "        text-align: right;\n",
       "    }\n",
       "</style>\n",
       "<table border=\"1\" class=\"dataframe\">\n",
       "  <thead>\n",
       "    <tr style=\"text-align: right;\">\n",
       "      <th>NAME</th>\n",
       "      <th>Ada Lovelace</th>\n",
       "      <th>Robert E Lee</th>\n",
       "      <th>Andrew Johnson</th>\n",
       "      <th>Bedford Forrest</th>\n",
       "      <th>Lucretia Mott</th>\n",
       "    </tr>\n",
       "    <tr>\n",
       "      <th>NAME</th>\n",
       "      <th></th>\n",
       "      <th></th>\n",
       "      <th></th>\n",
       "      <th></th>\n",
       "      <th></th>\n",
       "    </tr>\n",
       "  </thead>\n",
       "  <tbody>\n",
       "    <tr>\n",
       "      <th>Ada Lovelace</th>\n",
       "      <td>1.000000</td>\n",
       "      <td>0.019792</td>\n",
       "      <td>0.026927</td>\n",
       "      <td>0.019026</td>\n",
       "      <td>0.019723</td>\n",
       "    </tr>\n",
       "    <tr>\n",
       "      <th>Robert E Lee</th>\n",
       "      <td>0.019792</td>\n",
       "      <td>1.000000</td>\n",
       "      <td>0.139954</td>\n",
       "      <td>0.157277</td>\n",
       "      <td>0.030560</td>\n",
       "    </tr>\n",
       "    <tr>\n",
       "      <th>Andrew Johnson</th>\n",
       "      <td>0.026927</td>\n",
       "      <td>0.139954</td>\n",
       "      <td>1.000000</td>\n",
       "      <td>0.098129</td>\n",
       "      <td>0.055867</td>\n",
       "    </tr>\n",
       "    <tr>\n",
       "      <th>Bedford Forrest</th>\n",
       "      <td>0.019026</td>\n",
       "      <td>0.157277</td>\n",
       "      <td>0.098129</td>\n",
       "      <td>1.000000</td>\n",
       "      <td>0.018065</td>\n",
       "    </tr>\n",
       "    <tr>\n",
       "      <th>Lucretia Mott</th>\n",
       "      <td>0.019723</td>\n",
       "      <td>0.030560</td>\n",
       "      <td>0.055867</td>\n",
       "      <td>0.018065</td>\n",
       "      <td>1.000000</td>\n",
       "    </tr>\n",
       "  </tbody>\n",
       "</table>\n",
       "</div>"
      ],
      "text/plain": [
       "NAME             Ada Lovelace  Robert E Lee  Andrew Johnson  Bedford Forrest  \\\n",
       "NAME                                                                           \n",
       "Ada Lovelace         1.000000      0.019792        0.026927         0.019026   \n",
       "Robert E Lee         0.019792      1.000000        0.139954         0.157277   \n",
       "Andrew Johnson       0.026927      0.139954        1.000000         0.098129   \n",
       "Bedford Forrest      0.019026      0.157277        0.098129         1.000000   \n",
       "Lucretia Mott        0.019723      0.030560        0.055867         0.018065   \n",
       "\n",
       "NAME             Lucretia Mott  \n",
       "NAME                            \n",
       "Ada Lovelace          0.019723  \n",
       "Robert E Lee          0.030560  \n",
       "Andrew Johnson        0.055867  \n",
       "Bedford Forrest       0.018065  \n",
       "Lucretia Mott         1.000000  "
      ]
     },
     "execution_count": 9,
     "metadata": {},
     "output_type": "execute_result"
    }
   ],
   "source": [
    "similarities = pd.DataFrame(cosine_similarity(dtm),\n",
    "                            columns = dtm.index,\n",
    "                            index = dtm.index\n",
    "                           )\n",
    "\n",
    "similarities.iloc[:5, :5]"
   ]
  },
  {
   "cell_type": "markdown",
   "id": "f21acafa",
   "metadata": {},
   "source": [
    "Now we can identify the most and least similar texts to a given obituary. Note that we need to get the second index \n",
    "position for `most`, since the highest score will always be the obituary's similarity to itself.\n",
    "\n",
    "```{margin} What this loop does\n",
    "1. For each person, sort every associated value, getting the second to highest first\n",
    "2. Sort again and get the lowest value\n",
    "```"
   ]
  },
  {
   "cell_type": "code",
   "execution_count": 10,
   "id": "e335ef47",
   "metadata": {},
   "outputs": [
    {
     "name": "stdout",
     "output_type": "stream",
     "text": [
      "For Ada Lovelace: \n",
      "+ Most similar: Karen Sparck Jones (0.180 cosine similarity) \n",
      "+ Least similar: Lou Gehrig (0.002 cosine similarity) \n",
      "\n",
      "For Henrietta Lacks: \n",
      "+ Most similar: Ross G Harrison (0.104 cosine similarity) \n",
      "+ Least similar: John W Heisman (0.006 cosine similarity) \n",
      "\n",
      "For FDR: \n",
      "+ Most similar: Eleanor Roosevelt (0.502 cosine similarity) \n",
      "+ Least similar: Carlos Montoya (0.013 cosine similarity) \n",
      "\n",
      "For Miles Davis: \n",
      "+ Most similar: Sammy Davis Jr (0.372 cosine similarity) \n",
      "+ Least similar: Charles Spaulding (0.008 cosine similarity) \n",
      "\n"
     ]
    }
   ],
   "source": [
    "people = ['Ada Lovelace', 'Henrietta Lacks', 'FDR', 'Miles Davis']\n",
    "for person in people:\n",
    "    most = similarities.loc[person].sort_values(ascending = False).take([1])\n",
    "    least = similarities.loc[person].sort_values().take([0])\n",
    "    print(\n",
    "        f\"For {person}:\",\n",
    "        f\"\\n+ Most similar: {most.index[0]} ({most[0]:0.3f} cosine similarity)\",\n",
    "        f\"\\n+ Least similar: {least.index[0]} ({least[0]:0.3f} cosine similarity)\",\n",
    "        \"\\n\"\n",
    "    )"
   ]
  },
  {
   "cell_type": "markdown",
   "id": "0e999aaf",
   "metadata": {},
   "source": [
    "### Visualizing the results\n",
    "\n",
    "It's perhaps more helpful, however, to get a bird's eye view of the entire corpus. But remember that `similarities` \n",
    "has hundreds of attributes – far more than we can visualize. What we need to do, then, is reduce the dimensionality \n",
    "of this data, decomposing the original values into a set of two for each text. We'll use **T-distributed Stochastic \n",
    "Neighbor Embedding** (t-SNE) to do this. In the most general sense, t-SNE takes in a matrix of multidimensional \n",
    "data and decomposes it into a less complex representation of that original data. This simple version of the data \n",
    "will roughly represent the most important features of the input matrix, which will set a given data point apart \n",
    "from others.\n",
    "\n",
    "`scikit-learn` has a built-in function for t-SNE. We call it like so:\n",
    "\n",
    "```{margin} Want to dive into the weeds?\n",
    "The `scikit-learn` documentation offers a [good overview] of t-SNE and supplies citations to the academic papers \n",
    "that first introduced it.\n",
    "\n",
    "[good overview]: https://scikit-learn.org/stable/modules/manifold.html#t-sne\n",
    "```"
   ]
  },
  {
   "cell_type": "code",
   "execution_count": 11,
   "id": "6da83504",
   "metadata": {},
   "outputs": [],
   "source": [
    "from sklearn.manifold import TSNE\n",
    "\n",
    "reduced = TSNE(n_components = 2, \n",
    "               learning_rate = 'auto', \n",
    "               init = 'random', \n",
    "               angle = 0.65,\n",
    "               random_state = 357).fit_transform(similarities)"
   ]
  },
  {
   "cell_type": "markdown",
   "id": "9e876903",
   "metadata": {},
   "source": [
    "Here, `reduced`, is a 2x*n* matrix, where _n_ is the number of rows in the original matrix. We can isolate each of \n",
    "the dimensions in `reduced` and assign them to X and Y coordinates, respectively."
   ]
  },
  {
   "cell_type": "code",
   "execution_count": 12,
   "id": "6c5379f9",
   "metadata": {},
   "outputs": [],
   "source": [
    "vis_data = pd.DataFrame({'X': reduced[:,0], 'Y': reduced[:,1], 'NAME': similarities.index})"
   ]
  },
  {
   "cell_type": "markdown",
   "id": "385ab4f0",
   "metadata": {},
   "source": [
    "And with this done, we can plot the result. We'll also use a quick `lambda` function to plot the names of the \n",
    "people from before."
   ]
  },
  {
   "cell_type": "code",
   "execution_count": 13,
   "id": "1e68d451",
   "metadata": {},
   "outputs": [
    {
     "data": {
      "image/png": "[encoded data removed]",
      "text/plain": [
       "<Figure size 1080x1080 with 1 Axes>"
      ]
     },
     "metadata": {
      "needs_background": "light"
     },
     "output_type": "display_data"
    }
   ],
   "source": [
    "ax = vis_data.plot.scatter(figsize = (15, 15), x = 'X', y = 'Y', alpha = 0.8);\n",
    "vis_data[vis_data['NAME'].isin(people)][['X', 'Y', 'NAME']].apply(lambda x: ax.text(*x), axis = 1);"
   ]
  },
  {
   "cell_type": "markdown",
   "id": "79fd674d",
   "metadata": {},
   "source": [
    "```{margin} A caveat\n",
    "It's important to remember that the transformation between high dimensional space and this 2D plot is a lossy one. \n",
    "Distortions will result from it, and having a good sense of what kind of distortions you might expect to see with \n",
    "t-SNE will help you interpret these graphs. This [interactive dashboard] offers a really nice overview of these \n",
    "considerations.\n",
    "\n",
    "[interactive dashboard]: https://distill.pub/2016/misread-tsne/\n",
    "```\n",
    "\n",
    "As with our toy example above, here, space has semantic value. Points that appear closer together in the \n",
    "visualization above have more similarities between them than those that are farther apart. We can see this clearly \n",
    "if we show a person's point and the most similar point to that person."
   ]
  },
  {
   "cell_type": "code",
   "execution_count": 14,
   "id": "1e693c84",
   "metadata": {},
   "outputs": [
    {
     "data": {
      "image/png": "[encoded data removed]",
      "text/plain": [
       "<Figure size 1080x1080 with 1 Axes>"
      ]
     },
     "metadata": {
      "needs_background": "light"
     },
     "output_type": "display_data"
    }
   ],
   "source": [
    "roosevelts = ['FDR', 'Eleanor Roosevelt']\n",
    "\n",
    "ax = vis_data.plot.scatter(figsize = (15, 15), x = 'X', y = 'Y', alpha = 0.8);\n",
    "vis_data[vis_data['NAME'].isin(roosevelts)][['X', 'Y', 'NAME']].apply(lambda x: ax.text(*x), axis = 1);"
   ]
  },
  {
   "cell_type": "markdown",
   "id": "4ee117ad",
   "metadata": {},
   "source": [
    "Quite close!"
   ]
  },
  {
   "cell_type": "markdown",
   "id": "30b88cad",
   "metadata": {},
   "source": [
    "Clustering by Similarity\n",
    "---------------------------\n",
    "\n",
    "The last topic we'll cover in this chapter involves dividing up the feature space of our data so as to broadly \n",
    "cluster the texts in our corpus. This will give us a frame for considering general trends in the data, which in \n",
    "turn may better help us understand the specificity of individual texts. For example, clustering might allow us to \n",
    "speak about various subgenres of obituaries. Similarly, it could tell us something about how the _New York Times_ \n",
    "writes about particular kinds of people (their vocations, their backgrounds, etc.). It may even indicate something \n",
    "about how the style of the obituary has changed over time.\n",
    "\n",
    "But how to do it? Visual inspection of the graphs above would be one way. There are a few discernible clusters in \n",
    "it. Consider the division in points that cuts up toward the right from the bottom center of the graph; there's a \n",
    "particularly dense patch of points near the Roosevelts' position as well. But while could slice and dice these \n",
    "points using visual cues for ages, these cues can sometimes be misleading. It would be better, then, to use \n",
    "unsupervised methods to automatically partition our feature space.\n",
    "\n",
    "There are a host of different such techniques available. Below, we'll use **hierarchical clustering**. In \n",
    "hierarchical clustering, each data point is treated as an individual cluster before being successfully merged with \n",
    "its most similar point. Then, this new cluster is merged with another cluster, and the process repeats. Merging \n",
    "continues in an upward fashion until the process reaches a predetermined number of clusters.\n",
    "\n",
    "We can't go into detail about how to determine the best number of clusters for a dataset. It's a complex topic, and \n",
    "much depends on a) your data; and b) what you want to know about your data. For now, we'll stick with a general, \n",
    "rather rudimentary approach, which you can nuance later on.\n",
    "\n",
    "Once again, `scikit-learn` has functionality for clustering. We just need to initialize and fit an \n",
    "`AgglomerativeClustering()` object to our similarities, defining along the way the number of clusters we'd like to \n",
    "generate."
   ]
  },
  {
   "cell_type": "code",
   "execution_count": 15,
   "id": "e6e43c02",
   "metadata": {},
   "outputs": [],
   "source": [
    "from sklearn.cluster import AgglomerativeClustering\n",
    "\n",
    "n_clusters = 3\n",
    "agg = AgglomerativeClustering(n_clusters = n_clusters).fit(similarities)"
   ]
  },
  {
   "cell_type": "markdown",
   "id": "94750332",
   "metadata": {},
   "source": [
    "The result will be a fitted `AgglomerativeClustering()` object, which works much like `CountVectorizer()` or \n",
    "`TfidfVectorizer()` in the last chapter. We can access its `labels_` attribute and assign a cluster label to each \n",
    "point in our data. We'll also use this attribute to add some color to our visualization, which will make it easier \n",
    "to discern the clusters."
   ]
  },
  {
   "cell_type": "code",
   "execution_count": 16,
   "id": "7b9697d0",
   "metadata": {},
   "outputs": [],
   "source": [
    "vis_data = vis_data.assign(CLUSTER = agg.labels_ + 1)\n",
    "vis_data = vis_data.assign(COLOR = vis_data['CLUSTER'].replace({1: 'red', 2: 'blue', 3: 'green'}))"
   ]
  },
  {
   "cell_type": "markdown",
   "id": "d79ba238",
   "metadata": {},
   "source": [
    "And now we can visualize. We'll sample a few names and show those as well."
   ]
  },
  {
   "cell_type": "code",
   "execution_count": 17,
   "id": "4c728a6e",
   "metadata": {},
   "outputs": [
    {
     "data": {
      "image/png": "[encoded data removed]",
      "text/plain": [
       "<Figure size 1080x1080 with 1 Axes>"
      ]
     },
     "metadata": {
      "needs_background": "light"
     },
     "output_type": "display_data"
    }
   ],
   "source": [
    "ax = vis_data.plot.scatter(figsize = (15, 15), x = 'X', y = 'Y', c = 'COLOR', alpha = 0.8)\n",
    "vis_data[['X', 'Y', 'NAME']].sample(10).apply(lambda x: ax.text(*x), axis = 1);"
   ]
  },
  {
   "cell_type": "markdown",
   "id": "fc942941",
   "metadata": {},
   "source": [
    "Not bad at all! There are a few incursions of one cluster into another, but for the most part this looks pretty \n",
    "coherent (it may even be that those incursions are exaggerated by the visualization, as the note above explains). \n",
    "Let's grab some examples of each cluster and show them.\n",
    "\n",
    "```{margin} What this loop does\n",
    "1. Group the data by `CLUSTER`\n",
    "2. For each group, sample `n_samples`\n",
    "3. Print each name in the sampled results\n",
    "```"
   ]
  },
  {
   "cell_type": "code",
   "execution_count": 18,
   "id": "0b1d0ea9",
   "metadata": {
    "scrolled": false
   },
   "outputs": [
    {
     "name": "stdout",
     "output_type": "stream",
     "text": [
      "Cluster: 1\n",
      "----------\n",
      "Alfred Hitchcock\n",
      "Lionel Barrymore\n",
      "Thelonious Monk\n",
      "Dizzy Gillespie\n",
      "Ingrid Bergman\n",
      "\n",
      "\n",
      "Cluster: 2\n",
      "----------\n",
      "Herbert Hoover\n",
      "Bedford Forrest\n",
      "De Gaulle Rallied\n",
      "J Edgar Hoover\n",
      "Lyndon Johnson\n",
      "\n",
      "\n",
      "Cluster: 3\n",
      "----------\n",
      "Jonas Salk\n",
      "Lenny Bruce\n",
      "George Washington Carver\n",
      "J H Kellogg\n",
      "Isaac Asimov\n",
      "\n",
      "\n"
     ]
    }
   ],
   "source": [
    "n_samples = 5\n",
    "for tup in vis_data.groupby('CLUSTER'):\n",
    "    cluster = tup[0]\n",
    "    subset = tup[1]\n",
    "    print(f\"Cluster: {cluster}\\n----------\")\n",
    "    sampled = subset.sample(n_samples)['NAME']\n",
    "    for name in sampled:\n",
    "        print(name)\n",
    "    print(\"\\n\")"
   ]
  },
  {
   "cell_type": "markdown",
   "id": "574ea679",
   "metadata": {},
   "source": [
    "Looking over these results turns up an interesting pattern: one way to interpret these clusters is by profession. \n",
    "The people in the first cluster tend to be entertainers, usually popular ones working in/with popular media forms; \n",
    "Billie Holiday and Marilyn Monroe are in this cluster, for example. Those in the second one, on the other hand, \n",
    "tend to be political figures: Ghandi, Adlai Stevenson, and so on. Finally, those in cluster three are often \n",
    "novelists, activists, and other kinds of public figures; Helen Keller is in this cluster, along with Joseph \n",
    "Pulitzer and Jackie Robinson. From an initial glance, then, our text similarity data seems to suggest that _a \n",
    "person's profession indicates something about the type of obituary they have_.\n",
    "\n",
    "Of course, there are intriguing exceptions. Eugene O'Neill, a playwright, is in the second cluster, whereas the \n",
    "division we've just suggested would put him in the third cluster, alongside Sylvia Plath and James Joyce. The Duke \n",
    "of Windsor (Edward VIII) is an interesting test case: he is a political figure, though he quickly abdicated from \n",
    "the throne. Should he therefore be in the second cluster or, as he is here, in the third cluster?"
   ]
  },
  {
   "cell_type": "code",
   "execution_count": 19,
   "id": "e0e13f8c",
   "metadata": {},
   "outputs": [
    {
     "data": {
      "text/html": [
       "<style  type=\"text/css\" >\n",
       "</style><table id=\"T_ff092_\" ><thead>    <tr>        <th class=\"col_heading level0 col0\" >NAME</th>        <th class=\"col_heading level0 col1\" >CLUSTER</th>        <th class=\"col_heading level0 col2\" >COLOR</th>    </tr></thead><tbody>\n",
       "                <tr>\n",
       "                                <td id=\"T_ff092_row0_col0\" class=\"data row0 col0\" >Eugene O Neill</td>\n",
       "                        <td id=\"T_ff092_row0_col1\" class=\"data row0 col1\" >2</td>\n",
       "                        <td id=\"T_ff092_row0_col2\" class=\"data row0 col2\" >blue</td>\n",
       "            </tr>\n",
       "            <tr>\n",
       "                                <td id=\"T_ff092_row1_col0\" class=\"data row1 col0\" >The Duke of Windsor</td>\n",
       "                        <td id=\"T_ff092_row1_col1\" class=\"data row1 col1\" >3</td>\n",
       "                        <td id=\"T_ff092_row1_col2\" class=\"data row1 col2\" >green</td>\n",
       "            </tr>\n",
       "    </tbody></table>"
      ],
      "text/plain": [
       "<pandas.io.formats.style.Styler at 0x1346d37f0>"
      ]
     },
     "execution_count": 19,
     "metadata": {},
     "output_type": "execute_result"
    }
   ],
   "source": [
    "unexpected = ['Eugene O Neill', 'The Duke of Windsor']\n",
    "vis_data[vis_data['NAME'].isin(unexpected)][['NAME', 'CLUSTER', 'COLOR']].style.hide_index()"
   ]
  },
  {
   "cell_type": "markdown",
   "id": "79e90d67",
   "metadata": {},
   "source": [
    "The question for both exceptions is why. What is it about these two people – or more specifically, their obituaries \n",
    "– that pushes them outside the cluster we'd expect them to be in? Is it a particular set of words? Lexical \n",
    "diversity? Something else?\n",
    "\n",
    "Investigating these questions will take us beyond the scope of this chapter. For now, it's enough to know that text \n",
    "similarity prompts them and that we can explore and analyze corpora using this metric. We'll end, then, with this \n",
    "preliminary hypothesis about our clusters, which later work will need to either corroborate or challenge."
   ]
  },
  {
   "cell_type": "code",
   "execution_count": null,
   "id": "ed412331",
   "metadata": {},
   "outputs": [],
   "source": []
  }
 ],
 "metadata": {
  "kernelspec": {
   "display_name": "nlp",
   "language": "python",
   "name": "nlp"
  },
  "language_info": {
   "codemirror_mode": {
    "name": "ipython",
    "version": 3
   },
   "file_extension": ".py",
   "mimetype": "text/x-python",
   "name": "python",
   "nbconvert_exporter": "python",
   "pygments_lexer": "ipython3",
   "version": "3.7.3"
  }
 },
 "nbformat": 4,
 "nbformat_minor": 5
}
