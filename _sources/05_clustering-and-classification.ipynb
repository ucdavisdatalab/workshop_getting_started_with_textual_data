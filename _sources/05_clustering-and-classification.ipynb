{
 "cells": [
  {
   "cell_type": "markdown",
   "id": "81cb0775",
   "metadata": {},
   "source": [
    "Clustering and Classification\n",
    "=======================\n",
    "\n",
    "TODO:\n",
    "\n",
    "1. cosine similarity\n",
    "2. PCA clustering\n",
    "3. text classification with naive bayes"
   ]
  },
  {
   "cell_type": "code",
   "execution_count": 1,
   "id": "3303d7a7",
   "metadata": {},
   "outputs": [],
   "source": [
    "import pandas as pd\n",
    "\n",
    "indir = \"data/session_two/output/\"\n",
    "tfidf_scores = pd.read_csv(indir + \"tfidf_scores.csv\", index_col = 0)"
   ]
  }
 ],
 "metadata": {
  "kernelspec": {
   "display_name": "nlp",
   "language": "python",
   "name": "nlp"
  },
  "language_info": {
   "codemirror_mode": {
    "name": "ipython",
    "version": 3
   },
   "file_extension": ".py",
   "mimetype": "text/x-python",
   "name": "python",
   "nbconvert_exporter": "python",
   "pygments_lexer": "ipython3",
   "version": "3.7.3"
  }
 },
 "nbformat": 4,
 "nbformat_minor": 5
}
