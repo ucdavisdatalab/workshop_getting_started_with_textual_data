{
 "cells": [
  {
   "cell_type": "markdown",
   "id": "3fd1cacf",
   "metadata": {},
   "source": [
    "Corpus Analytics\n",
    "==============\n",
    "\n",
    "Now that we've overviewed all the steps involved in preparing text for computational analysis, we can begin the \n",
    "work of analysis proper. Whereas the last chapter suggested a few ways we might do this with a single novel, this \n",
    "one will build out to a whole collection of texts, or what's called a **corpus**. Computational analysis can help \n",
    "us discover many interesting things about a single text, but looking at this text in the context of many others \n",
    "will do much to clarify and expand any potential findings we might make. Accordingly, we'll learn how to implement \n",
    "our cleaning steps on multiple files and then format them in a way that enables us to make connections between \n",
    "them. We'll then generate several metrics about these texts and use them to observe similarities/differences across \n",
    "the corpus.\n",
    "\n",
    "We'll also leave _Frankenstein_ behind, at least for now. In place of this novel, we will use Andrew Piper's \n",
    "[collection of English short stories](https://doi.org/10.6084/m9.figshare.17425571.v1), which gathers together 50 \n",
    "stories from 1981 to 2006. **UNCLEAR WHETHER WE'LL ULTIMATELY USE THIS ONE---PLUGGING IT IN TO OUTLINE THE \n",
    "CHAPTER.**\n",
    "\n",
    "```{admonition} Learning Objectives\n",
    "By the end of this workshop, you will be able to:\n",
    "\n",
    "+ Develop a workflow for cleaning multiple texts and compiling them into a corpus\n",
    "+ Use a document-term matrix, to represent relationships between texts in a corpus\n",
    "+ Generate metrics about texts in a corpus, including document length, term frequency, lexical diversity, etc.\n",
    "+ Explain the difference between raw term metrics and weighted term scoring (specifically, TF-IDF scoring)\n",
    "+ Cluster texts according to their shared/similar features\n",
    "```"
   ]
  },
  {
   "cell_type": "markdown",
   "id": "fac36b7d",
   "metadata": {},
   "source": [
    "The Data\n",
    "-----------\n",
    "\n",
    "Before we begin cleaning, we'll load in a file manifest to get a quick overview of what will be in our corpus. \n",
    "We'll also use this manifest to sequentially load each file, clean it, and add it to our corpus."
   ]
  },
  {
   "cell_type": "code",
   "execution_count": 1,
   "id": "f742a561",
   "metadata": {},
   "outputs": [
    {
     "name": "stdout",
     "output_type": "stream",
     "text": [
      "Number of stories: 50 \n",
      "Number of authors: 50 \n",
      "Columns in the manifest: ['NAME' 'TITLE' 'YEAR' 'FILE_NAME']\n"
     ]
    },
    {
     "data": {
      "image/png": "[encoded data removed]",
      "text/plain": [
       "<Figure size 1080x360 with 1 Axes>"
      ]
     },
     "metadata": {
      "needs_background": "light"
     },
     "output_type": "display_data"
    }
   ],
   "source": [
    "import pandas as pd\n",
    "\n",
    "indir =  \"data/session_two/\"\n",
    "manifest = pd.read_csv(indir + \"manifest.csv\", index_col=0)\n",
    "\n",
    "print(\n",
    "    \"Number of stories:\", len(manifest),\n",
    "    \"\\nNumber of authors:\", manifest['NAME'].nunique(),\n",
    "    \"\\nColumns in the manifest:\", manifest.columns.values\n",
    ")\n",
    "manifest.groupby('YEAR')['TITLE'].count().plot.bar(figsize = (15,5),\n",
    "                                                   title = \"Number of Stories per Year\",\n",
    "                                                   xlabel = \"Year\",\n",
    "                                                   ylabel = \"Count\",\n",
    "                                                   yticks = range(0,5)\n",
    "                                                  );"
   ]
  },
  {
   "cell_type": "markdown",
   "id": "7216ae99",
   "metadata": {},
   "source": [
    "Here are a few story titles, selected at random:"
   ]
  },
  {
   "cell_type": "code",
   "execution_count": 2,
   "id": "2681b053",
   "metadata": {},
   "outputs": [
    {
     "name": "stdout",
     "output_type": "stream",
     "text": [
      "JONES, Edward P.: Marie\n",
      "ORRINGER, Julie: Pilgrims\n",
      "O’BRIEN, Tim: TheThingsTheyCarried\n",
      "DOERR, Anthony: TheCaretaker\n",
      "YARBROUGH, Steve: TheRestofHerLife\n"
     ]
    }
   ],
   "source": [
    "for idx in manifest.sample(5).index:\n",
    "    print(f\"{manifest.loc[idx, 'NAME']}:\", manifest.loc[idx, 'TITLE'])"
   ]
  },
  {
   "cell_type": "markdown",
   "id": "8a1efc97",
   "metadata": {},
   "source": [
    "Text Cleaning\n",
    "----------------\n",
    "\n",
    "### Recap\n",
    "\n",
    "With that done, we can review our cleaning steps. For each short story in our corpus, we want to:\n",
    "\n",
    "1. Resolve casing\n",
    "2. Remove punctuation, numbers, and any extra formatting\n",
    "3. Remove stop words\n",
    "\n",
    "```{margin} Note:\n",
    "For this analysis, we won't stem or lemmatize our tokens, but below we'll make note of where doing so might be \n",
    "useful.\n",
    "```\n",
    "\n",
    "This should feel familiar, though our workflow here will differ slightly from the one in the last chapter because \n",
    "we'll be cleaning multiple texts, not only one. All the principles remain the same, we just want to implement our \n",
    "cleaning steps in a way that successively works through every text in our data directory without much intervention \n",
    "on our part. This is where functions are helpful; we'll define a series of them. Each one will perform a separate \n",
    "step in the cleaning process. We'll also define a main function, `clean()`, which we'll use to control each \n",
    "function in the series. That way, we can simply load in a text file and pass it to `clean()` and `clean()` will \n",
    "handle the rest."
   ]
  },
  {
   "cell_type": "markdown",
   "id": "5e2456f3",
   "metadata": {},
   "source": [
    "### Defining our text cleaning functions\n",
    "\n",
    "`clean()` will call the following five functions:\n",
    "\n",
    "1. `to_lower()`: a simple function that returns a lowercase version of all tokens in a text\n",
    "2. `remove_punctuation()`: removes all punctuation, doing so in phases: hyphens, em dashes, and underscores \n",
    "first, then everything else\n",
    "3. `remove_digits()`: removes digits\n",
    "4. `tokenize()`: removes any extra whitespace and returns a list of all tokens in a text\n",
    "5. `remove_stop_words()`: filters out stop words from the list of tokens; we'll also remove any words that are two \n",
    "or less characters long\n",
    "\n",
    "Let's get coding!"
   ]
  },
  {
   "cell_type": "code",
   "execution_count": 3,
   "id": "0433d982",
   "metadata": {},
   "outputs": [],
   "source": [
    "import re\n",
    "\n",
    "with open(\"data/voyant_stoplist.txt\", 'r') as f:\n",
    "    stopwords = f.read().split()\n",
    "\n",
    "def to_lower(doc):\n",
    "    return doc.lower()\n",
    "\n",
    "def remove_punctuation(doc):\n",
    "    doc = re.sub(r\"[-]|[—]|[_]\", \" \", doc)\n",
    "    doc = re.sub(r\"[^\\w\\s]\", \"\", doc)\n",
    "    return doc\n",
    "\n",
    "def remove_digits(doc):\n",
    "    return re.sub(r\"[0-9]\", \"\", doc)\n",
    "\n",
    "def tokenize(doc):\n",
    "    doc = re.sub(r\"\\s+\", \" \", doc)\n",
    "    return doc.split()\n",
    "\n",
    "def remove_stop_words(doc):\n",
    "    doc = [token for token in doc if token not in stopwords]\n",
    "    doc = [token for token in doc if len(token) > 2]\n",
    "    return doc\n",
    "\n",
    "def clean(doc):\n",
    "    lowercase = to_lower(doc)\n",
    "    no_punct = remove_punctuation(lowercase)\n",
    "    no_digits = remove_digits(no_punct)\n",
    "    tokenized = tokenize(no_digits)\n",
    "    stopped = remove_stop_words(tokenized)\n",
    "    return stopped"
   ]
  },
  {
   "cell_type": "markdown",
   "id": "f6b12007",
   "metadata": {},
   "source": [
    "```{admonition} About the above...\n",
    "These functions are written with **clarity** and **modularity** in mind. The intent here is to demonstrate each \n",
    "step of the cleaning process in as discrete a manner as possible. But you might find that some of this code is \n",
    "redundant (as an example, ask yourself: which step might be wrapped up inside another function?). Further, we could \n",
    "very probably re-factor this code to optimize it, which would be important when working with a large number of \n",
    "texts. We won't cover something like that in this session however. For now, know that these functions are meant to \n",
    "act as templates, which you can modify to suit your own needs.\n",
    "```"
   ]
  },
  {
   "cell_type": "markdown",
   "id": "16974be9",
   "metadata": {},
   "source": [
    "### Cleaning our texts\n",
    "\n",
    "With our functions defined, we can now load each story, roll through all the cleaning steps, and append the cleaned \n",
    "text to a list. The result will be a fifty-item list of lists, where each sublist contains all the tokens in a \n",
    "given story. The _order_ of these entries will be important for work want to do later on, so we need to make sure \n",
    "that each sublist always has the same position in the larger list of texts. This is where the file manifest comes \n",
    "in: _we'll load texts in the order provided by the `FILE_NAME` column of `manifest`_. Doing so ensures that the \n",
    "first index (`0`) of our list of lists corresponds to the first short story, the second index (`1`) to the second, \n",
    "and so on.\n",
    "\n",
    "Let's write all this out in a `for` loop and do our cleaning.\n",
    "\n",
    "```{margin} What this loop does:\n",
    "1. For every row (`idx`) in `manifest`, collect the item in the row's `FILE_NAME` column and append it to `indir`\n",
    "2. Use the resultant filepath in a `with...open` statement to read in the text\n",
    "3. Clean the story with `clean()`\n",
    "4. Append the result to the list, `cleaned_stories`\n",
    "```"
   ]
  },
  {
   "cell_type": "code",
   "execution_count": 4,
   "id": "b50b9196",
   "metadata": {
    "scrolled": true
   },
   "outputs": [],
   "source": [
    "cleaned_stories = []\n",
    "\n",
    "for idx in manifest.index:\n",
    "    filepath = indir + manifest.loc[idx, 'FILE_NAME']\n",
    "    with open(filepath, 'r') as f:\n",
    "        story = f.read()\n",
    "        cleaned_story = clean(story)\n",
    "        cleaned_stories.append(cleaned_story)"
   ]
  },
  {
   "cell_type": "markdown",
   "id": "f9ca23d0",
   "metadata": {},
   "source": [
    "As a sanity check, we can run an assertion statement, which checks that `cleaned_stories` has as many stories in it \n",
    "as `manifest` does..."
   ]
  },
  {
   "cell_type": "code",
   "execution_count": 5,
   "id": "97add7c4",
   "metadata": {},
   "outputs": [],
   "source": [
    "assert len(cleaned_stories) == len(manifest)"
   ]
  },
  {
   "cell_type": "markdown",
   "id": "d286da65",
   "metadata": {},
   "source": [
    "...and we can inspect a few pieces of some stories to make sure all is well:"
   ]
  },
  {
   "cell_type": "code",
   "execution_count": 6,
   "id": "abd4fbf1",
   "metadata": {},
   "outputs": [
    {
     "name": "stdout",
     "output_type": "stream",
     "text": [
      "behind card table outside food minutes sun shifts moves chair table\n",
      "barbie away ken practicing future sat sisters room watching barbie lived\n",
      "silver clouds floating horizon robins sparrows calling trees son joshuas seventh\n"
     ]
    }
   ],
   "source": [
    "for idx in [4, 17, 39]:\n",
    "    fragment = cleaned_stories[idx][10:21]\n",
    "    print(' '.join(fragment))"
   ]
  },
  {
   "cell_type": "markdown",
   "id": "80e24590",
   "metadata": {},
   "source": [
    "Looks great!"
   ]
  }
 ],
 "metadata": {
  "kernelspec": {
   "display_name": "nlp",
   "language": "python",
   "name": "nlp"
  },
  "language_info": {
   "codemirror_mode": {
    "name": "ipython",
    "version": 3
   },
   "file_extension": ".py",
   "mimetype": "text/x-python",
   "name": "python",
   "nbconvert_exporter": "python",
   "pygments_lexer": "ipython3",
   "version": "3.7.3"
  }
 },
 "nbformat": 4,
 "nbformat_minor": 5
}
