{
 "cells": [
  {
   "cell_type": "markdown",
   "id": "d1975d23",
   "metadata": {},
   "source": [
    "Corpus Analytics\n",
    "==============\n",
    "\n",
    "Now that we've overviewed all the steps involved in preparing text for computational analysis, we can begin the \n",
    "work of analysis proper. Whereas the last chapter suggested a few ways we might do this with a single novel, this \n",
    "one will build out to a whole collection of texts, or a **corpus**. Computational analysis can help us discover \n",
    "many interesting things about a single text, but looking at this text in the context of many others will do much to \n",
    "clarify and expand any potential findings we might make. Accordingly, we'll learn how to implement our cleaning \n",
    "steps on multiple files and then format them in a way that enables us to make connections between them. We'll then \n",
    "generate several metrics about these texts and use them to observe similarities/differences across the corpus.\n",
    "\n",
    "We'll also leave _Frankenstein_ behind, at least for now. In place of this novel, we will use Andrew Piper's \n",
    "[collection of English short stories](https://doi.org/10.6084/m9.figshare.17425571.v1), which gathers together 50 \n",
    "stories from 1981 to 2006. **UNCLEAR WHETHER WE'LL ULTIMATELY USE THIS ONE---PLUGGING IT IN TO OUTLINE THE \n",
    "CHAPTER.**\n",
    "\n",
    "```{admonition} Learning Objectives\n",
    "By the end of this chapter, you will be able to:\n",
    "\n",
    "+ Develop a workflow for cleaning multiple texts and compiling them into a corpus\n",
    "+ Use a document-term matrix, to represent relationships between texts in a corpus\n",
    "+ Generate metrics about texts in a corpus, including document length, term frequency, lexical diversity, etc.\n",
    "+ Explain the difference between raw term metrics and weighted term scoring (specifically, tf-idf scoring)\n",
    "```"
   ]
  },
  {
   "cell_type": "markdown",
   "id": "700d0795",
   "metadata": {},
   "source": [
    "Using a File Manifest\n",
    "-------------------------\n",
    "\n",
    "Before we begin cleaning, let's load in a file manifest to get a quick overview of what will be in our corpus. \n",
    "We'll also use this manifest to sequentially load each file, clean it, and add it to our corpus."
   ]
  },
  {
   "cell_type": "code",
   "execution_count": 1,
   "id": "a89e29a4",
   "metadata": {},
   "outputs": [
    {
     "name": "stdout",
     "output_type": "stream",
     "text": [
      "Number of stories: 50 \n",
      "Number of authors: 50 \n",
      "Columns in the manifest: ['NAME' 'YEAR' 'FILE_NAME']\n"
     ]
    },
    {
     "data": {
      "image/png": "[encoded data removed]",
      "text/plain": [
       "<Figure size 1080x360 with 1 Axes>"
      ]
     },
     "metadata": {
      "needs_background": "light"
     },
     "output_type": "display_data"
    }
   ],
   "source": [
    "import pandas as pd\n",
    "\n",
    "manifest = pd.read_csv(\"data/session_two/manifest.csv\", index_col = 0)\n",
    "manifest = manifest.set_index('TITLE')\n",
    "\n",
    "print(\n",
    "    \"Number of stories:\", len(manifest),\n",
    "    \"\\nNumber of authors:\", manifest['NAME'].nunique(),\n",
    "    \"\\nColumns in the manifest:\", manifest.columns.values\n",
    ")\n",
    "manifest.groupby('YEAR')['NAME'].count().plot.bar(figsize = (15, 5),\n",
    "                                                  title = \"Number of Stories per Year\",\n",
    "                                                  xlabel = \"Year\",\n",
    "                                                  ylabel = \"Count\",\n",
    "                                                  yticks = range(0, 5)\n",
    "                                                 );"
   ]
  },
  {
   "cell_type": "markdown",
   "id": "b357cc92",
   "metadata": {},
   "source": [
    "Here are a few story titles, selected at random:"
   ]
  },
  {
   "cell_type": "code",
   "execution_count": 2,
   "id": "0a9d0484",
   "metadata": {},
   "outputs": [
    {
     "name": "stdout",
     "output_type": "stream",
     "text": [
      "ORRINGER, Julie: Pilgrims\n",
      "BASS, Rick: TheHermit'sStory\n",
      "SONTAG, Susan: TheWayWeLiveNow\n",
      "GILB, DAGOBERTO: WinnersonthePassLine\n",
      "FORD, Richard: Communist\n"
     ]
    }
   ],
   "source": [
    "for title in manifest.sample(5).index:\n",
    "    print(f\"{manifest.loc[title, 'NAME']}:\", title)"
   ]
  },
  {
   "cell_type": "markdown",
   "id": "ec00295c",
   "metadata": {},
   "source": [
    "```{tip}\n",
    "Using a metadata sheet like this is a good habit to develop. Use it as a common reference point for any processes \n",
    "you run on your data, and you'll mitigate major headaches stemming from undocumented projects. For more about this, \n",
    "see the DataLab's [workshop on project organization and data documentation][].\n",
    "\n",
    "[workshop on project organization and data documentation]: https://ucdavisdatalab.github.io/workshop_how-to-data-documentation/\n",
    "```"
   ]
  },
  {
   "cell_type": "markdown",
   "id": "56b9bf0f",
   "metadata": {},
   "source": [
    "Text Cleaning\n",
    "----------------\n",
    "\n",
    "### Recap\n",
    "\n",
    "With our manifest loaded, we can review our cleaning steps. For each short story in our corpus, we want to:\n",
    "\n",
    "1. Resolve casing\n",
    "2. Remove punctuation, numbers, and any extra formatting\n",
    "3. Remove stop words\n",
    "\n",
    "This should feel familiar, though our workflow here will differ slightly from the one in the last chapter because \n",
    "we'll be cleaning multiple texts, not only one. All the principles remain the same, we just want to implement our \n",
    "cleaning steps in a way that successively works through every text in our data directory without much intervention \n",
    "on our part. This is where functions are helpful; we'll define a series of them, with each performing a separate \n",
    "step in the cleaning process. We'll also define a main function, `clean()`, which we'll use to control the various \n",
    "cleaning steps. That way we can simply load in a text file and pass it to `clean()` and `clean()` will handle the \n",
    "rest.\n",
    "\n",
    "Note that our steps do not include lemmatizing the texts. Because lemmatization can be labor- and time-intensive, \n",
    "**these texts have already been processed with `nltk`'s lemmatizer**."
   ]
  },
  {
   "cell_type": "markdown",
   "id": "5635cfe0",
   "metadata": {},
   "source": [
    "### Text cleaning functions\n",
    "\n",
    "`clean()` will call the following five functions:\n",
    "\n",
    "1. `to_lower()`: returns a lowercase version of all tokens in a text\n",
    "2. `remove_punctuation()`: removes all punctuation in phases: hyphens, em dashes, and underscores first, then \n",
    "everything else\n",
    "3. `remove_digits()`: removes digits\n",
    "4. `remove_whitespace()`: removes any extra whitespace\n",
    "5. `remove_stop_words()`: filters out stop words from the list of tokens; we'll also remove any words that are two \n",
    "or less characters long\n",
    "\n",
    "Let's get coding!"
   ]
  },
  {
   "cell_type": "code",
   "execution_count": 3,
   "id": "dfc70ab5",
   "metadata": {},
   "outputs": [],
   "source": [
    "import re\n",
    "\n",
    "with open(\"data/voyant_stoplist.txt\", 'r') as f:\n",
    "    stopwords = f.read().split()\n",
    "\n",
    "def to_lower(doc):\n",
    "    return doc.lower()\n",
    "\n",
    "def remove_punctuation(doc):\n",
    "    doc = re.sub(r\"[-]|[—]|[_]\", \" \", doc)\n",
    "    doc = re.sub(r\"[^\\w\\s]\", \"\", doc)\n",
    "    return doc\n",
    "\n",
    "def remove_digits(doc):\n",
    "    return re.sub(r\"[0-9]\", \"\", doc)\n",
    "\n",
    "def remove_whitespace(doc):\n",
    "    doc = re.sub(r\"\\s+\", \" \", doc)\n",
    "    return doc\n",
    "\n",
    "def remove_stop_words(doc):\n",
    "    doc = doc.split()\n",
    "    doc = [token for token in doc if token not in stopwords]\n",
    "    doc = [token for token in doc if len(token) > 2]\n",
    "    doc = ' '.join(doc)\n",
    "    return doc\n",
    "\n",
    "def clean(doc):\n",
    "    lowercase = to_lower(doc)\n",
    "    no_punct = remove_punctuation(lowercase)\n",
    "    no_digits = remove_digits(no_punct)\n",
    "    no_whitespace = remove_whitespace(no_digits)\n",
    "    stopped = remove_stop_words(no_whitespace)\n",
    "    return stopped"
   ]
  },
  {
   "cell_type": "markdown",
   "id": "2f4cd576",
   "metadata": {},
   "source": [
    "```{admonition} About the above...\n",
    "These functions are written with **clarity** and **modularity** in mind. The intent here is to demonstrate each \n",
    "step of the cleaning process in as discrete a manner as possible. But you might find that some of this code is \n",
    "redundant (as an example, ask yourself: which step might be wrapped up inside another function?). Further, we could \n",
    "very probably re-factor this code to optimize it, which would be important when working with a large number of \n",
    "texts. We won't cover something like that in this session, however. For now, know that these functions are meant to \n",
    "act as templates, which you can modify to suit your own needs.\n",
    "```"
   ]
  },
  {
   "cell_type": "markdown",
   "id": "c5970f8c",
   "metadata": {},
   "source": [
    "### Cleaning our texts\n",
    "\n",
    "With our functions defined, we can now load each story, roll through all the cleaning steps, and append the cleaned \n",
    "story to a list. The result will be our **corpus**, a fifty-item list of strings, where each string contains all \n",
    "the tokens in a given story. The _order_ of these entries will be important for work we want to do later on, so we \n",
    "need to make sure that each string always has the same position in the larger list of stories. This is where the \n",
    "file manifest comes in: _we'll load stories in the order provided by the `FILE_NAME` column of `manifest`_. Doing \n",
    "so ensures that the first index (`0`) of our corpus corresponds to the first short story, the second index (`1`) to \n",
    "the second, and so on.\n",
    "\n",
    "\n",
    "Let's write all this out in a `for` loop and do our cleaning.\n",
    "\n",
    "```{margin} What this loop does:\n",
    "1. For every row (`idx`) in `manifest`, collect the item in the row's `FILE_NAME` column and append it to `indir`\n",
    "2. Put the resultant filepath in a `with...open` statement to read in a file\n",
    "3. Clean the story with `clean()`\n",
    "4. Append the result to `corpus`\n",
    "```"
   ]
  },
  {
   "cell_type": "code",
   "execution_count": 4,
   "id": "98428e4a",
   "metadata": {
    "scrolled": true
   },
   "outputs": [],
   "source": [
    "indir =  \"data/session_two/input/\"\n",
    "corpus = []\n",
    "\n",
    "for title in manifest.index:\n",
    "    filepath = indir + manifest.loc[title, 'FILE_NAME']\n",
    "    with open(filepath, 'r') as f:\n",
    "        story = f.read()\n",
    "        cleaned_story = clean(story)\n",
    "        corpus.append(cleaned_story)"
   ]
  },
  {
   "cell_type": "markdown",
   "id": "ef59febe",
   "metadata": {},
   "source": [
    "As a sanity check, we can run an assertion statement, which checks that `corpus` has as many stories in it as \n",
    "`manifest` does...\n",
    "\n",
    "```{margin} On assertions...\n",
    "If the lengths of `corpus` and `manifest` didn't match, `assert` would throw an `AssertionError` with the message \n",
    "after the comma.\n",
    "```"
   ]
  },
  {
   "cell_type": "code",
   "execution_count": 5,
   "id": "6dfc6981",
   "metadata": {},
   "outputs": [],
   "source": [
    "assert len(corpus) == len(manifest), \"Lengths don't match!\""
   ]
  },
  {
   "cell_type": "markdown",
   "id": "5e4deb3f",
   "metadata": {},
   "source": [
    "...and we can inspect some tokens from a few stories to make sure all is well:"
   ]
  },
  {
   "cell_type": "code",
   "execution_count": 6,
   "id": "789cc503",
   "metadata": {},
   "outputs": [
    {
     "name": "stdout",
     "output_type": "stream",
     "text": [
      "behind card table outside food minute sun shift chair table\n",
      "barbie away ken practice future sit sisters room watch barbie\n",
      "silver cloud float horizon robin sparrow trees son joshuas seventh\n"
     ]
    }
   ],
   "source": [
    "for idx in [4, 17, 39]:\n",
    "    fragment = corpus[idx].split()\n",
    "    print(' '.join(fragment[10:20]))"
   ]
  },
  {
   "cell_type": "markdown",
   "id": "2c5e591f",
   "metadata": {},
   "source": [
    "Looks great!"
   ]
  },
  {
   "cell_type": "markdown",
   "id": "605d49b0",
   "metadata": {},
   "source": [
    "The Document-Term Matrix\n",
    "--------------------------------\n",
    "\n",
    "Before we switch into full data exploration mode, we're going to perform one last formatting process on our corpus. \n",
    "Remember from the last chapter that much of text analytics relies on **counts** and **context**: tracking the \n",
    "former in tandem with the latter is how we identify relationships between words (the final section on bigram PMI \n",
    "scores demonstrated this, for example). As with _Frankenstein_, here we'll want to tally up all the words in each \n",
    "story. That produces one kind of context – or rather, fifty different contexts: one for every story. But we have at \n",
    "our hands a corpus, the analysis of which requires a different kind of context: a single one for all the stories. \n",
    "That is, we need a way to relate stories _to each other_, instead of only tracking word values inside a single \n",
    "text.\n",
    "\n",
    "To do so, we'll build a **document-term matrix**, or **DTM**. A DTM is a matrix that contains the frequencies of \n",
    "_all_ terms in a corpus. Every row in this matrix corresponds to a document, while every column corresponds to a \n",
    "term. For a given document, we count the number of times that term appears and enter that number in the column in \n",
    "question. We do this _even if_ the count is zero; key to the way a DTM works is that it represents corpus-wide \n",
    "relationships between texts, so it matters if a text does or doesn't contain a term.\n",
    "\n",
    "Here's a toy example. Imagine three documents:\n",
    "\n",
    "1. \"I like cats. Do you?\"\n",
    "2. \"I only like dogs. And you?\"\n",
    "3. \"I like cats and dogs.\"\n",
    "\n",
    "Transforming these into a document-term matrix would yield:"
   ]
  },
  {
   "cell_type": "code",
   "execution_count": 7,
   "id": "c50c5617",
   "metadata": {},
   "outputs": [
    {
     "data": {
      "text/html": [
       "<div>\n",
       "<style scoped>\n",
       "    .dataframe tbody tr th:only-of-type {\n",
       "        vertical-align: middle;\n",
       "    }\n",
       "\n",
       "    .dataframe tbody tr th {\n",
       "        vertical-align: top;\n",
       "    }\n",
       "\n",
       "    .dataframe thead th {\n",
       "        text-align: right;\n",
       "    }\n",
       "</style>\n",
       "<table border=\"1\" class=\"dataframe\">\n",
       "  <thead>\n",
       "    <tr style=\"text-align: right;\">\n",
       "      <th></th>\n",
       "      <th>i</th>\n",
       "      <th>only</th>\n",
       "      <th>like</th>\n",
       "      <th>cats</th>\n",
       "      <th>and</th>\n",
       "      <th>dogs</th>\n",
       "      <th>do</th>\n",
       "      <th>you</th>\n",
       "    </tr>\n",
       "  </thead>\n",
       "  <tbody>\n",
       "    <tr>\n",
       "      <th>D1</th>\n",
       "      <td>1</td>\n",
       "      <td>0</td>\n",
       "      <td>1</td>\n",
       "      <td>1</td>\n",
       "      <td>0</td>\n",
       "      <td>0</td>\n",
       "      <td>1</td>\n",
       "      <td>1</td>\n",
       "    </tr>\n",
       "    <tr>\n",
       "      <th>D2</th>\n",
       "      <td>1</td>\n",
       "      <td>1</td>\n",
       "      <td>1</td>\n",
       "      <td>0</td>\n",
       "      <td>1</td>\n",
       "      <td>1</td>\n",
       "      <td>0</td>\n",
       "      <td>1</td>\n",
       "    </tr>\n",
       "    <tr>\n",
       "      <th>D3</th>\n",
       "      <td>1</td>\n",
       "      <td>0</td>\n",
       "      <td>1</td>\n",
       "      <td>1</td>\n",
       "      <td>1</td>\n",
       "      <td>1</td>\n",
       "      <td>0</td>\n",
       "      <td>0</td>\n",
       "    </tr>\n",
       "  </tbody>\n",
       "</table>\n",
       "</div>"
      ],
      "text/plain": [
       "    i  only  like  cats  and  dogs  do  you\n",
       "D1  1     0     1     1    0     0   1    1\n",
       "D2  1     1     1     0    1     1   0    1\n",
       "D3  1     0     1     1    1     1   0    0"
      ]
     },
     "execution_count": 7,
     "metadata": {},
     "output_type": "execute_result"
    }
   ],
   "source": [
    "example_corpus = [[1, 0, 1, 1, 0, 0, 1, 1],\n",
    "                  [1, 1, 1, 0, 1, 1, 0, 1],\n",
    "                  [1, 0, 1, 1, 1, 1, 0, 0]]\n",
    "\n",
    "example_dtm = pd.DataFrame(example_corpus, \n",
    "                           index = ['D1', 'D2', 'D3'], \n",
    "                           columns = ['i', 'only', 'like', 'cats', 'and', 'dogs', 'do', 'you']\n",
    "                          )\n",
    "\n",
    "example_dtm"
   ]
  },
  {
   "cell_type": "markdown",
   "id": "1aac8823",
   "metadata": {},
   "source": [
    "Representing texts in this way is incredibly useful because it enables us to easily (and programmatically) discern \n",
    "similarities and differences in our corpus. For example, we can see that each of the above documents contains the \n",
    "words \"I\" and \"like.\" Given that, if we wanted to know what makes each document unique, we could ignore those two \n",
    "words and focus on the rest of the values.\n",
    "\n",
    "Now, imagine doing this for thousands of words. What patterns might emerge?\n",
    "\n",
    "The `scikit-learn` library makes generating a DTM very easy. All we need to do is import a `CountVectorizer()` \n",
    "object, initialize it by assigning it to a variable, and fit it to our corpus. This will result in two things: 1) a \n",
    "fitted `CountVectorizer()`, which will contain a series of different attributes that are useful for corpus \n",
    "exploration; 2) a vectorized representation of our corpus, the document-term matrix.\n",
    "\n",
    "```{margin} More on this\n",
    "`CountVectorizer()` accepts several different arguments that will modify its base functionality, including \n",
    "arguments for applying some text cleaning steps. We won't use any of these arguments because we've already cleaned \n",
    "our text (and indeed it's a good idea to clean your text yourself so you always know what processes have been run \n",
    "on it), but you can learn more about them [here].\n",
    "\n",
    "[here]: https://scikit-learn.org/stable/modules/generated/sklearn.feature_extraction.text.CountVectorizer.html\n",
    "```"
   ]
  },
  {
   "cell_type": "code",
   "execution_count": 8,
   "id": "edac1422",
   "metadata": {},
   "outputs": [
    {
     "name": "stdout",
     "output_type": "stream",
     "text": [
      "Shape of our document-term matrix: (50, 15962), or 50 documents (rows) and 15962 words (columns)\n"
     ]
    }
   ],
   "source": [
    "from sklearn.feature_extraction.text import CountVectorizer\n",
    "\n",
    "count_vectorizer = CountVectorizer()\n",
    "vectorized_corpus = count_vectorizer.fit_transform(corpus)\n",
    "\n",
    "print(\n",
    "    f\"Shape of our document-term matrix: {vectorized_corpus.shape},\", \n",
    "    f\"or {vectorized_corpus.shape[0]} documents (rows)\", \n",
    "    f\"and {vectorized_corpus.shape[1]} words (columns)\"\n",
    ")"
   ]
  },
  {
   "cell_type": "markdown",
   "id": "e617be38",
   "metadata": {},
   "source": [
    "`CountVectorizer()` returns a **sparse matrix**, or a matrix comprised mostly of zeros. This matrix has been \n",
    "formatted to be highly memory efficient, which is useful when dealing with giant datasets, but it's not very \n",
    "accessible for data exploration. Since our corpus is relatively small, we'll convert this sparse matrix into a \n",
    "`Pandas` dataframe. Note all the zeros!"
   ]
  },
  {
   "cell_type": "code",
   "execution_count": 9,
   "id": "1c518525",
   "metadata": {},
   "outputs": [
    {
     "data": {
      "text/html": [
       "<div>\n",
       "<style scoped>\n",
       "    .dataframe tbody tr th:only-of-type {\n",
       "        vertical-align: middle;\n",
       "    }\n",
       "\n",
       "    .dataframe tbody tr th {\n",
       "        vertical-align: top;\n",
       "    }\n",
       "\n",
       "    .dataframe thead th {\n",
       "        text-align: right;\n",
       "    }\n",
       "</style>\n",
       "<table border=\"1\" class=\"dataframe\">\n",
       "  <thead>\n",
       "    <tr style=\"text-align: right;\">\n",
       "      <th></th>\n",
       "      <th>0</th>\n",
       "      <th>1</th>\n",
       "      <th>2</th>\n",
       "      <th>3</th>\n",
       "      <th>4</th>\n",
       "      <th>5</th>\n",
       "      <th>6</th>\n",
       "      <th>7</th>\n",
       "      <th>8</th>\n",
       "      <th>9</th>\n",
       "      <th>10</th>\n",
       "      <th>11</th>\n",
       "      <th>12</th>\n",
       "      <th>13</th>\n",
       "      <th>14</th>\n",
       "    </tr>\n",
       "  </thead>\n",
       "  <tbody>\n",
       "    <tr>\n",
       "      <th>0</th>\n",
       "      <td>0</td>\n",
       "      <td>0</td>\n",
       "      <td>0</td>\n",
       "      <td>0</td>\n",
       "      <td>0</td>\n",
       "      <td>0</td>\n",
       "      <td>0</td>\n",
       "      <td>0</td>\n",
       "      <td>0</td>\n",
       "      <td>0</td>\n",
       "      <td>0</td>\n",
       "      <td>0</td>\n",
       "      <td>0</td>\n",
       "      <td>0</td>\n",
       "      <td>0</td>\n",
       "    </tr>\n",
       "    <tr>\n",
       "      <th>1</th>\n",
       "      <td>0</td>\n",
       "      <td>0</td>\n",
       "      <td>0</td>\n",
       "      <td>0</td>\n",
       "      <td>0</td>\n",
       "      <td>0</td>\n",
       "      <td>0</td>\n",
       "      <td>0</td>\n",
       "      <td>0</td>\n",
       "      <td>0</td>\n",
       "      <td>0</td>\n",
       "      <td>0</td>\n",
       "      <td>0</td>\n",
       "      <td>0</td>\n",
       "      <td>0</td>\n",
       "    </tr>\n",
       "    <tr>\n",
       "      <th>2</th>\n",
       "      <td>0</td>\n",
       "      <td>0</td>\n",
       "      <td>0</td>\n",
       "      <td>0</td>\n",
       "      <td>0</td>\n",
       "      <td>0</td>\n",
       "      <td>0</td>\n",
       "      <td>0</td>\n",
       "      <td>0</td>\n",
       "      <td>0</td>\n",
       "      <td>0</td>\n",
       "      <td>0</td>\n",
       "      <td>0</td>\n",
       "      <td>0</td>\n",
       "      <td>0</td>\n",
       "    </tr>\n",
       "    <tr>\n",
       "      <th>3</th>\n",
       "      <td>0</td>\n",
       "      <td>0</td>\n",
       "      <td>0</td>\n",
       "      <td>0</td>\n",
       "      <td>0</td>\n",
       "      <td>0</td>\n",
       "      <td>0</td>\n",
       "      <td>0</td>\n",
       "      <td>0</td>\n",
       "      <td>0</td>\n",
       "      <td>0</td>\n",
       "      <td>0</td>\n",
       "      <td>0</td>\n",
       "      <td>0</td>\n",
       "      <td>0</td>\n",
       "    </tr>\n",
       "    <tr>\n",
       "      <th>4</th>\n",
       "      <td>0</td>\n",
       "      <td>0</td>\n",
       "      <td>0</td>\n",
       "      <td>0</td>\n",
       "      <td>0</td>\n",
       "      <td>0</td>\n",
       "      <td>0</td>\n",
       "      <td>0</td>\n",
       "      <td>0</td>\n",
       "      <td>0</td>\n",
       "      <td>0</td>\n",
       "      <td>1</td>\n",
       "      <td>9</td>\n",
       "      <td>0</td>\n",
       "      <td>0</td>\n",
       "    </tr>\n",
       "  </tbody>\n",
       "</table>\n",
       "</div>"
      ],
      "text/plain": [
       "   0   1   2   3   4   5   6   7   8   9   10  11  12  13  14\n",
       "0   0   0   0   0   0   0   0   0   0   0   0   0   0   0   0\n",
       "1   0   0   0   0   0   0   0   0   0   0   0   0   0   0   0\n",
       "2   0   0   0   0   0   0   0   0   0   0   0   0   0   0   0\n",
       "3   0   0   0   0   0   0   0   0   0   0   0   0   0   0   0\n",
       "4   0   0   0   0   0   0   0   0   0   0   0   1   9   0   0"
      ]
     },
     "execution_count": 9,
     "metadata": {},
     "output_type": "execute_result"
    }
   ],
   "source": [
    "dtm = pd.DataFrame(vectorized_corpus.toarray())\n",
    "dtm.iloc[:5,:15]"
   ]
  },
  {
   "cell_type": "markdown",
   "id": "a027a0dd",
   "metadata": {},
   "source": [
    "As it stands, this dataframe is hard to understand. But luckily, we've kept track of which row corresponds to which \n",
    "story: this is why we used our manifest to control our file order. Further, the fitted `CountVectorizer()` has a \n",
    "special method, `get_feature_names_out()`, which will generate an array of all the tokens from all the files (our \n",
    "vocabulary). The order of this array corresponds to the order of our columns. Accordingly, we can assign this array \n",
    "to the column names of `dtm` and assign the story titles in `manifest` to its index names, making it much easier to \n",
    "associate column values with row values."
   ]
  },
  {
   "cell_type": "code",
   "execution_count": 10,
   "id": "e1e61758",
   "metadata": {},
   "outputs": [
    {
     "data": {
      "text/html": [
       "<div>\n",
       "<style scoped>\n",
       "    .dataframe tbody tr th:only-of-type {\n",
       "        vertical-align: middle;\n",
       "    }\n",
       "\n",
       "    .dataframe tbody tr th {\n",
       "        vertical-align: top;\n",
       "    }\n",
       "\n",
       "    .dataframe thead th {\n",
       "        text-align: right;\n",
       "    }\n",
       "</style>\n",
       "<table border=\"1\" class=\"dataframe\">\n",
       "  <thead>\n",
       "    <tr style=\"text-align: right;\">\n",
       "      <th></th>\n",
       "      <th>aaa</th>\n",
       "      <th>aaaaargh</th>\n",
       "      <th>aaaargh</th>\n",
       "      <th>aachen</th>\n",
       "      <th>aachens</th>\n",
       "      <th>aahed</th>\n",
       "      <th>aback</th>\n",
       "      <th>abandon</th>\n",
       "      <th>abandoned</th>\n",
       "      <th>abbey</th>\n",
       "      <th>abbreviate</th>\n",
       "      <th>abby</th>\n",
       "      <th>abbylucyferny</th>\n",
       "      <th>abdomen</th>\n",
       "      <th>abdominal</th>\n",
       "    </tr>\n",
       "    <tr>\n",
       "      <th>TITLE</th>\n",
       "      <th></th>\n",
       "      <th></th>\n",
       "      <th></th>\n",
       "      <th></th>\n",
       "      <th></th>\n",
       "      <th></th>\n",
       "      <th></th>\n",
       "      <th></th>\n",
       "      <th></th>\n",
       "      <th></th>\n",
       "      <th></th>\n",
       "      <th></th>\n",
       "      <th></th>\n",
       "      <th></th>\n",
       "      <th></th>\n",
       "    </tr>\n",
       "  </thead>\n",
       "  <tbody>\n",
       "    <tr>\n",
       "      <th>TheSchool</th>\n",
       "      <td>0</td>\n",
       "      <td>0</td>\n",
       "      <td>0</td>\n",
       "      <td>0</td>\n",
       "      <td>0</td>\n",
       "      <td>0</td>\n",
       "      <td>0</td>\n",
       "      <td>0</td>\n",
       "      <td>0</td>\n",
       "      <td>0</td>\n",
       "      <td>0</td>\n",
       "      <td>0</td>\n",
       "      <td>0</td>\n",
       "      <td>0</td>\n",
       "      <td>0</td>\n",
       "    </tr>\n",
       "    <tr>\n",
       "      <th>Tony’sStory</th>\n",
       "      <td>0</td>\n",
       "      <td>0</td>\n",
       "      <td>0</td>\n",
       "      <td>0</td>\n",
       "      <td>0</td>\n",
       "      <td>0</td>\n",
       "      <td>0</td>\n",
       "      <td>0</td>\n",
       "      <td>0</td>\n",
       "      <td>0</td>\n",
       "      <td>0</td>\n",
       "      <td>0</td>\n",
       "      <td>0</td>\n",
       "      <td>0</td>\n",
       "      <td>0</td>\n",
       "    </tr>\n",
       "    <tr>\n",
       "      <th>NineteenFifty-five</th>\n",
       "      <td>0</td>\n",
       "      <td>0</td>\n",
       "      <td>0</td>\n",
       "      <td>0</td>\n",
       "      <td>0</td>\n",
       "      <td>0</td>\n",
       "      <td>0</td>\n",
       "      <td>0</td>\n",
       "      <td>0</td>\n",
       "      <td>0</td>\n",
       "      <td>0</td>\n",
       "      <td>0</td>\n",
       "      <td>0</td>\n",
       "      <td>0</td>\n",
       "      <td>0</td>\n",
       "    </tr>\n",
       "    <tr>\n",
       "      <th>Girl</th>\n",
       "      <td>0</td>\n",
       "      <td>0</td>\n",
       "      <td>0</td>\n",
       "      <td>0</td>\n",
       "      <td>0</td>\n",
       "      <td>0</td>\n",
       "      <td>0</td>\n",
       "      <td>0</td>\n",
       "      <td>0</td>\n",
       "      <td>0</td>\n",
       "      <td>0</td>\n",
       "      <td>0</td>\n",
       "      <td>0</td>\n",
       "      <td>0</td>\n",
       "      <td>0</td>\n",
       "    </tr>\n",
       "    <tr>\n",
       "      <th>Territory</th>\n",
       "      <td>0</td>\n",
       "      <td>0</td>\n",
       "      <td>0</td>\n",
       "      <td>0</td>\n",
       "      <td>0</td>\n",
       "      <td>0</td>\n",
       "      <td>0</td>\n",
       "      <td>0</td>\n",
       "      <td>0</td>\n",
       "      <td>0</td>\n",
       "      <td>0</td>\n",
       "      <td>1</td>\n",
       "      <td>9</td>\n",
       "      <td>0</td>\n",
       "      <td>0</td>\n",
       "    </tr>\n",
       "  </tbody>\n",
       "</table>\n",
       "</div>"
      ],
      "text/plain": [
       "                    aaa  aaaaargh  aaaargh  aachen  aachens  aahed  aback  \\\n",
       "TITLE                                                                       \n",
       "TheSchool             0         0        0       0        0      0      0   \n",
       "Tony’sStory           0         0        0       0        0      0      0   \n",
       "NineteenFifty-five    0         0        0       0        0      0      0   \n",
       "Girl                  0         0        0       0        0      0      0   \n",
       "Territory             0         0        0       0        0      0      0   \n",
       "\n",
       "                    abandon  abandoned  abbey  abbreviate  abby  \\\n",
       "TITLE                                                             \n",
       "TheSchool                 0          0      0           0     0   \n",
       "Tony’sStory               0          0      0           0     0   \n",
       "NineteenFifty-five        0          0      0           0     0   \n",
       "Girl                      0          0      0           0     0   \n",
       "Territory                 0          0      0           0     1   \n",
       "\n",
       "                    abbylucyferny  abdomen  abdominal  \n",
       "TITLE                                                  \n",
       "TheSchool                       0        0          0  \n",
       "Tony’sStory                     0        0          0  \n",
       "NineteenFifty-five              0        0          0  \n",
       "Girl                            0        0          0  \n",
       "Territory                       9        0          0  "
      ]
     },
     "execution_count": 10,
     "metadata": {},
     "output_type": "execute_result"
    }
   ],
   "source": [
    "dtm.columns = count_vectorizer.get_feature_names_out()\n",
    "dtm.index = manifest.index\n",
    "dtm.iloc[:5,:15]"
   ]
  },
  {
   "cell_type": "markdown",
   "id": "70bc3d38",
   "metadata": {},
   "source": [
    "Analyzing the Corpus\n",
    "-------------------------\n",
    "\n",
    "With our DTM made, we can use it to generate some metrics about each text in our corpus. We'll use `Pandas` data \n",
    "manipulations in conjunction with `NumPy` to do this."
   ]
  },
  {
   "cell_type": "markdown",
   "id": "4fcc3ee9",
   "metadata": {},
   "source": [
    "### Raw Metrics: Documents\n",
    "\n",
    "Here's an easy one: let's count the number of tokens in each story and assign the result to a new column in our \n",
    "manifest.\n",
    "\n",
    "```{margin} Vectorized functions\n",
    "If you're unfamiliar with `apply()`, or it's just been a while since you've used it, this method applies a function \n",
    "along an axis of a dataframe. Think of it like a shorthand for a `for` loop: the default usage runs every column \n",
    "through your desired function. In this case, we're setting the `axis` to `1` so `sum()` runs on every row. This \n",
    "will sum together each value in every row.\n",
    "```"
   ]
  },
  {
   "cell_type": "code",
   "execution_count": 11,
   "id": "9012c6d3",
   "metadata": {},
   "outputs": [
    {
     "data": {
      "image/png": "[encoded data removed]",
      "text/plain": [
       "<Figure size 1080x360 with 1 Axes>"
      ]
     },
     "metadata": {
      "needs_background": "light"
     },
     "output_type": "display_data"
    }
   ],
   "source": [
    "import numpy as np\n",
    "\n",
    "manifest = manifest.assign(NUM_TOKENS = dtm.apply(sum, axis = 1).values)\n",
    "\n",
    "manifest['NUM_TOKENS'].sort_values(ascending = False).plot.bar(figsize = (15, 5),\n",
    "                                                               title = \"Tokens per Story\",\n",
    "                                                               xlabel = 'Title',\n",
    "                                                               ylabel = 'Number of Tokens'\n",
    "                                                              );"
   ]
  },
  {
   "cell_type": "markdown",
   "id": "635755df",
   "metadata": {},
   "source": [
    "We can also count the number of unique words, or **types**, in each story. Types correspond to a story's \n",
    "vocabulary, whereas tokens correspond to the amount of each type in a story."
   ]
  },
  {
   "cell_type": "code",
   "execution_count": 12,
   "id": "931a5d04",
   "metadata": {},
   "outputs": [
    {
     "data": {
      "image/png": "[encoded data removed]",
      "text/plain": [
       "<Figure size 1080x360 with 1 Axes>"
      ]
     },
     "metadata": {
      "needs_background": "light"
     },
     "output_type": "display_data"
    }
   ],
   "source": [
    "manifest = manifest.assign(NUM_TYPES = dtm.apply(np.count_nonzero, axis = 1))\n",
    "\n",
    "manifest['NUM_TYPES'].sort_values(ascending = False).plot.bar(figsize = (15, 5),\n",
    "                                                              title = \"Types per Story\",\n",
    "                                                              xlabel = 'Title',\n",
    "                                                              ylabel = 'Number of Types'\n",
    "                                                             );"
   ]
  },
  {
   "cell_type": "markdown",
   "id": "e2bc4371",
   "metadata": {},
   "source": [
    "With tokens and types generated, we can generate a measure of **lexical diversity**. There are a few such measures. \n",
    "We'll go with a **type-token ratio** (TTR), which measures how much the vocabulary of a text varies over its \n",
    "tokens. It's a simple metric: divide the number of types (unique words) by the total number of tokens in a text and \n",
    "normalize the result. A text with a TTR of 100, for example, would never repeat a word."
   ]
  },
  {
   "cell_type": "code",
   "execution_count": 13,
   "id": "249875f9",
   "metadata": {
    "scrolled": false
   },
   "outputs": [
    {
     "data": {
      "image/png": "[encoded data removed]",
      "text/plain": [
       "<Figure size 1080x360 with 1 Axes>"
      ]
     },
     "metadata": {
      "needs_background": "light"
     },
     "output_type": "display_data"
    }
   ],
   "source": [
    "manifest = manifest.assign(TTR = (manifest['NUM_TYPES'] / manifest['NUM_TOKENS']) * 100)\n",
    "\n",
    "manifest['TTR'].sort_values(ascending = False).plot.bar(figsize = (15, 5),\n",
    "                                                        title = 'Type–Token Ratios per Story',\n",
    "                                                        legend = None,\n",
    "                                                        xlabel = 'Title',\n",
    "                                                        ylabel = 'Type–Token Ratio %',\n",
    "                                                        yticks = range(0, 110, 10)\n",
    "                                                       );"
   ]
  },
  {
   "cell_type": "markdown",
   "id": "9f5a2d69",
   "metadata": {},
   "source": [
    "With this, we can make some preliminary comparisons across our corpus, weighing the vocabulary of one story against \n",
    "another."
   ]
  },
  {
   "cell_type": "markdown",
   "id": "52605b9b",
   "metadata": {},
   "source": [
    "### Raw Metrics: Terms\n",
    "\n",
    "Let's move to terms. Here are the top five most frequent terms in the corpus:"
   ]
  },
  {
   "cell_type": "code",
   "execution_count": 14,
   "id": "caec88d9",
   "metadata": {},
   "outputs": [
    {
     "data": {
      "text/plain": [
       "say     2028\n",
       "like    1495\n",
       "know    1031\n",
       "look     953\n",
       "said     867\n",
       "dtype: int64"
      ]
     },
     "execution_count": 14,
     "metadata": {},
     "output_type": "execute_result"
    }
   ],
   "source": [
    "dtm.sum().sort_values(ascending = False).head(5)"
   ]
  },
  {
   "cell_type": "markdown",
   "id": "b0c1fdbc",
   "metadata": {},
   "source": [
    "And here are the bottom five:"
   ]
  },
  {
   "cell_type": "code",
   "execution_count": 15,
   "id": "9185b38f",
   "metadata": {},
   "outputs": [
    {
     "data": {
      "text/plain": [
       "aaa              1\n",
       "heartbroken      1\n",
       "heartbreaking    1\n",
       "heartbreak       1\n",
       "heartache        1\n",
       "dtype: int64"
      ]
     },
     "execution_count": 15,
     "metadata": {},
     "output_type": "execute_result"
    }
   ],
   "source": [
    "dtm.sum().sort_values().head(5)"
   ]
  },
  {
   "cell_type": "markdown",
   "id": "b86457d0",
   "metadata": {},
   "source": [
    "Though there are likely to be quite a few one-count terms. Here are the bottom ten:"
   ]
  },
  {
   "cell_type": "code",
   "execution_count": 16,
   "id": "1b255733",
   "metadata": {},
   "outputs": [
    {
     "data": {
      "text/plain": [
       "aaa              1\n",
       "heartbroken      1\n",
       "heartbreaking    1\n",
       "heartbreak       1\n",
       "heartache        1\n",
       "hearse           1\n",
       "hears            1\n",
       "signature        1\n",
       "significance     1\n",
       "significant      1\n",
       "dtype: int64"
      ]
     },
     "execution_count": 16,
     "metadata": {},
     "output_type": "execute_result"
    }
   ],
   "source": [
    "dtm.sum().sort_values().head(10)"
   ]
  },
  {
   "cell_type": "markdown",
   "id": "255c2a65",
   "metadata": {},
   "source": [
    "Each of these terms is called a **hapax legomenon** (Greek for \"only said once\"). How many are in our corpus \n",
    "altogether?"
   ]
  },
  {
   "cell_type": "code",
   "execution_count": 17,
   "id": "8d0e23a6",
   "metadata": {},
   "outputs": [
    {
     "name": "stdout",
     "output_type": "stream",
     "text": [
      "Number of hapax legomenons: 7463, or 0.47% of the words in our corpus\n"
     ]
    }
   ],
   "source": [
    "hapaxes = dtm.sum()[dtm.sum() == 1]\n",
    "\n",
    "print(\n",
    "    f\"Number of hapax legomenons: {len(hapaxes)},\",\n",
    "    f\"or {len(hapaxes) / len(dtm.T):.02f}% of the words in our corpus\"\n",
    ")"
   ]
  },
  {
   "cell_type": "markdown",
   "id": "07af4021",
   "metadata": {},
   "source": [
    "How many terms are in the top five quantiles of the term counts?"
   ]
  },
  {
   "cell_type": "code",
   "execution_count": 18,
   "id": "6e1d971f",
   "metadata": {},
   "outputs": [
    {
     "name": "stdout",
     "output_type": "stream",
     "text": [
      "Word counts for the ninety-fifth quantile: 31.0 \n",
      "Number of words with counts at or above this quantile: 801 (0.05% of words)\n"
     ]
    }
   ],
   "source": [
    "count_quantile = dtm.sum().quantile(0.95)\n",
    "count_quantile_words = dtm.sum()[dtm.sum() >= count_quantile]\n",
    "\n",
    "print(\n",
    "    f\"Word counts for the ninety-fifth quantile: {count_quantile}\",\n",
    "    f\"\\nNumber of words with counts at or above this quantile: {len(count_quantile_words)}\", \n",
    "    f\"({len(count_quantile_words) / len(dtm.T):.02f}% of words)\"\n",
    ")"
   ]
  },
  {
   "cell_type": "markdown",
   "id": "395eb92d",
   "metadata": {},
   "source": [
    "The discrepancies between the above two values should feel familiar: our term distribution is Zipfian."
   ]
  },
  {
   "cell_type": "code",
   "execution_count": 19,
   "id": "4e8ca87c",
   "metadata": {},
   "outputs": [
    {
     "data": {
      "image/png": "[encoded data removed]",
      "text/plain": [
       "<Figure size 1080x720 with 1 Axes>"
      ]
     },
     "metadata": {
      "needs_background": "light"
     },
     "output_type": "display_data"
    }
   ],
   "source": [
    "dtm.sum().sort_values(ascending=False).plot(figsize = (15, 10),\n",
    "                                            title = 'Term Counts',\n",
    "                                            xlabel = 'Term', \n",
    "                                            ylabel = 'Count',\n",
    "                                            xticks = range(0, len(dtm.T), 750),\n",
    "                                            rot = 45\n",
    "                                           );"
   ]
  },
  {
   "cell_type": "markdown",
   "id": "a4f6cf6f",
   "metadata": {},
   "source": [
    "This distribution has a few consequences for us. It suggests, for example, that we might have some more cleaning \n",
    "to do in terms of stop word removal: \"say\" and \"like\" could be candidates for removal. If we don't remove these \n",
    "terms, we might have trouble identifying unique aspects of each story in our corpus. Highly frequent terms will \n",
    "choke out differences across the corpus, as we can see here with the top terms for each story:"
   ]
  },
  {
   "cell_type": "code",
   "execution_count": 20,
   "id": "d094d8a9",
   "metadata": {},
   "outputs": [
    {
     "data": {
      "text/plain": [
       "TITLE\n",
       "TheSchool                                   say\n",
       "Tony’sStory                                leon\n",
       "NineteenFifty-five                          say\n",
       "Girl                                       dont\n",
       "Territory                                  neil\n",
       "HowFarSheWent                              girl\n",
       "SarahColeATypeofLoveStory                   say\n",
       "Caviar                                    marie\n",
       "WinnersonthePassLine                        ray\n",
       "TheWayWeLiveNow                             say\n",
       "Communist                                  glen\n",
       "TheManagementofGrief                        say\n",
       "TheFireman’sWife                           says\n",
       "Wickedness                                  say\n",
       "Lust                                       like\n",
       "TwoKinds                                 mother\n",
       "TheDisappeared                             said\n",
       "ARealDoll                                barbie\n",
       "TheThingsTheyCarried                      carry\n",
       "NeverMarryaMexican                         like\n",
       "CarCrashWhileHitchhiking                    car\n",
       "Marie                                     marie\n",
       "TheKindofLightThatShinesonTexas             say\n",
       "SilverWater                                rose\n",
       "ThePugilistatRest                          like\n",
       "TheTranslation                           oliver\n",
       "Orientation                                 sit\n",
       "JealousHusbandReturnsinFormofParrot         say\n",
       "Relief                                 bromhead\n",
       "AfterRosaParks                            ellie\n",
       "Tiny, Smiling Daddy                       kitty\n",
       "Xmas,JamaicaPlain                           say\n",
       "TheRestofHerLife                            say\n",
       "Nilda                                       say\n",
       "ATemporaryMatter                          shoba\n",
       "TheHalf-SkinnedSteer                        say\n",
       "SeaOak                                      say\n",
       "Boys                                      house\n",
       "TheCavemenintheHedges                       kim\n",
       "TheHermit'sStory                         joshua\n",
       "TheCeiling                                  dog\n",
       "TheCaretaker                             joseph\n",
       "Pilgrims                                   ella\n",
       "Brownies                                    say\n",
       "WeDidn’t                                  night\n",
       "TheSecretGoldfish                          fish\n",
       "MyShape                                    like\n",
       "Stone Animals                              said\n",
       "FemaleTrouble                           mcbride\n",
       "TwilightoftheSuperheroes                 lucien\n",
       "dtype: object"
      ]
     },
     "execution_count": 20,
     "metadata": {},
     "output_type": "execute_result"
    }
   ],
   "source": [
    "dtm.idxmax(axis = 1)"
   ]
  },
  {
   "cell_type": "code",
   "execution_count": 21,
   "id": "f1807c8f",
   "metadata": {},
   "outputs": [
    {
     "name": "stdout",
     "output_type": "stream",
     "text": [
      "Stories where ['say', 'says', 'said'] is the top word: 17\n"
     ]
    }
   ],
   "source": [
    "top_terms = dtm.idxmax(axis = 1)\n",
    "target = ['say', 'says', 'said']\n",
    "\n",
    "print(\n",
    "    f\"Stories where {target} is the top word: {len(top_terms[top_terms.isin(target)])}\",\n",
    ")"
   ]
  },
  {
   "cell_type": "markdown",
   "id": "929cd2df",
   "metadata": {},
   "source": [
    "That's a third of our stories!\n",
    "\n",
    "But there's also an argument to be made for keeping \"said\" and \"say\" in our corpus. We are, after all, looking at \n",
    "narrative stories, and it matters that there's dialogue. Removing these words would prevent us from studying this \n",
    "later on.\n",
    "\n",
    "How, then, can we have it both ways? How can we reduce the influence of highly frequent terms without removing them \n",
    "altogether?"
   ]
  },
  {
   "cell_type": "markdown",
   "id": "c5546676",
   "metadata": {},
   "source": [
    "### Weighted Metrics: tf-idf Scores\n",
    "\n",
    "The answer is to **weight** our terms, doing so in a way that lessens the impact of terms we know to be highly \n",
    "general in our corpus and that increases the impact of unique terms for each story. The most popular way to do this \n",
    "is to implement **tf-idf, or term frequency–inverse document frequency, scoring**. In essence, a tf-idf score is a \n",
    "measure of term specificity in the context of a given document. It is the product of a term's frequency in that \n",
    "document and the number of documents in which that term appears. By offsetting terms that appear across many \n",
    "documents, tf-idf pushes down the scores of common terms and boosts the scores of rarer ones.\n",
    "\n",
    "```{margin} The idf score\n",
    "We calculate the inverse document frequency (idf) score with\n",
    "\n",
    "$idf_i = log(\\frac{n}{df_i})$\n",
    "\n",
    "Where $idf_i$, the idf score for term $i$, is the log of $n$, the total number of documents, over $df_i$, the \n",
    "number of documents that contain $i$.\n",
    "```\n",
    "\n",
    "A tf-idf score can be expressed as\n",
    "\n",
    "$w_i,_j = tf_i,_j \\cdot idf_i$\n",
    "\n",
    "Where, for term $i$ and document $j$, the score $w$ is the term frequency, or $tf_i,_j$, for $i$ in $j$, multiplied \n",
    "by $idf_i$, the inverse document score. The higher the score, the more specific a term is for a given document.\n",
    "\n",
    "Conveniently, we don't need to implement any of this math ourselves. `scikit-learn` has a `TfidfVectorizer()` \n",
    "object, which works just like `CountVectorizer()`, but instead of producing a DTM of raw term counts, it produces a \n",
    "DTM of tf-idf scores. Let's import `TfidfVectorizer()`, initialize it, fit it to our corpus, and generate a new DTM \n",
    "with these scores."
   ]
  },
  {
   "cell_type": "code",
   "execution_count": 22,
   "id": "0fc1f61f",
   "metadata": {},
   "outputs": [],
   "source": [
    "from sklearn.feature_extraction.text import TfidfVectorizer\n",
    "\n",
    "tfidf_vectorizer = TfidfVectorizer()\n",
    "vectorized_with_tfidf = tfidf_vectorizer.fit_transform(corpus)\n",
    "\n",
    "tfidf_scores = pd.DataFrame(vectorized_with_tfidf.toarray(),\n",
    "                            index = manifest.index,\n",
    "                            columns = tfidf_vectorizer.get_feature_names_out()\n",
    "                           )"
   ]
  },
  {
   "cell_type": "code",
   "execution_count": 23,
   "id": "295774d8",
   "metadata": {},
   "outputs": [
    {
     "data": {
      "text/html": [
       "<div>\n",
       "<style scoped>\n",
       "    .dataframe tbody tr th:only-of-type {\n",
       "        vertical-align: middle;\n",
       "    }\n",
       "\n",
       "    .dataframe tbody tr th {\n",
       "        vertical-align: top;\n",
       "    }\n",
       "\n",
       "    .dataframe thead th {\n",
       "        text-align: right;\n",
       "    }\n",
       "</style>\n",
       "<table border=\"1\" class=\"dataframe\">\n",
       "  <thead>\n",
       "    <tr style=\"text-align: right;\">\n",
       "      <th></th>\n",
       "      <th>aaa</th>\n",
       "      <th>aaaaargh</th>\n",
       "      <th>aaaargh</th>\n",
       "      <th>aachen</th>\n",
       "      <th>aachens</th>\n",
       "      <th>aahed</th>\n",
       "      <th>aback</th>\n",
       "      <th>abandon</th>\n",
       "      <th>abandoned</th>\n",
       "      <th>abbey</th>\n",
       "      <th>abbreviate</th>\n",
       "      <th>abby</th>\n",
       "      <th>abbylucyferny</th>\n",
       "      <th>abdomen</th>\n",
       "      <th>abdominal</th>\n",
       "    </tr>\n",
       "    <tr>\n",
       "      <th>TITLE</th>\n",
       "      <th></th>\n",
       "      <th></th>\n",
       "      <th></th>\n",
       "      <th></th>\n",
       "      <th></th>\n",
       "      <th></th>\n",
       "      <th></th>\n",
       "      <th></th>\n",
       "      <th></th>\n",
       "      <th></th>\n",
       "      <th></th>\n",
       "      <th></th>\n",
       "      <th></th>\n",
       "      <th></th>\n",
       "      <th></th>\n",
       "    </tr>\n",
       "  </thead>\n",
       "  <tbody>\n",
       "    <tr>\n",
       "      <th>TheSchool</th>\n",
       "      <td>0.0</td>\n",
       "      <td>0.0</td>\n",
       "      <td>0.0</td>\n",
       "      <td>0.0</td>\n",
       "      <td>0.0</td>\n",
       "      <td>0.0</td>\n",
       "      <td>0.0</td>\n",
       "      <td>0.0</td>\n",
       "      <td>0.0</td>\n",
       "      <td>0.0</td>\n",
       "      <td>0.0</td>\n",
       "      <td>0.000000</td>\n",
       "      <td>0.000000</td>\n",
       "      <td>0.0</td>\n",
       "      <td>0.0</td>\n",
       "    </tr>\n",
       "    <tr>\n",
       "      <th>Tony’sStory</th>\n",
       "      <td>0.0</td>\n",
       "      <td>0.0</td>\n",
       "      <td>0.0</td>\n",
       "      <td>0.0</td>\n",
       "      <td>0.0</td>\n",
       "      <td>0.0</td>\n",
       "      <td>0.0</td>\n",
       "      <td>0.0</td>\n",
       "      <td>0.0</td>\n",
       "      <td>0.0</td>\n",
       "      <td>0.0</td>\n",
       "      <td>0.000000</td>\n",
       "      <td>0.000000</td>\n",
       "      <td>0.0</td>\n",
       "      <td>0.0</td>\n",
       "    </tr>\n",
       "    <tr>\n",
       "      <th>NineteenFifty-five</th>\n",
       "      <td>0.0</td>\n",
       "      <td>0.0</td>\n",
       "      <td>0.0</td>\n",
       "      <td>0.0</td>\n",
       "      <td>0.0</td>\n",
       "      <td>0.0</td>\n",
       "      <td>0.0</td>\n",
       "      <td>0.0</td>\n",
       "      <td>0.0</td>\n",
       "      <td>0.0</td>\n",
       "      <td>0.0</td>\n",
       "      <td>0.000000</td>\n",
       "      <td>0.000000</td>\n",
       "      <td>0.0</td>\n",
       "      <td>0.0</td>\n",
       "    </tr>\n",
       "    <tr>\n",
       "      <th>Girl</th>\n",
       "      <td>0.0</td>\n",
       "      <td>0.0</td>\n",
       "      <td>0.0</td>\n",
       "      <td>0.0</td>\n",
       "      <td>0.0</td>\n",
       "      <td>0.0</td>\n",
       "      <td>0.0</td>\n",
       "      <td>0.0</td>\n",
       "      <td>0.0</td>\n",
       "      <td>0.0</td>\n",
       "      <td>0.0</td>\n",
       "      <td>0.000000</td>\n",
       "      <td>0.000000</td>\n",
       "      <td>0.0</td>\n",
       "      <td>0.0</td>\n",
       "    </tr>\n",
       "    <tr>\n",
       "      <th>Territory</th>\n",
       "      <td>0.0</td>\n",
       "      <td>0.0</td>\n",
       "      <td>0.0</td>\n",
       "      <td>0.0</td>\n",
       "      <td>0.0</td>\n",
       "      <td>0.0</td>\n",
       "      <td>0.0</td>\n",
       "      <td>0.0</td>\n",
       "      <td>0.0</td>\n",
       "      <td>0.0</td>\n",
       "      <td>0.0</td>\n",
       "      <td>0.007863</td>\n",
       "      <td>0.070767</td>\n",
       "      <td>0.0</td>\n",
       "      <td>0.0</td>\n",
       "    </tr>\n",
       "  </tbody>\n",
       "</table>\n",
       "</div>"
      ],
      "text/plain": [
       "                    aaa  aaaaargh  aaaargh  aachen  aachens  aahed  aback  \\\n",
       "TITLE                                                                       \n",
       "TheSchool           0.0       0.0      0.0     0.0      0.0    0.0    0.0   \n",
       "Tony’sStory         0.0       0.0      0.0     0.0      0.0    0.0    0.0   \n",
       "NineteenFifty-five  0.0       0.0      0.0     0.0      0.0    0.0    0.0   \n",
       "Girl                0.0       0.0      0.0     0.0      0.0    0.0    0.0   \n",
       "Territory           0.0       0.0      0.0     0.0      0.0    0.0    0.0   \n",
       "\n",
       "                    abandon  abandoned  abbey  abbreviate      abby  \\\n",
       "TITLE                                                                 \n",
       "TheSchool               0.0        0.0    0.0         0.0  0.000000   \n",
       "Tony’sStory             0.0        0.0    0.0         0.0  0.000000   \n",
       "NineteenFifty-five      0.0        0.0    0.0         0.0  0.000000   \n",
       "Girl                    0.0        0.0    0.0         0.0  0.000000   \n",
       "Territory               0.0        0.0    0.0         0.0  0.007863   \n",
       "\n",
       "                    abbylucyferny  abdomen  abdominal  \n",
       "TITLE                                                  \n",
       "TheSchool                0.000000      0.0        0.0  \n",
       "Tony’sStory              0.000000      0.0        0.0  \n",
       "NineteenFifty-five       0.000000      0.0        0.0  \n",
       "Girl                     0.000000      0.0        0.0  \n",
       "Territory                0.070767      0.0        0.0  "
      ]
     },
     "execution_count": 23,
     "metadata": {},
     "output_type": "execute_result"
    }
   ],
   "source": [
    "tfidf_scores.iloc[:5,:15]"
   ]
  },
  {
   "cell_type": "markdown",
   "id": "b69c4eaf",
   "metadata": {},
   "source": [
    "To see the difference tf-idf scores make, let's look at the top terms for each story according to these scores, \n",
    "rather than raw counts."
   ]
  },
  {
   "cell_type": "code",
   "execution_count": 24,
   "id": "88896051",
   "metadata": {},
   "outputs": [
    {
     "data": {
      "text/plain": [
       "TITLE\n",
       "TheSchool                                  helen\n",
       "Tony’sStory                                 leon\n",
       "NineteenFifty-five                       traynor\n",
       "Girl                                        dont\n",
       "Territory                                   neil\n",
       "HowFarSheWent                             granny\n",
       "SarahColeATypeofLoveStory                  sarah\n",
       "Caviar                                     marie\n",
       "WinnersonthePassLine                         ray\n",
       "TheWayWeLiveNow                          quentin\n",
       "Communist                                   glen\n",
       "TheManagementofGrief                       kusum\n",
       "TheFireman’sWife                            jane\n",
       "Wickedness                                hattie\n",
       "Lust                                        like\n",
       "TwoKinds                                   piano\n",
       "TheDisappeared                            anders\n",
       "ARealDoll                                 barbie\n",
       "TheThingsTheyCarried                       carry\n",
       "NeverMarryaMexican                          like\n",
       "CarCrashWhileHitchhiking                     car\n",
       "Marie                                      marie\n",
       "TheKindofLightThatShinesonTexas           oakley\n",
       "SilverWater                                 rose\n",
       "ThePugilistatRest                       jorgeson\n",
       "TheTranslation                            oliver\n",
       "Orientation                              cubicle\n",
       "JealousHusbandReturnsinFormofParrot         bird\n",
       "Relief                                  bromhead\n",
       "AfterRosaParks                             ellie\n",
       "Tiny, Smiling Daddy                        kitty\n",
       "Xmas,JamaicaPlain                          emile\n",
       "TheRestofHerLife                         chuckie\n",
       "Nilda                                       rafa\n",
       "ATemporaryMatter                           shoba\n",
       "TheHalf-SkinnedSteer                       rollo\n",
       "SeaOak                                       min\n",
       "Boys                                        boys\n",
       "TheCavemenintheHedges                        kim\n",
       "TheHermit'sStory                          joshua\n",
       "TheCeiling                                   ann\n",
       "TheCaretaker                              joseph\n",
       "Pilgrims                                    ella\n",
       "Brownies                                 arnetta\n",
       "WeDidn’t                                   drown\n",
       "TheSecretGoldfish                           fish\n",
       "MyShape                                   pierre\n",
       "Stone Animals                          catherine\n",
       "FemaleTrouble                            mcbride\n",
       "TwilightoftheSuperheroes                  lucien\n",
       "dtype: object"
      ]
     },
     "execution_count": 24,
     "metadata": {},
     "output_type": "execute_result"
    }
   ],
   "source": [
    "tfidf_scores.idxmax(axis = 1)"
   ]
  },
  {
   "cell_type": "markdown",
   "id": "66f4b7af",
   "metadata": {},
   "source": [
    "Note all the names, which have fully replaced those common words from before. This makes intuitive sense: most \n",
    "stories are about specific characters, and these characters' names tend not to occur in other stories. Given that \n",
    "tf-idf scores help us home in on term specificity, they're going to highlight this fact.\n",
    "\n",
    "Let's also look at a single story. We'll compare the top ten raw counts for that story and the top ten tf-idf \n",
    "scores."
   ]
  },
  {
   "cell_type": "code",
   "execution_count": 25,
   "id": "7a7eca0b",
   "metadata": {
    "scrolled": true
   },
   "outputs": [
    {
     "name": "stdout",
     "output_type": "stream",
     "text": [
      "Top ten term counts for The Things They Carried\n",
      "\n",
      "     carry: 114\n",
      "      love: 28\n",
      "lieutenant: 27\n",
      "     cross: 26\n",
      "       say: 25\n",
      "     pound: 23\n",
      "  lavender: 22\n",
      "    martha: 21\n",
      "      just: 20\n",
      "       men: 19\n"
     ]
    }
   ],
   "source": [
    "print(\"Top ten term counts for The Things They Carried\\n\")\n",
    "\n",
    "story = 'TheThingsTheyCarried'\n",
    "for term in dtm.loc[story].nlargest(10).index:\n",
    "    print(f\"{term:>10}: {dtm.loc[story, term]}\")"
   ]
  },
  {
   "cell_type": "code",
   "execution_count": 26,
   "id": "c3cb64e0",
   "metadata": {},
   "outputs": [
    {
     "name": "stdout",
     "output_type": "stream",
     "text": [
      "Top ten tf-idf scores for The Things They Carried\n",
      "\n",
      "     carry: 0.4399\n",
      "lieutenant: 0.2567\n",
      "    martha: 0.2304\n",
      "  lavender: 0.2092\n",
      "     kiowa: 0.1820\n",
      "   sanders: 0.1456\n",
      "       ted: 0.1426\n",
      "     jimmy: 0.1421\n",
      "     pound: 0.1344\n",
      "     weigh: 0.1282\n"
     ]
    }
   ],
   "source": [
    "print(\"Top ten tf-idf scores for The Things They Carried\\n\")\n",
    "\n",
    "for term in tfidf_scores.loc[story].nlargest(10).index:\n",
    "    print(f\"{term:>10}: {tfidf_scores.loc[story, term]:0.4f}\")"
   ]
  },
  {
   "cell_type": "markdown",
   "id": "50fb7191",
   "metadata": {},
   "source": [
    "Note how, in the above, common words like \"say\" and \"just\" slip out of the tf-idf rankings, to be replaced instead \n",
    "by names and other nouns.\n",
    "\n",
    "If we wanted to get a sense of just how specific each of these terms are to our story, we can compare them with \n",
    "that term's mean score in the corpus."
   ]
  },
  {
   "cell_type": "code",
   "execution_count": 27,
   "id": "73390947",
   "metadata": {},
   "outputs": [
    {
     "name": "stdout",
     "output_type": "stream",
     "text": [
      "carry \n",
      "+ Text tf-idf: 0.4399 \n",
      "+ Mean tf-idf: 0.0159\n",
      "\n",
      "lieutenant \n",
      "+ Text tf-idf: 0.2567 \n",
      "+ Mean tf-idf: 0.0083\n",
      "\n",
      "martha \n",
      "+ Text tf-idf: 0.2304 \n",
      "+ Mean tf-idf: 0.0128\n",
      "\n",
      "lavender \n",
      "+ Text tf-idf: 0.2092 \n",
      "+ Mean tf-idf: 0.0048\n",
      "\n",
      "kiowa \n",
      "+ Text tf-idf: 0.1820 \n",
      "+ Mean tf-idf: 0.0036\n",
      "\n",
      "sanders \n",
      "+ Text tf-idf: 0.1456 \n",
      "+ Mean tf-idf: 0.0029\n",
      "\n",
      "ted \n",
      "+ Text tf-idf: 0.1426 \n",
      "+ Mean tf-idf: 0.0037\n",
      "\n",
      "jimmy \n",
      "+ Text tf-idf: 0.1421 \n",
      "+ Mean tf-idf: 0.0032\n",
      "\n",
      "pound \n",
      "+ Text tf-idf: 0.1344 \n",
      "+ Mean tf-idf: 0.0070\n",
      "\n",
      "weigh \n",
      "+ Text tf-idf: 0.1282 \n",
      "+ Mean tf-idf: 0.0031\n",
      "\n"
     ]
    }
   ],
   "source": [
    "mean_tfidf = tfidf_scores.mean()\n",
    "\n",
    "for term in tfidf_scores.loc[story].nlargest(10).index:\n",
    "    print(\n",
    "        term,\n",
    "        f\"\\n+ Text tf-idf: {tfidf_scores.loc[story, term]:0.4f}\",\n",
    "        f\"\\n+ Mean tf-idf: {mean_tfidf.loc[term]:0.4f}\\n\"\n",
    "    )"
   ]
  },
  {
   "cell_type": "markdown",
   "id": "36ebdc7e",
   "metadata": {},
   "source": [
    "### Term Correlations\n",
    "\n",
    "Looking beyond a single story, we can use our tf-idf DTM to identify correlations across the corpus. These \n",
    "correlations aren't a perfect stand-in for semantic similarity, but they will give us a sense of how two terms are \n",
    "associated among the documents, much in the way a PMI score indicated the specificity of bigrams in the last \n",
    "chapter. Let's grab five random terms from our corpus (the columns of `tfidf_scores`) and calculate correlations \n",
    "between them with the `Pandas` `corr()` function.\n",
    "\n",
    "```{margin} Note:\n",
    "We're stacking these numbers together for ease of reading, but the raw output of `corr()` is a correlation matrix.\n",
    "```"
   ]
  },
  {
   "cell_type": "code",
   "execution_count": 28,
   "id": "c9877e23",
   "metadata": {},
   "outputs": [
    {
     "data": {
      "text/plain": [
       "needled      needled        1.000000\n",
       "             progressive   -0.033814\n",
       "             wolves        -0.020408\n",
       "             alisa         -0.020408\n",
       "             tales         -0.020408\n",
       "progressive  needled       -0.033814\n",
       "             progressive    1.000000\n",
       "             wolves        -0.033814\n",
       "             alisa         -0.033814\n",
       "             tales         -0.033814\n",
       "wolves       needled       -0.020408\n",
       "             progressive   -0.033814\n",
       "             wolves         1.000000\n",
       "             alisa         -0.020408\n",
       "             tales         -0.020408\n",
       "alisa        needled       -0.020408\n",
       "             progressive   -0.033814\n",
       "             wolves        -0.020408\n",
       "             alisa          1.000000\n",
       "             tales         -0.020408\n",
       "tales        needled       -0.020408\n",
       "             progressive   -0.033814\n",
       "             wolves        -0.020408\n",
       "             alisa         -0.020408\n",
       "             tales          1.000000\n",
       "dtype: float64"
      ]
     },
     "execution_count": 28,
     "metadata": {},
     "output_type": "execute_result"
    }
   ],
   "source": [
    "random_five = tfidf_scores.columns[np.random.choice(len(tfidf_scores.columns), 5)]\n",
    "tfidf_scores[random_five].corr().stack()"
   ]
  },
  {
   "cell_type": "markdown",
   "id": "77d35279",
   "metadata": {},
   "source": [
    "We can also select terms ourselves and see how they correlate:"
   ]
  },
  {
   "cell_type": "code",
   "execution_count": 29,
   "id": "e9bff94a",
   "metadata": {},
   "outputs": [
    {
     "name": "stdout",
     "output_type": "stream",
     "text": [
      "Correlation between book and page    : 0.5978\n",
      "Correlation between yell and whisper : 0.1631\n",
      "Correlation between mean and zucchini: -0.1580\n"
     ]
    }
   ],
   "source": [
    "selected_terms = {'book': 'page', 'yell': 'whisper', 'mean': 'zucchini'}\n",
    "\n",
    "for term in selected_terms:\n",
    "    print(\n",
    "        f\"Correlation between {term} and {selected_terms[term]:<8}:\",\n",
    "        f\"{tfidf_scores[term].corr(tfidf_scores[selected_terms[term]]):0.4f}\"\n",
    "    )"
   ]
  },
  {
   "cell_type": "markdown",
   "id": "e54a661f",
   "metadata": {},
   "source": [
    "With these metrics in hand, there's much to explore in our corpus. But what we haven't yet done so far is merge the \n",
    "two levels of our investigations. That is, we've explored our corpus at the level of documents, and we've explored \n",
    "our corpus at the level of terms, but what we haven't yet done is use one to explore the other. The next chapter \n",
    "will take this up in full. We'll be using our tf-idf DTM to do so, so let's save it. We'll also be using our fitted \n",
    "`TfidfVectorizer()`, for reasons that the next chapter will explain. For now, let's save that too and end here."
   ]
  },
  {
   "cell_type": "code",
   "execution_count": 30,
   "id": "be063a1b",
   "metadata": {},
   "outputs": [],
   "source": [
    "import pickle\n",
    "\n",
    "outdir = \"data/session_two/output/\"\n",
    "\n",
    "tfidf_scores.to_csv(outdir + \"tfidf_scores.csv\")\n",
    "with open(outdir + \"tfidf_vectorizer.pkl\", 'wb') as f:\n",
    "    pickle.dump(tfidf_vectorizer, f)"
   ]
  }
 ],
 "metadata": {
  "kernelspec": {
   "display_name": "nlp",
   "language": "python",
   "name": "nlp"
  },
  "language_info": {
   "codemirror_mode": {
    "name": "ipython",
    "version": 3
   },
   "file_extension": ".py",
   "mimetype": "text/x-python",
   "name": "python",
   "nbconvert_exporter": "python",
   "pygments_lexer": "ipython3",
   "version": "3.7.3"
  }
 },
 "nbformat": 4,
 "nbformat_minor": 5
}
