{
 "cells": [
  {
   "cell_type": "markdown",
   "id": "d1975d23",
   "metadata": {},
   "source": [
    "Corpus Analytics\n",
    "==============\n",
    "\n",
    "Now that we've overviewed all the steps involved in preparing text for computational analysis, we can begin the \n",
    "work of analysis proper. Whereas the last chapter suggested a few ways we might do this with a single novel, this \n",
    "one will build out to a whole collection of texts, or a **corpus**. Computational analysis can help us discover \n",
    "many interesting things about a single text, but looking at this text in the context of many others will do much to \n",
    "clarify and expand any potential findings we might make. Accordingly, we'll learn how to implement our cleaning \n",
    "steps on multiple files and then format them in a way that enables us to make connections between them. We'll then \n",
    "generate several metrics about these texts and use them to observe similarities/differences across the corpus.\n",
    "\n",
    "We'll also leave _Frankenstein_ behind, at least for now. In place of this novel, we will use Andrew Piper's \n",
    "[collection of English short stories](https://doi.org/10.6084/m9.figshare.17425571.v1), which gathers together 50 \n",
    "stories from 1981 to 2006. **UNCLEAR WHETHER WE'LL ULTIMATELY USE THIS ONE---PLUGGING IT IN TO OUTLINE THE \n",
    "CHAPTER.**\n",
    "\n",
    "```{admonition} Learning Objectives\n",
    "By the end of this workshop, you will be able to:\n",
    "\n",
    "+ Develop a workflow for cleaning multiple texts and compiling them into a corpus\n",
    "+ Use a document-term matrix, to represent relationships between texts in a corpus\n",
    "+ Generate metrics about texts in a corpus, including document length, term frequency, lexical diversity, etc.\n",
    "+ Explain the difference between raw term metrics and weighted term scoring (specifically, TF-IDF scoring)\n",
    "+ Cluster texts according to their shared/similar features\n",
    "```"
   ]
  },
  {
   "cell_type": "markdown",
   "id": "700d0795",
   "metadata": {},
   "source": [
    "The Data\n",
    "-----------\n",
    "\n",
    "Before we begin cleaning, let's load in a file manifest to get a quick overview of what will be in our corpus. \n",
    "We'll also use this manifest to sequentially load each file, clean it, and add it to our corpus."
   ]
  },
  {
   "cell_type": "code",
   "execution_count": 1,
   "id": "a89e29a4",
   "metadata": {},
   "outputs": [
    {
     "name": "stdout",
     "output_type": "stream",
     "text": [
      "Number of stories: 50 \n",
      "Number of authors: 50 \n",
      "Columns in the manifest: ['NAME' 'TITLE' 'YEAR' 'FILE_NAME']\n"
     ]
    },
    {
     "data": {
      "image/png": "[encoded data removed]",
      "text/plain": [
       "<Figure size 1080x360 with 1 Axes>"
      ]
     },
     "metadata": {
      "needs_background": "light"
     },
     "output_type": "display_data"
    }
   ],
   "source": [
    "import pandas as pd\n",
    "\n",
    "indir =  \"data/session_two/\"\n",
    "manifest = pd.read_csv(indir + \"manifest.csv\", index_col = 0)\n",
    "\n",
    "print(\n",
    "    \"Number of stories:\", len(manifest),\n",
    "    \"\\nNumber of authors:\", manifest['NAME'].nunique(),\n",
    "    \"\\nColumns in the manifest:\", manifest.columns.values\n",
    ")\n",
    "manifest.groupby('YEAR')['TITLE'].count().plot.bar(figsize = (15,5),\n",
    "                                                   title = \"Number of Stories per Year\",\n",
    "                                                   xlabel = \"Year\",\n",
    "                                                   ylabel = \"Count\",\n",
    "                                                   yticks = range(0,5)\n",
    "                                                  );"
   ]
  },
  {
   "cell_type": "markdown",
   "id": "b357cc92",
   "metadata": {},
   "source": [
    "Here are a few story titles, selected at random:"
   ]
  },
  {
   "cell_type": "code",
   "execution_count": 2,
   "id": "0a9d0484",
   "metadata": {},
   "outputs": [
    {
     "name": "stdout",
     "output_type": "stream",
     "text": [
      "SILBER, Joan: MyShape\n",
      "DYBEK, Stuart: WeDidn’t\n",
      "O’BRIEN, Tim: TheThingsTheyCarried\n",
      "JONES, Thom: ThePugilistatRest\n",
      "BANKS, Russell: SarahColeATypeofLoveStory\n"
     ]
    }
   ],
   "source": [
    "for idx in manifest.sample(5).index:\n",
    "    print(f\"{manifest.loc[idx, 'NAME']}:\", manifest.loc[idx, 'TITLE'])"
   ]
  },
  {
   "cell_type": "markdown",
   "id": "09579e58",
   "metadata": {},
   "source": [
    "```{tip}\n",
    "Using a metadata sheet like this is a good habit to develop. Use it as a common reference point for any processes \n",
    "you run on your data, and you'll mitigate major headaches stemming from undocumented projects. For more about this, \n",
    "see the DataLab's [workshop on project organization and data documentation][].\n",
    "\n",
    "[workshop on project organization and data documentation]: https://ucdavisdatalab.github.io/workshop_how-to-data-documentation/\n",
    "```"
   ]
  },
  {
   "cell_type": "markdown",
   "id": "56b9bf0f",
   "metadata": {},
   "source": [
    "Text Cleaning\n",
    "----------------\n",
    "\n",
    "### Recap\n",
    "\n",
    "With our manifest loaded, we can review our cleaning steps. For each short story in our corpus, we want to:\n",
    "\n",
    "1. Resolve casing\n",
    "2. Remove punctuation, numbers, and any extra formatting\n",
    "3. Remove stop words\n",
    "\n",
    "```{margin} Note:\n",
    "Because lemmatization can be labor-intensive, these texts have already been processed with `nltk`'s lemmatizer.\n",
    "```\n",
    "\n",
    "This should feel familiar, though our workflow here will differ slightly from the one in the last chapter because \n",
    "we'll be cleaning multiple texts, not only one. All the principles remain the same, we just want to implement our \n",
    "cleaning steps in a way that successively works through every text in our data directory without much intervention \n",
    "on our part. This is where functions are helpful; we'll define a series of them, with each performing a separate \n",
    "step in the cleaning process. We'll also define a main function, `clean()`, which we'll use to control the various \n",
    "cleaning steps. That way, we can simply load in a text file and pass it to `clean()` and `clean()` will handle the \n",
    "rest."
   ]
  },
  {
   "cell_type": "markdown",
   "id": "5635cfe0",
   "metadata": {},
   "source": [
    "### Defining our text cleaning functions\n",
    "\n",
    "`clean()` will call the following five functions:\n",
    "\n",
    "1. `to_lower()`: returns a lowercase version of all tokens in a text\n",
    "2. `remove_punctuation()`: removes all punctuation in phases: hyphens, em dashes, and underscores first, then \n",
    "everything else\n",
    "3. `remove_digits()`: removes digits\n",
    "4. `remove_whitespace()`: removes any extra whitespace\n",
    "5. `remove_stop_words()`: filters out stop words from the list of tokens; we'll also remove any words that are two \n",
    "or less characters long\n",
    "\n",
    "Let's get coding!"
   ]
  },
  {
   "cell_type": "code",
   "execution_count": 3,
   "id": "dfc70ab5",
   "metadata": {},
   "outputs": [],
   "source": [
    "import re\n",
    "\n",
    "with open(\"data/voyant_stoplist.txt\", 'r') as f:\n",
    "    stopwords = f.read().split()\n",
    "\n",
    "def to_lower(doc):\n",
    "    return doc.lower()\n",
    "\n",
    "def remove_punctuation(doc):\n",
    "    doc = re.sub(r\"[-]|[—]|[_]\", \" \", doc)\n",
    "    doc = re.sub(r\"[^\\w\\s]\", \"\", doc)\n",
    "    return doc\n",
    "\n",
    "def remove_digits(doc):\n",
    "    return re.sub(r\"[0-9]\", \"\", doc)\n",
    "\n",
    "def remove_whitespace(doc):\n",
    "    doc = re.sub(r\"\\s+\", \" \", doc)\n",
    "    return doc\n",
    "\n",
    "def remove_stop_words(doc):\n",
    "    doc = doc.split()\n",
    "    doc = [token for token in doc if token not in stopwords]\n",
    "    doc = [token for token in doc if len(token) > 2]\n",
    "    doc = ' '.join(doc)\n",
    "    return doc\n",
    "\n",
    "def clean(doc):\n",
    "    lowercase = to_lower(doc)\n",
    "    no_punct = remove_punctuation(lowercase)\n",
    "    no_digits = remove_digits(no_punct)\n",
    "    no_whitespace = remove_whitespace(no_digits)\n",
    "    stopped = remove_stop_words(no_whitespace)\n",
    "    return stopped"
   ]
  },
  {
   "cell_type": "markdown",
   "id": "2f4cd576",
   "metadata": {},
   "source": [
    "```{admonition} About the above...\n",
    "These functions are written with **clarity** and **modularity** in mind. The intent here is to demonstrate each \n",
    "step of the cleaning process in as discrete a manner as possible. But you might find that some of this code is \n",
    "redundant (as an example, ask yourself: which step might be wrapped up inside another function?). Further, we could \n",
    "very probably re-factor this code to optimize it, which would be important when working with a large number of \n",
    "texts. We won't cover something like that in this session, however. For now, know that these functions are meant to \n",
    "act as templates, which you can modify to suit your own needs.\n",
    "```"
   ]
  },
  {
   "cell_type": "markdown",
   "id": "c5970f8c",
   "metadata": {},
   "source": [
    "### Cleaning our texts\n",
    "\n",
    "With our functions defined, we can now load each story, roll through all the cleaning steps, and append the cleaned \n",
    "story to a list. The result will be our **corpus**, a fifty-item list of strings, where each string contains all \n",
    "the tokens in a given story. The _order_ of these entries will be important for work we want to do later on, so we \n",
    "need to make sure that each string always has the same position in the larger list of stories. This is where the \n",
    "file manifest comes in: _we'll load stories in the order provided by the `FILE_NAME` column of `manifest`_. Doing \n",
    "so ensures that the first index (`0`) of our corpus corresponds to the first short story, the second index (`1`) to \n",
    "the second, and so on.\n",
    "\n",
    "\n",
    "Let's write all this out in a `for` loop and do our cleaning.\n",
    "\n",
    "```{margin} What this loop does:\n",
    "1. For every row (`idx`) in `manifest`, collect the item in the row's `FILE_NAME` column and append it to `indir`\n",
    "2. Put the resultant filepath in a `with...open` statement to read in a file\n",
    "3. Clean the story with `clean()`\n",
    "4. Append the result to `corpus`\n",
    "```"
   ]
  },
  {
   "cell_type": "code",
   "execution_count": 4,
   "id": "98428e4a",
   "metadata": {
    "scrolled": true
   },
   "outputs": [],
   "source": [
    "corpus = []\n",
    "\n",
    "for idx in manifest.index:\n",
    "    filepath = indir + manifest.loc[idx, 'FILE_NAME']\n",
    "    with open(filepath, 'r') as f:\n",
    "        story = f.read()\n",
    "        cleaned_story = clean(story)\n",
    "        corpus.append(cleaned_story)"
   ]
  },
  {
   "cell_type": "markdown",
   "id": "ef59febe",
   "metadata": {},
   "source": [
    "As a sanity check, we can run an assertion statement, which checks that `corpus` has as many stories in it as \n",
    "`manifest` does..."
   ]
  },
  {
   "cell_type": "code",
   "execution_count": 5,
   "id": "6dfc6981",
   "metadata": {},
   "outputs": [],
   "source": [
    "assert len(corpus) == len(manifest)"
   ]
  },
  {
   "cell_type": "markdown",
   "id": "5e4deb3f",
   "metadata": {},
   "source": [
    "...and we can inspect some tokens from a few stories to make sure all is well:"
   ]
  },
  {
   "cell_type": "code",
   "execution_count": 6,
   "id": "789cc503",
   "metadata": {},
   "outputs": [
    {
     "name": "stdout",
     "output_type": "stream",
     "text": [
      "behind card table outside food minutes sun shifts moves chair\n",
      "barbie away ken practicing future sat sisters room watching barbie\n",
      "silver clouds floating horizon robins sparrows calling trees son joshuas\n"
     ]
    }
   ],
   "source": [
    "for idx in [4, 17, 39]:\n",
    "    fragment = corpus[idx].split()\n",
    "    print(' '.join(fragment[10:20]))"
   ]
  },
  {
   "cell_type": "markdown",
   "id": "2c5e591f",
   "metadata": {},
   "source": [
    "Looks great!"
   ]
  },
  {
   "cell_type": "markdown",
   "id": "33e43c0f",
   "metadata": {},
   "source": [
    "The Document-Term Matrix\n",
    "======================"
   ]
  },
  {
   "cell_type": "code",
   "execution_count": 7,
   "id": "e9cf408c",
   "metadata": {},
   "outputs": [
    {
     "name": "stdout",
     "output_type": "stream",
     "text": [
      "Shape of our document-term matrix: (50, 18603), or 50 documents and 18603 words\n"
     ]
    }
   ],
   "source": [
    "from sklearn.feature_extraction.text import CountVectorizer\n",
    "\n",
    "count_vectorizer = CountVectorizer()\n",
    "vectorized = count_vectorizer.fit_transform(corpus)\n",
    "\n",
    "print(\n",
    "    f\"Shape of our document-term matrix: {vectorized.shape},\", \n",
    "    f\"or {vectorized.shape[0]} documents and {vectorized.shape[1]} words\"\n",
    ")"
   ]
  },
  {
   "cell_type": "markdown",
   "id": "48c2ae22",
   "metadata": {},
   "source": [
    "`CountVectorizer()` returns a **sparse matrix**, or a matrix comprised mostly of zeros. This matrix has been \n",
    "formatted to be highly memory efficient (which is useful when dealing with giant datasets), but it's not \n",
    "particularly accessible for data exploration. Since our corpus is relatively small, we'll convert this sparse \n",
    "matrix into a `Pandas` dataframe."
   ]
  },
  {
   "cell_type": "code",
   "execution_count": 8,
   "id": "6bb16618",
   "metadata": {},
   "outputs": [
    {
     "data": {
      "text/html": [
       "<div>\n",
       "<style scoped>\n",
       "    .dataframe tbody tr th:only-of-type {\n",
       "        vertical-align: middle;\n",
       "    }\n",
       "\n",
       "    .dataframe tbody tr th {\n",
       "        vertical-align: top;\n",
       "    }\n",
       "\n",
       "    .dataframe thead th {\n",
       "        text-align: right;\n",
       "    }\n",
       "</style>\n",
       "<table border=\"1\" class=\"dataframe\">\n",
       "  <thead>\n",
       "    <tr style=\"text-align: right;\">\n",
       "      <th></th>\n",
       "      <th>0</th>\n",
       "      <th>1</th>\n",
       "      <th>2</th>\n",
       "      <th>3</th>\n",
       "      <th>4</th>\n",
       "      <th>5</th>\n",
       "      <th>6</th>\n",
       "      <th>7</th>\n",
       "      <th>8</th>\n",
       "      <th>9</th>\n",
       "      <th>10</th>\n",
       "      <th>11</th>\n",
       "      <th>12</th>\n",
       "      <th>13</th>\n",
       "      <th>14</th>\n",
       "    </tr>\n",
       "  </thead>\n",
       "  <tbody>\n",
       "    <tr>\n",
       "      <th>0</th>\n",
       "      <td>0</td>\n",
       "      <td>0</td>\n",
       "      <td>0</td>\n",
       "      <td>0</td>\n",
       "      <td>0</td>\n",
       "      <td>0</td>\n",
       "      <td>0</td>\n",
       "      <td>0</td>\n",
       "      <td>0</td>\n",
       "      <td>0</td>\n",
       "      <td>0</td>\n",
       "      <td>0</td>\n",
       "      <td>0</td>\n",
       "      <td>0</td>\n",
       "      <td>0</td>\n",
       "    </tr>\n",
       "    <tr>\n",
       "      <th>1</th>\n",
       "      <td>0</td>\n",
       "      <td>0</td>\n",
       "      <td>0</td>\n",
       "      <td>0</td>\n",
       "      <td>0</td>\n",
       "      <td>0</td>\n",
       "      <td>0</td>\n",
       "      <td>0</td>\n",
       "      <td>0</td>\n",
       "      <td>0</td>\n",
       "      <td>0</td>\n",
       "      <td>0</td>\n",
       "      <td>0</td>\n",
       "      <td>0</td>\n",
       "      <td>0</td>\n",
       "    </tr>\n",
       "    <tr>\n",
       "      <th>2</th>\n",
       "      <td>0</td>\n",
       "      <td>0</td>\n",
       "      <td>0</td>\n",
       "      <td>0</td>\n",
       "      <td>0</td>\n",
       "      <td>0</td>\n",
       "      <td>0</td>\n",
       "      <td>0</td>\n",
       "      <td>0</td>\n",
       "      <td>0</td>\n",
       "      <td>0</td>\n",
       "      <td>0</td>\n",
       "      <td>0</td>\n",
       "      <td>0</td>\n",
       "      <td>0</td>\n",
       "    </tr>\n",
       "    <tr>\n",
       "      <th>3</th>\n",
       "      <td>0</td>\n",
       "      <td>0</td>\n",
       "      <td>0</td>\n",
       "      <td>0</td>\n",
       "      <td>0</td>\n",
       "      <td>0</td>\n",
       "      <td>0</td>\n",
       "      <td>0</td>\n",
       "      <td>0</td>\n",
       "      <td>0</td>\n",
       "      <td>0</td>\n",
       "      <td>0</td>\n",
       "      <td>0</td>\n",
       "      <td>0</td>\n",
       "      <td>0</td>\n",
       "    </tr>\n",
       "    <tr>\n",
       "      <th>4</th>\n",
       "      <td>0</td>\n",
       "      <td>0</td>\n",
       "      <td>0</td>\n",
       "      <td>0</td>\n",
       "      <td>0</td>\n",
       "      <td>0</td>\n",
       "      <td>0</td>\n",
       "      <td>0</td>\n",
       "      <td>0</td>\n",
       "      <td>0</td>\n",
       "      <td>0</td>\n",
       "      <td>0</td>\n",
       "      <td>1</td>\n",
       "      <td>9</td>\n",
       "      <td>0</td>\n",
       "    </tr>\n",
       "  </tbody>\n",
       "</table>\n",
       "</div>"
      ],
      "text/plain": [
       "   0   1   2   3   4   5   6   7   8   9   10  11  12  13  14\n",
       "0   0   0   0   0   0   0   0   0   0   0   0   0   0   0   0\n",
       "1   0   0   0   0   0   0   0   0   0   0   0   0   0   0   0\n",
       "2   0   0   0   0   0   0   0   0   0   0   0   0   0   0   0\n",
       "3   0   0   0   0   0   0   0   0   0   0   0   0   0   0   0\n",
       "4   0   0   0   0   0   0   0   0   0   0   0   0   1   9   0"
      ]
     },
     "execution_count": 8,
     "metadata": {},
     "output_type": "execute_result"
    }
   ],
   "source": [
    "dtm = pd.DataFrame(vectorized.toarray())\n",
    "dtm.iloc[:5,:15]"
   ]
  },
  {
   "cell_type": "markdown",
   "id": "7682c635",
   "metadata": {},
   "source": [
    "As it stands, this dataframe is hard to understand. But luckily, we've kept track of which row corresponds to which \n",
    "story: this is why we used our manifest to control our file order. Further, `CountVectorizer()` has a special \n",
    "method, `get_feature_names_out()`, which will generate an array of all the tokens from all the files. The order of \n",
    "this array corresponds to the order of our columns. Accordingly, we can assign this array to the column names of \n",
    "`dtm` and assign the story titles in `manifest['TITLE']` to its index names, making it much easier to associate \n",
    "column values with row values."
   ]
  },
  {
   "cell_type": "code",
   "execution_count": 9,
   "id": "c971d030",
   "metadata": {},
   "outputs": [
    {
     "data": {
      "text/html": [
       "<div>\n",
       "<style scoped>\n",
       "    .dataframe tbody tr th:only-of-type {\n",
       "        vertical-align: middle;\n",
       "    }\n",
       "\n",
       "    .dataframe tbody tr th {\n",
       "        vertical-align: top;\n",
       "    }\n",
       "\n",
       "    .dataframe thead th {\n",
       "        text-align: right;\n",
       "    }\n",
       "</style>\n",
       "<table border=\"1\" class=\"dataframe\">\n",
       "  <thead>\n",
       "    <tr style=\"text-align: right;\">\n",
       "      <th></th>\n",
       "      <th>aaa</th>\n",
       "      <th>aaaaargh</th>\n",
       "      <th>aaaargh</th>\n",
       "      <th>aachen</th>\n",
       "      <th>aachens</th>\n",
       "      <th>aahed</th>\n",
       "      <th>aback</th>\n",
       "      <th>abandon</th>\n",
       "      <th>abandoned</th>\n",
       "      <th>abandoning</th>\n",
       "      <th>abbey</th>\n",
       "      <th>abbreviated</th>\n",
       "      <th>abby</th>\n",
       "      <th>abbylucyferny</th>\n",
       "      <th>abdomen</th>\n",
       "    </tr>\n",
       "    <tr>\n",
       "      <th>TITLE</th>\n",
       "      <th></th>\n",
       "      <th></th>\n",
       "      <th></th>\n",
       "      <th></th>\n",
       "      <th></th>\n",
       "      <th></th>\n",
       "      <th></th>\n",
       "      <th></th>\n",
       "      <th></th>\n",
       "      <th></th>\n",
       "      <th></th>\n",
       "      <th></th>\n",
       "      <th></th>\n",
       "      <th></th>\n",
       "      <th></th>\n",
       "    </tr>\n",
       "  </thead>\n",
       "  <tbody>\n",
       "    <tr>\n",
       "      <th>TheSchool</th>\n",
       "      <td>0</td>\n",
       "      <td>0</td>\n",
       "      <td>0</td>\n",
       "      <td>0</td>\n",
       "      <td>0</td>\n",
       "      <td>0</td>\n",
       "      <td>0</td>\n",
       "      <td>0</td>\n",
       "      <td>0</td>\n",
       "      <td>0</td>\n",
       "      <td>0</td>\n",
       "      <td>0</td>\n",
       "      <td>0</td>\n",
       "      <td>0</td>\n",
       "      <td>0</td>\n",
       "    </tr>\n",
       "    <tr>\n",
       "      <th>Tony’sStory</th>\n",
       "      <td>0</td>\n",
       "      <td>0</td>\n",
       "      <td>0</td>\n",
       "      <td>0</td>\n",
       "      <td>0</td>\n",
       "      <td>0</td>\n",
       "      <td>0</td>\n",
       "      <td>0</td>\n",
       "      <td>0</td>\n",
       "      <td>0</td>\n",
       "      <td>0</td>\n",
       "      <td>0</td>\n",
       "      <td>0</td>\n",
       "      <td>0</td>\n",
       "      <td>0</td>\n",
       "    </tr>\n",
       "    <tr>\n",
       "      <th>NineteenFifty-five</th>\n",
       "      <td>0</td>\n",
       "      <td>0</td>\n",
       "      <td>0</td>\n",
       "      <td>0</td>\n",
       "      <td>0</td>\n",
       "      <td>0</td>\n",
       "      <td>0</td>\n",
       "      <td>0</td>\n",
       "      <td>0</td>\n",
       "      <td>0</td>\n",
       "      <td>0</td>\n",
       "      <td>0</td>\n",
       "      <td>0</td>\n",
       "      <td>0</td>\n",
       "      <td>0</td>\n",
       "    </tr>\n",
       "    <tr>\n",
       "      <th>Girl</th>\n",
       "      <td>0</td>\n",
       "      <td>0</td>\n",
       "      <td>0</td>\n",
       "      <td>0</td>\n",
       "      <td>0</td>\n",
       "      <td>0</td>\n",
       "      <td>0</td>\n",
       "      <td>0</td>\n",
       "      <td>0</td>\n",
       "      <td>0</td>\n",
       "      <td>0</td>\n",
       "      <td>0</td>\n",
       "      <td>0</td>\n",
       "      <td>0</td>\n",
       "      <td>0</td>\n",
       "    </tr>\n",
       "    <tr>\n",
       "      <th>Territory</th>\n",
       "      <td>0</td>\n",
       "      <td>0</td>\n",
       "      <td>0</td>\n",
       "      <td>0</td>\n",
       "      <td>0</td>\n",
       "      <td>0</td>\n",
       "      <td>0</td>\n",
       "      <td>0</td>\n",
       "      <td>0</td>\n",
       "      <td>0</td>\n",
       "      <td>0</td>\n",
       "      <td>0</td>\n",
       "      <td>1</td>\n",
       "      <td>9</td>\n",
       "      <td>0</td>\n",
       "    </tr>\n",
       "  </tbody>\n",
       "</table>\n",
       "</div>"
      ],
      "text/plain": [
       "                    aaa  aaaaargh  aaaargh  aachen  aachens  aahed  aback  \\\n",
       "TITLE                                                                       \n",
       "TheSchool             0         0        0       0        0      0      0   \n",
       "Tony’sStory           0         0        0       0        0      0      0   \n",
       "NineteenFifty-five    0         0        0       0        0      0      0   \n",
       "Girl                  0         0        0       0        0      0      0   \n",
       "Territory             0         0        0       0        0      0      0   \n",
       "\n",
       "                    abandon  abandoned  abandoning  abbey  abbreviated  abby  \\\n",
       "TITLE                                                                          \n",
       "TheSchool                 0          0           0      0            0     0   \n",
       "Tony’sStory               0          0           0      0            0     0   \n",
       "NineteenFifty-five        0          0           0      0            0     0   \n",
       "Girl                      0          0           0      0            0     0   \n",
       "Territory                 0          0           0      0            0     1   \n",
       "\n",
       "                    abbylucyferny  abdomen  \n",
       "TITLE                                       \n",
       "TheSchool                       0        0  \n",
       "Tony’sStory                     0        0  \n",
       "NineteenFifty-five              0        0  \n",
       "Girl                            0        0  \n",
       "Territory                       9        0  "
      ]
     },
     "execution_count": 9,
     "metadata": {},
     "output_type": "execute_result"
    }
   ],
   "source": [
    "dtm.columns = count_vectorizer.get_feature_names_out()\n",
    "dtm.index = manifest['TITLE']\n",
    "dtm.iloc[:5,:15]"
   ]
  },
  {
   "cell_type": "markdown",
   "id": "b12043ca",
   "metadata": {},
   "source": [
    "Term Metrics\n",
    "===========\n",
    "\n",
    "Raw Metrics\n",
    "---------------"
   ]
  },
  {
   "cell_type": "code",
   "execution_count": 10,
   "id": "fd1d8230",
   "metadata": {
    "scrolled": false
   },
   "outputs": [],
   "source": [
    "import numpy as np\n",
    "\n",
    "manifest = manifest.assign(NUM_TOKENS = dtm.T.apply(sum).values)\n",
    "manifest = manifest.assign(NUM_TYPES = dtm.T.apply(np.count_nonzero).values)\n",
    "manifest = manifest.assign(TTR = (manifest['NUM_TYPES'] / manifest['NUM_TOKENS']) * 100)"
   ]
  },
  {
   "cell_type": "code",
   "execution_count": 11,
   "id": "73abed66",
   "metadata": {},
   "outputs": [
    {
     "data": {
      "image/png": "[encoded data removed]",
      "text/plain": [
       "<Figure size 1080x360 with 1 Axes>"
      ]
     },
     "metadata": {
      "needs_background": "light"
     },
     "output_type": "display_data"
    }
   ],
   "source": [
    "manifest.sort_values('TTR', ascending = False).plot.bar(figsize = (15,5),\n",
    "                                                        x = 'TITLE', \n",
    "                                                        y = 'TTR',\n",
    "                                                        title = 'Type–Token Ratios',\n",
    "                                                        legend = None,\n",
    "                                                        xlabel = 'Story Title',\n",
    "                                                        ylabel = 'Type–Token Ratio %',\n",
    "                                                        yticks = range(0, 110, 10)\n",
    "                                                       );"
   ]
  },
  {
   "cell_type": "code",
   "execution_count": 12,
   "id": "9aa09c86",
   "metadata": {},
   "outputs": [
    {
     "data": {
      "text/plain": [
       "TITLE\n",
       "TheSchool                                  said\n",
       "Tony’sStory                                leon\n",
       "NineteenFifty-five                         said\n",
       "Girl                                       dont\n",
       "Territory                                  neil\n",
       "HowFarSheWent                              girl\n",
       "SarahColeATypeofLoveStory                 sarah\n",
       "Caviar                                    marie\n",
       "WinnersonthePassLine                        ray\n",
       "TheWayWeLiveNow                            said\n",
       "Communist                                  said\n",
       "TheManagementofGrief                       says\n",
       "TheFireman’sWife                           says\n",
       "Wickedness                                 snow\n",
       "Lust                                       like\n",
       "TwoKinds                                 mother\n",
       "TheDisappeared                             said\n",
       "ARealDoll                                barbie\n",
       "TheThingsTheyCarried                    carried\n",
       "NeverMarryaMexican                         like\n",
       "CarCrashWhileHitchhiking                   said\n",
       "Marie                                      said\n",
       "TheKindofLightThatShinesonTexas          oakley\n",
       "SilverWater                                rose\n",
       "ThePugilistatRest                      jorgeson\n",
       "TheTranslation                           oliver\n",
       "Orientation                                sits\n",
       "JealousHusbandReturnsinFormofParrot        bird\n",
       "Relief                                 bromhead\n",
       "AfterRosaParks                             said\n",
       "Tiny, Smiling Daddy                       kitty\n",
       "Xmas,JamaicaPlain                         emile\n",
       "TheRestofHerLife                          daddy\n",
       "Nilda                                      rafa\n",
       "ATemporaryMatter                          shoba\n",
       "TheHalf-SkinnedSteer                       said\n",
       "SeaOak                                     says\n",
       "Boys                                       boys\n",
       "TheCavemenintheHedges                       kim\n",
       "TheHermit'sStory                           said\n",
       "TheCeiling                                 dogs\n",
       "TheCaretaker                             joseph\n",
       "Pilgrims                                   said\n",
       "Brownies                                   said\n",
       "WeDidn’t                                  night\n",
       "TheSecretGoldfish                          fish\n",
       "MyShape                                    said\n",
       "Stone Animals                              said\n",
       "FemaleTrouble                           mcbride\n",
       "TwilightoftheSuperheroes                 lucien\n",
       "dtype: object"
      ]
     },
     "execution_count": 12,
     "metadata": {},
     "output_type": "execute_result"
    }
   ],
   "source": [
    "dtm.idxmax(axis = 1) # use to pivot to tf-idf"
   ]
  },
  {
   "cell_type": "markdown",
   "id": "f32d6d8a",
   "metadata": {},
   "source": [
    "Weighted Metrics\n",
    "--------------------"
   ]
  },
  {
   "cell_type": "code",
   "execution_count": null,
   "id": "a987934e",
   "metadata": {},
   "outputs": [],
   "source": []
  }
 ],
 "metadata": {
  "kernelspec": {
   "display_name": "nlp",
   "language": "python",
   "name": "nlp"
  },
  "language_info": {
   "codemirror_mode": {
    "name": "ipython",
    "version": 3
   },
   "file_extension": ".py",
   "mimetype": "text/x-python",
   "name": "python",
   "nbconvert_exporter": "python",
   "pygments_lexer": "ipython3",
   "version": "3.7.3"
  }
 },
 "nbformat": 4,
 "nbformat_minor": 5
}
