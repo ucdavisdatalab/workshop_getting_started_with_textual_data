{
 "cells": [
  {
   "cell_type": "markdown",
   "id": "a0ecf5d1",
   "metadata": {},
   "source": [
    "Topic Modeling\n",
    "============\n",
    "\n",
    "TODO\n",
    "\n",
    "```{admonition} Learning Objectives\n",
    "By the end of this chapter, you will be able to:\n",
    "\n",
    "+ Explain what a topic model is, what it represents, and how to use one to explore a corpus\n",
    "+ Build a topic model\n",
    "+ Appraise the validity of a topic model and fine tune it accordingly\n",
    "```"
   ]
  },
  {
   "cell_type": "markdown",
   "id": "80445066",
   "metadata": {},
   "source": [
    "Topic Modeling: A Primer\n",
    "-----------------------------\n",
    "\n",
    "TODO"
   ]
  },
  {
   "cell_type": "markdown",
   "id": "d101066c",
   "metadata": {},
   "source": [
    "Preliminiaries\n",
    "----------------\n",
    "\n",
    "As before, we'll use a file manifest to keep things orderly."
   ]
  },
  {
   "cell_type": "code",
   "execution_count": 1,
   "id": "af14157d",
   "metadata": {},
   "outputs": [
    {
     "name": "stdout",
     "output_type": "stream",
     "text": [
      "Number of blurbs: 1500 \n",
      "Date range: 1958--2018 \n",
      "Genres: Fiction, Classics, Nonfiction, Children’s Books, Teen & Young Adult, Poetry, Humor\n"
     ]
    },
    {
     "data": {
      "text/html": [
       "<div>\n",
       "<style scoped>\n",
       "    .dataframe tbody tr th:only-of-type {\n",
       "        vertical-align: middle;\n",
       "    }\n",
       "\n",
       "    .dataframe tbody tr th {\n",
       "        vertical-align: top;\n",
       "    }\n",
       "\n",
       "    .dataframe thead th {\n",
       "        text-align: right;\n",
       "    }\n",
       "</style>\n",
       "<table border=\"1\" class=\"dataframe\">\n",
       "  <thead>\n",
       "    <tr style=\"text-align: right;\">\n",
       "      <th></th>\n",
       "      <th>AUTHOR</th>\n",
       "      <th>TITLE</th>\n",
       "      <th>GENRE</th>\n",
       "      <th>PUB_DATE</th>\n",
       "      <th>ISBN</th>\n",
       "      <th>FILE_NAME</th>\n",
       "    </tr>\n",
       "  </thead>\n",
       "  <tbody>\n",
       "    <tr>\n",
       "      <th>91</th>\n",
       "      <td>R.E.G. Davies</td>\n",
       "      <td>Airlines of the Jet Age</td>\n",
       "      <td>Nonfiction</td>\n",
       "      <td>2016-08-24</td>\n",
       "      <td>9781944466077</td>\n",
       "      <td>0091.txt</td>\n",
       "    </tr>\n",
       "    <tr>\n",
       "      <th>1066</th>\n",
       "      <td>Chuck Tatum</td>\n",
       "      <td>Red Blood, Black Sand</td>\n",
       "      <td>Nonfiction</td>\n",
       "      <td>2013-05-07</td>\n",
       "      <td>9780425257425</td>\n",
       "      <td>1066.txt</td>\n",
       "    </tr>\n",
       "    <tr>\n",
       "      <th>462</th>\n",
       "      <td>Helene Siegel</td>\n",
       "      <td>Totally Salmon Cookbook</td>\n",
       "      <td>Nonfiction</td>\n",
       "      <td>2014-07-09</td>\n",
       "      <td>9780804153119</td>\n",
       "      <td>0462.txt</td>\n",
       "    </tr>\n",
       "    <tr>\n",
       "      <th>981</th>\n",
       "      <td>B. B. Haywood</td>\n",
       "      <td>Town in a Strawberry Swirl</td>\n",
       "      <td>Fiction</td>\n",
       "      <td>2014-02-04</td>\n",
       "      <td>9780425252468</td>\n",
       "      <td>0981.txt</td>\n",
       "    </tr>\n",
       "    <tr>\n",
       "      <th>829</th>\n",
       "      <td>Celeste Ng</td>\n",
       "      <td>Everything I Never Told You</td>\n",
       "      <td>Fiction</td>\n",
       "      <td>2015-05-12</td>\n",
       "      <td>9780143127550</td>\n",
       "      <td>0829.txt</td>\n",
       "    </tr>\n",
       "  </tbody>\n",
       "</table>\n",
       "</div>"
      ],
      "text/plain": [
       "             AUTHOR                        TITLE       GENRE   PUB_DATE  \\\n",
       "91    R.E.G. Davies      Airlines of the Jet Age  Nonfiction 2016-08-24   \n",
       "1066    Chuck Tatum        Red Blood, Black Sand  Nonfiction 2013-05-07   \n",
       "462   Helene Siegel      Totally Salmon Cookbook  Nonfiction 2014-07-09   \n",
       "981   B. B. Haywood   Town in a Strawberry Swirl     Fiction 2014-02-04   \n",
       "829      Celeste Ng  Everything I Never Told You     Fiction 2015-05-12   \n",
       "\n",
       "               ISBN FILE_NAME  \n",
       "91    9781944466077  0091.txt  \n",
       "1066  9780425257425  1066.txt  \n",
       "462   9780804153119  0462.txt  \n",
       "981   9780425252468  0981.txt  \n",
       "829   9780143127550  0829.txt  "
      ]
     },
     "execution_count": 1,
     "metadata": {},
     "output_type": "execute_result"
    }
   ],
   "source": [
    "import pandas as pd\n",
    "\n",
    "manifest = pd.read_csv(\"data/session_three/manifest.csv\", index_col = 0)\n",
    "manifest['PUB_DATE'] = pd.to_datetime(manifest['PUB_DATE'], format=\"%Y-%m-%d\")\n",
    "\n",
    "print(\n",
    "    f\"Number of blurbs: {len(manifest)}\",\n",
    "    f\"\\nDate range: {manifest['PUB_DATE'].dt.year.min()}--{manifest['PUB_DATE'].dt.year.max()}\",\n",
    "    f\"\\nGenres: {', '.join(manifest['GENRE'].unique().tolist())}\"\n",
    ")\n",
    "\n",
    "manifest.sample(5)"
   ]
  },
  {
   "cell_type": "code",
   "execution_count": 2,
   "id": "39b76dbd",
   "metadata": {},
   "outputs": [
    {
     "data": {
      "image/png": "[encoded data removed]",
      "text/plain": [
       "<Figure size 1080x360 with 1 Axes>"
      ]
     },
     "metadata": {
      "needs_background": "light"
     },
     "output_type": "display_data"
    }
   ],
   "source": [
    "manifest.groupby('PUB_DATE')['ISBN'].count().plot(figsize = (15, 5),\n",
    "                                                  title = \"Books per Year\",\n",
    "                                                  xlabel = \"Publication Year\",\n",
    "                                                  ylabel = \"Number of Books\",\n",
    "                                                  ylim = (0, 11)\n",
    "                                                  );"
   ]
  },
  {
   "cell_type": "markdown",
   "id": "b3423a70",
   "metadata": {},
   "source": [
    "To make file loading easier, we'll isolate the file names from `manifest` and create a list of paths."
   ]
  },
  {
   "cell_type": "code",
   "execution_count": 3,
   "id": "7bfc3ab6",
   "metadata": {},
   "outputs": [],
   "source": [
    "indir = \"data/session_three/input/\"\n",
    "paths = indir + manifest['FILE_NAME']"
   ]
  },
  {
   "cell_type": "markdown",
   "id": "1dc99bbe",
   "metadata": {},
   "source": [
    "Building a Topic Model\n",
    "---------------------------\n",
    "\n",
    "With this bit of preliminary work done, we're ready to build a topic model. There are numerous implementations of \n",
    "LDA modeling available, ranging from the command line utility, [MALLET] (which many of us in the DataLab use in our \n",
    "own work), to built-in APIs offered by both `gensim` and `scikit-learn`. It's tempting to use the `scikit-learn` \n",
    "API: we should be familiar with this package's conventions by now, and indeed it's quite easy to spin up a topic \n",
    "model using its API. But there's a [reported bug] in a key metric for validating LDA models in `scikit-learn`, and, \n",
    "as far as we know, this bug hasn't been fixed. Depending on your use case, this may not be a big deal. The bug has \n",
    "to do with generating a **perplexity score** from the model, which is useful for fine tuning. You, however, may not \n",
    "want to go through this process, especially if you're working in an exploratory model. In this case, it's probably \n",
    "fine to use `scikit-learn`.\n",
    "\n",
    "As for us: we'll be demonstrating how to fine tune models and will thus avoid `scikit-learn` for the workshop. \n",
    "Instead, we'll use `tomotopy`, a Python wrapper built around Tomato, a topic modeling tool built in C++. Its API is \n",
    "fairly intuitive and comes with lots of options, which we'll leverage to build the best model possible for our \n",
    "data.\n",
    "\n",
    "[MALLET]: https://mimno.github.io/Mallet/\n",
    "[reported bug]: https://github.com/scikit-learn/scikit-learn/issues/6777"
   ]
  },
  {
   "cell_type": "markdown",
   "id": "53b4d79e",
   "metadata": {},
   "source": [
    "### Initializing a model\n",
    "\n",
    "Initializing a topic model with `tomotopy` is simple: just assign `LDAModel()` to a variable and declare the number \n",
    "of topics the model will generate. As we'll discuss below, determining how many topics to use is a matter of some \n",
    "debate and complexity, but for now, we'll just pick a number and move ahead."
   ]
  },
  {
   "cell_type": "code",
   "execution_count": 4,
   "id": "2dfba4dd",
   "metadata": {},
   "outputs": [],
   "source": [
    "import tomotopy as tp\n",
    "\n",
    "n_topics = 5\n",
    "model = tp.LDAModel(k = n_topics, seed = 357)"
   ]
  },
  {
   "cell_type": "markdown",
   "id": "75458d22",
   "metadata": {},
   "source": [
    "Now we need to add our blurbs to the model. We'll do so by using a `for` loop in conjunction with all the paths we \n",
    "created above. The only catch here is that we need to split each blurb into a list of tokens (right now they're \n",
    "stored as text blobs)."
   ]
  },
  {
   "cell_type": "code",
   "execution_count": 5,
   "id": "8671ce75",
   "metadata": {},
   "outputs": [
    {
     "name": "stdout",
     "output_type": "stream",
     "text": [
      "Number of documents: 1500\n"
     ]
    }
   ],
   "source": [
    "for path in paths:\n",
    "    with open(path, 'r') as p:\n",
    "        doc = p.read().split()\n",
    "        model.add_doc(doc)\n",
    "        \n",
    "print(\"Number of documents:\", len(model.docs))"
   ]
  },
  {
   "cell_type": "markdown",
   "id": "f4f02d07",
   "metadata": {},
   "source": [
    "### Training a model\n",
    "\n",
    "Our model is now ready to be trained. Under the hood, this happens in an iterative fashion, so we need to set the \n",
    "total number of iterations we'd like to use to do the training. With that set, it's simply a matter of calling \n",
    "`model.train()`.\n",
    "\n",
    "```{margin} Number of iterations\n",
    "Deciding on how many iterations to use can take some tweaking on real-world data. You can assume that the number \n",
    "set here will allow a model to properly [converge] for this data.\n",
    "\n",
    "[converge]: https://docs.paperspace.com/machine-learning/wiki/convergence\n",
    "```"
   ]
  },
  {
   "cell_type": "code",
   "execution_count": 6,
   "id": "bf75d52b",
   "metadata": {},
   "outputs": [],
   "source": [
    "model.train(iter = 500)"
   ]
  },
  {
   "cell_type": "markdown",
   "id": "e5f54b7b",
   "metadata": {},
   "source": [
    "### Inspecting the Results\n",
    "\n",
    "With our model trained on our corpus, we can access some high-level information about the corpus."
   ]
  },
  {
   "cell_type": "code",
   "execution_count": 7,
   "id": "bc30aca5",
   "metadata": {},
   "outputs": [
    {
     "name": "stdout",
     "output_type": "stream",
     "text": [
      "Number of unique words: 19,609 \n",
      "Total number of tokens: 129,027\n"
     ]
    }
   ],
   "source": [
    "print(\n",
    "    f\"Number of unique words: {len(model.used_vocabs):,}\",\n",
    "    f\"\\nTotal number of tokens: {model.num_words:,}\"\n",
    ")"
   ]
  },
  {
   "cell_type": "markdown",
   "id": "94601aa3",
   "metadata": {},
   "source": [
    "For each topic, we can get the words most associated with that topic. The accompanying score is the probability of \n",
    "that word appearing in a given topic."
   ]
  },
  {
   "cell_type": "code",
   "execution_count": 8,
   "id": "121c074d",
   "metadata": {},
   "outputs": [
    {
     "name": "stdout",
     "output_type": "stream",
     "text": [
      "Topic 0: \n",
      "+ book (0.0262%), story (0.0134%), new (0.0109%), reader (0.0101%), read (0.0078%)\n",
      "Topic 1: \n",
      "+ book (0.0110%), use (0.0067%), guide (0.0065%), include (0.0063%), work (0.0060%)\n",
      "Topic 2: \n",
      "+ novel (0.0090%), new (0.0088%), war (0.0073%), man (0.0065%), time (0.0063%)\n",
      "Topic 3: \n",
      "+ life (0.0253%), story (0.0084%), live (0.0082%), year (0.0079%), new (0.0077%)\n",
      "Topic 4: \n",
      "+ just (0.0102%), make (0.0097%), friend (0.0086%), get (0.0076%), day (0.0074%)\n"
     ]
    }
   ],
   "source": [
    "for k in range(model.k):\n",
    "    top_words = model.get_topic_words(topic_id = k, top_n = 5)\n",
    "    top_words = [f\"{tup[0]} ({tup[1]:.04f}%)\" for tup in top_words]\n",
    "    print(\n",
    "        f\"Topic {k}:\",\n",
    "        f\"\\n+ {', '.join(top_words)}\"\n",
    "    )"
   ]
  },
  {
   "cell_type": "markdown",
   "id": "5e2d8843",
   "metadata": {},
   "source": [
    "This seems to make intuitive sense: we're dealing here with several hundred book blurbs, so \"book,\" \"reader,\" and \n",
    "\"new\" are all words we'd expect to see.\n",
    "\n",
    "Since each topic has a probability score for every word, it's also possible to look at the total word distribution \n",
    "for a topic with `get_word_dist()`. This outputs an array of probabilities, which is indexed in the same order as \n",
    "`model.used_vocabs()`."
   ]
  },
  {
   "cell_type": "code",
   "execution_count": 9,
   "id": "459ba13b",
   "metadata": {},
   "outputs": [
    {
     "data": {
      "text/plain": [
       "just      0.010161\n",
       "make      0.009699\n",
       "friend    0.008590\n",
       "get       0.007574\n",
       "day       0.007390\n",
       "like      0.006743\n",
       "school    0.006420\n",
       "new       0.006050\n",
       "girl      0.005958\n",
       "home      0.005727\n",
       "dtype: float32"
      ]
     },
     "execution_count": 9,
     "metadata": {},
     "output_type": "execute_result"
    }
   ],
   "source": [
    "word_dist = model.get_topic_word_dist(topic_id = 4)\n",
    "pd.Series(word_dist, index = model.used_vocabs).sort_values(ascending = False).head(10)"
   ]
  },
  {
   "cell_type": "markdown",
   "id": "4d2ebcd2",
   "metadata": {},
   "source": [
    "`get_topic_dist()` performs a similar function, but for a document:"
   ]
  },
  {
   "cell_type": "code",
   "execution_count": 10,
   "id": "471a938c",
   "metadata": {},
   "outputs": [
    {
     "name": "stdout",
     "output_type": "stream",
     "text": [
      "Topic distribution for 'Could've Said Yes':\n",
      "+ Topic #0: 0.15%\n",
      "+ Topic #1: 0.02%\n",
      "+ Topic #2: 0.33%\n",
      "+ Topic #3: 0.18%\n",
      "+ Topic #4: 0.32%\n"
     ]
    }
   ],
   "source": [
    "random_title = manifest.sample(1).index.item()\n",
    "topic_distribution = model.docs[random_title].get_topic_dist()\n",
    "\n",
    "print(f\"Topic distribution for '{manifest.loc[random_title, 'TITLE']}':\")\n",
    "for idx, prob in enumerate(topic_distribution):\n",
    "    print(\n",
    "        f\"+ Topic #{idx}: {prob:0.2f}%\"\n",
    "    )"
   ]
  },
  {
   "cell_type": "markdown",
   "id": "50399493",
   "metadata": {},
   "source": [
    "`tomotopy` also offers some shorthand to produce the top topics for a document. Here, we'll sample from `manifest`, \n",
    "get the associated index, pipe it into our model object, and return the top topic for a blurb."
   ]
  },
  {
   "cell_type": "code",
   "execution_count": 11,
   "id": "53271bc6",
   "metadata": {},
   "outputs": [
    {
     "name": "stdout",
     "output_type": "stream",
     "text": [
      "Top topics for:\n",
      "+ Roll, Jordan, Roll: #1 (0.47%)\n",
      "+ Somewhere in the World Right Now: #0 (0.40%)\n",
      "+ The Science Book: #1 (0.45%)\n",
      "+ Star Trek: The Classic UK Comics Volume 1: #0 (0.49%)\n",
      "+ Too Hot to Touch: #2 (0.45%)\n"
     ]
    }
   ],
   "source": [
    "sampled_titles = manifest.sample(5).index\n",
    "\n",
    "print(\"Top topics for:\")\n",
    "for idx in sampled_titles:\n",
    "    result = model.docs[idx].get_topics(top_n = 1)\n",
    "    topic = result[0][0]\n",
    "    score = result[0][1]\n",
    "    print(f\"+ {manifest.loc[idx, 'TITLE']}: #{topic} ({score:0.2f}%)\")"
   ]
  },
  {
   "cell_type": "markdown",
   "id": "792305a1",
   "metadata": {},
   "source": [
    "It's possible to get even more granular. Every word in a document has its own associated topic, which will change \n",
    "depending on the document. This is about as close to context-sensitive semantics as we can get with this method."
   ]
  },
  {
   "cell_type": "code",
   "execution_count": 12,
   "id": "ea32db8b",
   "metadata": {},
   "outputs": [
    {
     "data": {
      "text/html": [
       "<div>\n",
       "<style scoped>\n",
       "    .dataframe tbody tr th:only-of-type {\n",
       "        vertical-align: middle;\n",
       "    }\n",
       "\n",
       "    .dataframe tbody tr th {\n",
       "        vertical-align: top;\n",
       "    }\n",
       "\n",
       "    .dataframe thead th {\n",
       "        text-align: right;\n",
       "    }\n",
       "</style>\n",
       "<table border=\"1\" class=\"dataframe\">\n",
       "  <thead>\n",
       "    <tr style=\"text-align: right;\">\n",
       "      <th></th>\n",
       "      <th>WORD</th>\n",
       "      <th>TOPIC</th>\n",
       "    </tr>\n",
       "  </thead>\n",
       "  <tbody>\n",
       "    <tr>\n",
       "      <th>0</th>\n",
       "      <td>truth</td>\n",
       "      <td>3</td>\n",
       "    </tr>\n",
       "    <tr>\n",
       "      <th>1</th>\n",
       "      <td>pave</td>\n",
       "      <td>0</td>\n",
       "    </tr>\n",
       "    <tr>\n",
       "      <th>2</th>\n",
       "      <td>path</td>\n",
       "      <td>3</td>\n",
       "    </tr>\n",
       "    <tr>\n",
       "      <th>3</th>\n",
       "      <td>second</td>\n",
       "      <td>2</td>\n",
       "    </tr>\n",
       "    <tr>\n",
       "      <th>4</th>\n",
       "      <td>chance</td>\n",
       "      <td>4</td>\n",
       "    </tr>\n",
       "    <tr>\n",
       "      <th>5</th>\n",
       "      <td>love</td>\n",
       "      <td>2</td>\n",
       "    </tr>\n",
       "    <tr>\n",
       "      <th>6</th>\n",
       "      <td>captivate</td>\n",
       "      <td>2</td>\n",
       "    </tr>\n",
       "    <tr>\n",
       "      <th>7</th>\n",
       "      <td>thistle</td>\n",
       "      <td>4</td>\n",
       "    </tr>\n",
       "    <tr>\n",
       "      <th>8</th>\n",
       "      <td>bend</td>\n",
       "      <td>4</td>\n",
       "    </tr>\n",
       "    <tr>\n",
       "      <th>9</th>\n",
       "      <td>novel</td>\n",
       "      <td>2</td>\n",
       "    </tr>\n",
       "  </tbody>\n",
       "</table>\n",
       "</div>"
      ],
      "text/plain": [
       "        WORD  TOPIC\n",
       "0      truth      3\n",
       "1       pave      0\n",
       "2       path      3\n",
       "3     second      2\n",
       "4     chance      4\n",
       "5       love      2\n",
       "6  captivate      2\n",
       "7    thistle      4\n",
       "8       bend      4\n",
       "9      novel      2"
      ]
     },
     "execution_count": 12,
     "metadata": {},
     "output_type": "execute_result"
    }
   ],
   "source": [
    "doc = model.docs[random_title]\n",
    "word_topic = pd.DataFrame(zip(doc, doc.topics), columns = ['WORD', 'TOPIC'])\n",
    "word_topic.head(10)"
   ]
  },
  {
   "cell_type": "markdown",
   "id": "f2bbb9c5",
   "metadata": {},
   "source": [
    "To zoom out again: with list comprehension we can get a topic probability distribution for each document in our \n",
    "corpus. In the literature, this is called the **theta**. More informally, we refer to it as the document-topic \n",
    "matrix."
   ]
  },
  {
   "cell_type": "code",
   "execution_count": 13,
   "id": "41b6f5a4",
   "metadata": {},
   "outputs": [
    {
     "data": {
      "text/html": [
       "<div>\n",
       "<style scoped>\n",
       "    .dataframe tbody tr th:only-of-type {\n",
       "        vertical-align: middle;\n",
       "    }\n",
       "\n",
       "    .dataframe tbody tr th {\n",
       "        vertical-align: top;\n",
       "    }\n",
       "\n",
       "    .dataframe thead th {\n",
       "        text-align: right;\n",
       "    }\n",
       "</style>\n",
       "<table border=\"1\" class=\"dataframe\">\n",
       "  <thead>\n",
       "    <tr style=\"text-align: right;\">\n",
       "      <th></th>\n",
       "      <th>TOPIC_0</th>\n",
       "      <th>TOPIC_1</th>\n",
       "      <th>TOPIC_2</th>\n",
       "      <th>TOPIC_3</th>\n",
       "      <th>TOPIC_4</th>\n",
       "    </tr>\n",
       "    <tr>\n",
       "      <th>TITLE</th>\n",
       "      <th></th>\n",
       "      <th></th>\n",
       "      <th></th>\n",
       "      <th></th>\n",
       "      <th></th>\n",
       "    </tr>\n",
       "  </thead>\n",
       "  <tbody>\n",
       "    <tr>\n",
       "      <th>After Atlas</th>\n",
       "      <td>0.070882</td>\n",
       "      <td>0.037925</td>\n",
       "      <td>0.551278</td>\n",
       "      <td>0.270304</td>\n",
       "      <td>0.069611</td>\n",
       "    </tr>\n",
       "    <tr>\n",
       "      <th>Ragged Dick and Struggling Upward</th>\n",
       "      <td>0.271145</td>\n",
       "      <td>0.385517</td>\n",
       "      <td>0.106728</td>\n",
       "      <td>0.156587</td>\n",
       "      <td>0.080024</td>\n",
       "    </tr>\n",
       "    <tr>\n",
       "      <th>The Shape of Snakes</th>\n",
       "      <td>0.025769</td>\n",
       "      <td>0.037725</td>\n",
       "      <td>0.598909</td>\n",
       "      <td>0.227834</td>\n",
       "      <td>0.109763</td>\n",
       "    </tr>\n",
       "    <tr>\n",
       "      <th>The Setting Sun</th>\n",
       "      <td>0.126659</td>\n",
       "      <td>0.060929</td>\n",
       "      <td>0.265295</td>\n",
       "      <td>0.494987</td>\n",
       "      <td>0.052131</td>\n",
       "    </tr>\n",
       "    <tr>\n",
       "      <th>Stink and the Shark Sleepover</th>\n",
       "      <td>0.373784</td>\n",
       "      <td>0.030956</td>\n",
       "      <td>0.149338</td>\n",
       "      <td>0.093316</td>\n",
       "      <td>0.352606</td>\n",
       "    </tr>\n",
       "    <tr>\n",
       "      <th>...</th>\n",
       "      <td>...</td>\n",
       "      <td>...</td>\n",
       "      <td>...</td>\n",
       "      <td>...</td>\n",
       "      <td>...</td>\n",
       "    </tr>\n",
       "    <tr>\n",
       "      <th>Greetings From Angelus</th>\n",
       "      <td>0.319557</td>\n",
       "      <td>0.419171</td>\n",
       "      <td>0.125248</td>\n",
       "      <td>0.125449</td>\n",
       "      <td>0.010575</td>\n",
       "    </tr>\n",
       "    <tr>\n",
       "      <th>Peppa Pig's Pop-up Princess Castle</th>\n",
       "      <td>0.607036</td>\n",
       "      <td>0.010852</td>\n",
       "      <td>0.083282</td>\n",
       "      <td>0.168597</td>\n",
       "      <td>0.130234</td>\n",
       "    </tr>\n",
       "    <tr>\n",
       "      <th>What Should the Left Propose?</th>\n",
       "      <td>0.059229</td>\n",
       "      <td>0.598486</td>\n",
       "      <td>0.101163</td>\n",
       "      <td>0.223962</td>\n",
       "      <td>0.017160</td>\n",
       "    </tr>\n",
       "    <tr>\n",
       "      <th>Peter and the Wolf</th>\n",
       "      <td>0.634375</td>\n",
       "      <td>0.120051</td>\n",
       "      <td>0.083268</td>\n",
       "      <td>0.126519</td>\n",
       "      <td>0.035787</td>\n",
       "    </tr>\n",
       "    <tr>\n",
       "      <th>Macedonia</th>\n",
       "      <td>0.350776</td>\n",
       "      <td>0.074940</td>\n",
       "      <td>0.189547</td>\n",
       "      <td>0.267247</td>\n",
       "      <td>0.117490</td>\n",
       "    </tr>\n",
       "  </tbody>\n",
       "</table>\n",
       "<p>1500 rows × 5 columns</p>\n",
       "</div>"
      ],
      "text/plain": [
       "                                     TOPIC_0   TOPIC_1   TOPIC_2   TOPIC_3  \\\n",
       "TITLE                                                                        \n",
       "After Atlas                         0.070882  0.037925  0.551278  0.270304   \n",
       "Ragged Dick and Struggling Upward   0.271145  0.385517  0.106728  0.156587   \n",
       "The Shape of Snakes                 0.025769  0.037725  0.598909  0.227834   \n",
       "The Setting Sun                     0.126659  0.060929  0.265295  0.494987   \n",
       "Stink and the Shark Sleepover       0.373784  0.030956  0.149338  0.093316   \n",
       "...                                      ...       ...       ...       ...   \n",
       "Greetings From Angelus              0.319557  0.419171  0.125248  0.125449   \n",
       "Peppa Pig's Pop-up Princess Castle  0.607036  0.010852  0.083282  0.168597   \n",
       "What Should the Left Propose?       0.059229  0.598486  0.101163  0.223962   \n",
       "Peter and the Wolf                  0.634375  0.120051  0.083268  0.126519   \n",
       "Macedonia                           0.350776  0.074940  0.189547  0.267247   \n",
       "\n",
       "                                     TOPIC_4  \n",
       "TITLE                                         \n",
       "After Atlas                         0.069611  \n",
       "Ragged Dick and Struggling Upward   0.080024  \n",
       "The Shape of Snakes                 0.109763  \n",
       "The Setting Sun                     0.052131  \n",
       "Stink and the Shark Sleepover       0.352606  \n",
       "...                                      ...  \n",
       "Greetings From Angelus              0.010575  \n",
       "Peppa Pig's Pop-up Princess Castle  0.130234  \n",
       "What Should the Left Propose?       0.017160  \n",
       "Peter and the Wolf                  0.035787  \n",
       "Macedonia                           0.117490  \n",
       "\n",
       "[1500 rows x 5 columns]"
      ]
     },
     "execution_count": 13,
     "metadata": {},
     "output_type": "execute_result"
    }
   ],
   "source": [
    "import numpy as np\n",
    "\n",
    "all_topic_distributions = [doc.get_topic_dist() for doc in model.docs]\n",
    "theta = np.stack(all_topic_distributions)\n",
    "theta /= theta.sum(axis = 1, keepdims = True)\n",
    "theta = pd.DataFrame(theta,\n",
    "                     index = manifest['TITLE'],\n",
    "                     columns = list(\"TOPIC_\" + str(i) for i in range(n_topics))\n",
    "                    )\n",
    "theta"
   ]
  },
  {
   "cell_type": "markdown",
   "id": "bbdd46e1",
   "metadata": {},
   "source": [
    "It's also often helpful to know how \"large\" each topic is. There's a caveat here, however, in that each word in the \n",
    "model technically belongs to each topic, so it's somewhat of a heuristic to say that a topic's size is $n$ words. \n",
    "`tomotopy` derives the output below by multiplying each column of the theta matrix by the document lengths in the \n",
    "corpus. It then sums the results for each topic."
   ]
  },
  {
   "cell_type": "code",
   "execution_count": 14,
   "id": "1d1dba45",
   "metadata": {},
   "outputs": [
    {
     "name": "stdout",
     "output_type": "stream",
     "text": [
      "Number of words per topic:\n",
      "+ Topic #0: 23,727 words\n",
      "+ Topic #1: 23,950 words\n",
      "+ Topic #2: 30,303 words\n",
      "+ Topic #3: 29,590 words\n",
      "+ Topic #4: 21,457 words\n"
     ]
    }
   ],
   "source": [
    "topic_sizes = model.get_count_by_topics()\n",
    "\n",
    "print(\"Number of words per topic:\")\n",
    "for k in range(0, n_topics):\n",
    "    print(f\"+ Topic #{k}: {topic_sizes[k]:,} words\")"
   ]
  },
  {
   "cell_type": "markdown",
   "id": "ec40dc77",
   "metadata": {},
   "source": [
    "Finally, using the `num_words` attribute we can express this in terms of percentages."
   ]
  },
  {
   "cell_type": "code",
   "execution_count": 15,
   "id": "fc30fc95",
   "metadata": {},
   "outputs": [
    {
     "name": "stdout",
     "output_type": "stream",
     "text": [
      "Topic proportion across the corpus:\n",
      "+ Topic #0: 0.18%\n",
      "+ Topic #1: 0.19%\n",
      "+ Topic #2: 0.23%\n",
      "+ Topic #3: 0.23%\n",
      "+ Topic #4: 0.17%\n"
     ]
    }
   ],
   "source": [
    "print(\"Topic proportion across the corpus:\")\n",
    "for k in range(0, n_topics):\n",
    "    print(f\"+ Topic #{k}: {topic_sizes[k] / model.num_words:0.2f}%\")"
   ]
  },
  {
   "cell_type": "markdown",
   "id": "45001cfb",
   "metadata": {},
   "source": [
    "Fine Tuning: The Basics\n",
    "----------------------------\n",
    "\n",
    "All this looks good so far, but our topics are fairly general. More, their total proportions across the corpus are \n",
    "relatively homogenous. Maybe this reflects what's in our corpus – or maybe not. For example, a closer inspection of \n",
    "individual word-topic distributions for a document show some mismatches between the topic, as we might interpret it \n",
    "in a general sense, and those words.\n",
    "\n",
    "If we get the word-topic distributions from above..."
   ]
  },
  {
   "cell_type": "code",
   "execution_count": 16,
   "id": "9f69d987",
   "metadata": {},
   "outputs": [
    {
     "data": {
      "text/html": [
       "<div>\n",
       "<style scoped>\n",
       "    .dataframe tbody tr th:only-of-type {\n",
       "        vertical-align: middle;\n",
       "    }\n",
       "\n",
       "    .dataframe tbody tr th {\n",
       "        vertical-align: top;\n",
       "    }\n",
       "\n",
       "    .dataframe thead th {\n",
       "        text-align: right;\n",
       "    }\n",
       "</style>\n",
       "<table border=\"1\" class=\"dataframe\">\n",
       "  <thead>\n",
       "    <tr style=\"text-align: right;\">\n",
       "      <th></th>\n",
       "      <th>WORD</th>\n",
       "      <th>TOPIC</th>\n",
       "    </tr>\n",
       "  </thead>\n",
       "  <tbody>\n",
       "    <tr>\n",
       "      <th>0</th>\n",
       "      <td>truth</td>\n",
       "      <td>3</td>\n",
       "    </tr>\n",
       "    <tr>\n",
       "      <th>1</th>\n",
       "      <td>pave</td>\n",
       "      <td>0</td>\n",
       "    </tr>\n",
       "    <tr>\n",
       "      <th>2</th>\n",
       "      <td>path</td>\n",
       "      <td>3</td>\n",
       "    </tr>\n",
       "    <tr>\n",
       "      <th>3</th>\n",
       "      <td>second</td>\n",
       "      <td>2</td>\n",
       "    </tr>\n",
       "    <tr>\n",
       "      <th>4</th>\n",
       "      <td>chance</td>\n",
       "      <td>4</td>\n",
       "    </tr>\n",
       "    <tr>\n",
       "      <th>5</th>\n",
       "      <td>love</td>\n",
       "      <td>2</td>\n",
       "    </tr>\n",
       "    <tr>\n",
       "      <th>6</th>\n",
       "      <td>captivate</td>\n",
       "      <td>2</td>\n",
       "    </tr>\n",
       "    <tr>\n",
       "      <th>7</th>\n",
       "      <td>thistle</td>\n",
       "      <td>4</td>\n",
       "    </tr>\n",
       "    <tr>\n",
       "      <th>8</th>\n",
       "      <td>bend</td>\n",
       "      <td>4</td>\n",
       "    </tr>\n",
       "    <tr>\n",
       "      <th>9</th>\n",
       "      <td>novel</td>\n",
       "      <td>2</td>\n",
       "    </tr>\n",
       "  </tbody>\n",
       "</table>\n",
       "</div>"
      ],
      "text/plain": [
       "        WORD  TOPIC\n",
       "0      truth      3\n",
       "1       pave      0\n",
       "2       path      3\n",
       "3     second      2\n",
       "4     chance      4\n",
       "5       love      2\n",
       "6  captivate      2\n",
       "7    thistle      4\n",
       "8       bend      4\n",
       "9      novel      2"
      ]
     },
     "execution_count": 16,
     "metadata": {},
     "output_type": "execute_result"
    }
   ],
   "source": [
    "word_topic.head(10)"
   ]
  },
  {
   "cell_type": "markdown",
   "id": "6fd82c79",
   "metadata": {},
   "source": [
    "...and add in the top few words for each topic assignment...\n",
    "\n",
    "```{margin} What this loop does\n",
    "For each word in the blurb:\n",
    "1. Get its associated topic\n",
    "2. Get the top five words for that topic\n",
    "3. Join those words into a comma-separated string\n",
    "4. Append that string to a column list, which we can add to our dataframe\n",
    "```"
   ]
  },
  {
   "cell_type": "code",
   "execution_count": 17,
   "id": "8f056cd3",
   "metadata": {},
   "outputs": [
    {
     "data": {
      "text/html": [
       "<div>\n",
       "<style scoped>\n",
       "    .dataframe tbody tr th:only-of-type {\n",
       "        vertical-align: middle;\n",
       "    }\n",
       "\n",
       "    .dataframe tbody tr th {\n",
       "        vertical-align: top;\n",
       "    }\n",
       "\n",
       "    .dataframe thead th {\n",
       "        text-align: right;\n",
       "    }\n",
       "</style>\n",
       "<table border=\"1\" class=\"dataframe\">\n",
       "  <thead>\n",
       "    <tr style=\"text-align: right;\">\n",
       "      <th></th>\n",
       "      <th>WORD</th>\n",
       "      <th>TOPIC</th>\n",
       "      <th>TOP_TOPIC_WORDS</th>\n",
       "    </tr>\n",
       "  </thead>\n",
       "  <tbody>\n",
       "    <tr>\n",
       "      <th>0</th>\n",
       "      <td>truth</td>\n",
       "      <td>3</td>\n",
       "      <td>life, story, live, year, new</td>\n",
       "    </tr>\n",
       "    <tr>\n",
       "      <th>1</th>\n",
       "      <td>pave</td>\n",
       "      <td>0</td>\n",
       "      <td>book, story, new, reader, read</td>\n",
       "    </tr>\n",
       "    <tr>\n",
       "      <th>2</th>\n",
       "      <td>path</td>\n",
       "      <td>3</td>\n",
       "      <td>life, story, live, year, new</td>\n",
       "    </tr>\n",
       "    <tr>\n",
       "      <th>3</th>\n",
       "      <td>second</td>\n",
       "      <td>2</td>\n",
       "      <td>novel, new, war, man, time</td>\n",
       "    </tr>\n",
       "    <tr>\n",
       "      <th>4</th>\n",
       "      <td>chance</td>\n",
       "      <td>4</td>\n",
       "      <td>just, make, friend, get, day</td>\n",
       "    </tr>\n",
       "    <tr>\n",
       "      <th>5</th>\n",
       "      <td>love</td>\n",
       "      <td>2</td>\n",
       "      <td>novel, new, war, man, time</td>\n",
       "    </tr>\n",
       "    <tr>\n",
       "      <th>6</th>\n",
       "      <td>captivate</td>\n",
       "      <td>2</td>\n",
       "      <td>novel, new, war, man, time</td>\n",
       "    </tr>\n",
       "    <tr>\n",
       "      <th>7</th>\n",
       "      <td>thistle</td>\n",
       "      <td>4</td>\n",
       "      <td>just, make, friend, get, day</td>\n",
       "    </tr>\n",
       "    <tr>\n",
       "      <th>8</th>\n",
       "      <td>bend</td>\n",
       "      <td>4</td>\n",
       "      <td>just, make, friend, get, day</td>\n",
       "    </tr>\n",
       "    <tr>\n",
       "      <th>9</th>\n",
       "      <td>novel</td>\n",
       "      <td>2</td>\n",
       "      <td>novel, new, war, man, time</td>\n",
       "    </tr>\n",
       "  </tbody>\n",
       "</table>\n",
       "</div>"
      ],
      "text/plain": [
       "        WORD  TOPIC                 TOP_TOPIC_WORDS\n",
       "0      truth      3    life, story, live, year, new\n",
       "1       pave      0  book, story, new, reader, read\n",
       "2       path      3    life, story, live, year, new\n",
       "3     second      2      novel, new, war, man, time\n",
       "4     chance      4    just, make, friend, get, day\n",
       "5       love      2      novel, new, war, man, time\n",
       "6  captivate      2      novel, new, war, man, time\n",
       "7    thistle      4    just, make, friend, get, day\n",
       "8       bend      4    just, make, friend, get, day\n",
       "9      novel      2      novel, new, war, man, time"
      ]
     },
     "execution_count": 17,
     "metadata": {},
     "output_type": "execute_result"
    }
   ],
   "source": [
    "top_words_column = []\n",
    "for idx in word_topic.index:\n",
    "    topic = word_topic.loc[idx, 'TOPIC']\n",
    "    top_words = model.get_topic_words(topic, top_n = 5)\n",
    "    top_words = ', '.join([w[0] for w in top_words])\n",
    "    top_words_column.append(top_words)\n",
    "    \n",
    "word_topic['TOP_TOPIC_WORDS'] = top_words_column\n",
    "word_topic.head(10)"
   ]
  },
  {
   "cell_type": "markdown",
   "id": "9e3d614f",
   "metadata": {},
   "source": [
    "...it would appear that the actual words in the document do not really match with the top entries for its \n",
    "associated topic. This suggests that we need to make some adjustments to the way we initialize our model so that it \n",
    "better reflects the specificis of our corpus.\n",
    "\n",
    "But there are several different parameters to adjust when intializing the model, so what, then, should we change?"
   ]
  },
  {
   "cell_type": "markdown",
   "id": "5a947e00",
   "metadata": {},
   "source": [
    "### Setting the number of topics\n",
    "\n",
    "An easy answer would be the number of topics. If, as above, your topics seem too general, it may be because you've \n",
    "too small a number of topics for the model. Increasing the number of topics you use may make the model more \n",
    "interpretable.\n",
    "\n",
    "We'll show an example. But before doing so, we'll load our files into a `Corpus()` object, which will streamline \n",
    "the model initialization process."
   ]
  },
  {
   "cell_type": "code",
   "execution_count": 18,
   "id": "95055881",
   "metadata": {},
   "outputs": [],
   "source": [
    "from tomotopy.utils import Corpus\n",
    "\n",
    "corpus = Corpus()\n",
    "for path in paths:\n",
    "    with open(path, 'r') as p:\n",
    "        doc = p.read().split()\n",
    "        corpus.add_doc(doc)"
   ]
  },
  {
   "cell_type": "markdown",
   "id": "e55af82d",
   "metadata": {},
   "source": [
    "Now, let's set a higher number of topics for our model."
   ]
  },
  {
   "cell_type": "code",
   "execution_count": 19,
   "id": "1f11d9f2",
   "metadata": {},
   "outputs": [
    {
     "name": "stdout",
     "output_type": "stream",
     "text": [
      "Number of documents: 1500\n"
     ]
    }
   ],
   "source": [
    "n_topics = 10\n",
    "model_10 = tp.LDAModel(k = n_topics, corpus = corpus, seed = 357)\n",
    "\n",
    "print(\"Number of documents:\", len(model_10.docs))"
   ]
  },
  {
   "cell_type": "markdown",
   "id": "0de378a1",
   "metadata": {},
   "source": [
    "And let's also define a quick function to help us inspect the top words for each topic. This is the same `for` loop \n",
    "we used earlier wrapped up in a callable function."
   ]
  },
  {
   "cell_type": "code",
   "execution_count": 20,
   "id": "eab2d7c1",
   "metadata": {},
   "outputs": [],
   "source": [
    "def print_topic_words(model, top_n = 5):\n",
    "    for k in range(model.k):\n",
    "        top_words = model.get_topic_words(topic_id = k, top_n = top_n)\n",
    "        top_words = [f\"{tup[0]} ({tup[1]:.04f}%)\" for tup in top_words]\n",
    "        print(\n",
    "            f\"Topic #{k}:\",\n",
    "            f\"\\n+ {', '.join(top_words)}\"\n",
    "        )"
   ]
  },
  {
   "cell_type": "markdown",
   "id": "356e588b",
   "metadata": {},
   "source": [
    "With that done, we'll train a model with our new number of topics and see what the results look like."
   ]
  },
  {
   "cell_type": "code",
   "execution_count": 21,
   "id": "2a28fc8e",
   "metadata": {},
   "outputs": [
    {
     "name": "stdout",
     "output_type": "stream",
     "text": [
      "Topic #0: \n",
      "+ new (0.0369%), time (0.0228%), author (0.0188%), york (0.0185%), novel (0.0172%)\n",
      "Topic #1: \n",
      "+ book (0.0372%), story (0.0193%), reader (0.0151%), new (0.0134%), read (0.0108%)\n",
      "Topic #2: \n",
      "+ book (0.0128%), use (0.0086%), offer (0.0083%), life (0.0080%), learn (0.0071%)\n",
      "Topic #3: \n",
      "+ murder (0.0172%), mystery (0.0168%), crime (0.0090%), kill (0.0088%), killer (0.0088%)\n",
      "Topic #4: \n",
      "+ food (0.0199%), recipe (0.0172%), italian (0.0080%), eat (0.0074%), cook (0.0074%)\n",
      "Topic #5: \n",
      "+ life (0.0299%), woman (0.0165%), story (0.0154%), love (0.0151%), family (0.0126%)\n",
      "Topic #6: \n",
      "+ history (0.0129%), work (0.0127%), american (0.0125%), world (0.0088%), year (0.0085%)\n",
      "Topic #7: \n",
      "+ just (0.0120%), know (0.0100%), like (0.0089%), time (0.0088%), make (0.0085%)\n",
      "Topic #8: \n",
      "+ war (0.0159%), world (0.0111%), power (0.0081%), battle (0.0081%), king (0.0069%)\n",
      "Topic #9: \n",
      "+ child (0.0132%), little (0.0124%), animal (0.0109%), day (0.0107%), make (0.0094%)\n"
     ]
    }
   ],
   "source": [
    "model_10.train(iter = 500)\n",
    "\n",
    "print_topic_words(model_10)"
   ]
  },
  {
   "cell_type": "markdown",
   "id": "34d093e4",
   "metadata": {},
   "source": [
    "That looks better! Adding more topics spreads out the word distributions.\n",
    "\n",
    "Given that, what if we increased our number of topics even higher?"
   ]
  },
  {
   "cell_type": "code",
   "execution_count": 22,
   "id": "a9f99a32",
   "metadata": {},
   "outputs": [
    {
     "name": "stdout",
     "output_type": "stream",
     "text": [
      "Topic #0: \n",
      "+ life (0.0506%), book (0.0211%), live (0.0142%), experience (0.0133%), offer (0.0124%)\n",
      "Topic #1: \n",
      "+ war (0.0329%), soldier (0.0166%), american (0.0133%), men (0.0133%), military (0.0112%)\n",
      "Topic #2: \n",
      "+ baby (0.0162%), feel (0.0140%), fly (0.0129%), touch (0.0123%), rat (0.0112%)\n",
      "Topic #3: \n",
      "+ friend (0.0323%), girl (0.0301%), love (0.0296%), old (0.0195%), brother (0.0150%)\n",
      "Topic #4: \n",
      "+ new (0.0424%), book (0.0368%), time (0.0296%), york (0.0271%), review (0.0179%)\n",
      "Topic #5: \n",
      "+ just (0.0196%), time (0.0159%), make (0.0146%), like (0.0145%), know (0.0132%)\n",
      "Topic #6: \n",
      "+ guide (0.0242%), travel (0.0233%), top (0.0170%), new (0.0166%), eyewitness (0.0161%)\n",
      "Topic #7: \n",
      "+ world (0.0338%), human (0.0310%), new (0.0224%), people (0.0152%), way (0.0142%)\n",
      "Topic #8: \n",
      "+ star (0.0243%), war (0.0211%), lego (0.0170%), universe (0.0138%), set (0.0124%)\n",
      "Topic #9: \n",
      "+ london (0.0222%), ben (0.0114%), lady (0.0107%), freud (0.0100%), lacey (0.0093%)\n",
      "Topic #10: \n",
      "+ classic (0.0288%), work (0.0252%), english (0.0194%), penguin (0.0191%), literature (0.0180%)\n",
      "Topic #11: \n",
      "+ god (0.0330%), magic (0.0210%), king (0.0191%), return (0.0158%), kingdom (0.0153%)\n",
      "Topic #12: \n",
      "+ guide (0.0227%), use (0.0226%), book (0.0213%), step (0.0180%), learn (0.0163%)\n",
      "Topic #13: \n",
      "+ people (0.0145%), show (0.0136%), business (0.0124%), think (0.0123%), study (0.0121%)\n",
      "Topic #14: \n",
      "+ music (0.0222%), sport (0.0163%), team (0.0155%), star (0.0134%), baseball (0.0130%)\n",
      "Topic #15: \n",
      "+ home (0.0270%), year (0.0245%), family (0.0219%), life (0.0193%), old (0.0177%)\n",
      "Topic #16: \n",
      "+ book (0.0458%), reader (0.0166%), read (0.0156%), child (0.0155%), feature (0.0147%)\n",
      "Topic #17: \n",
      "+ health (0.0171%), program (0.0128%), body (0.0124%), plan (0.0117%), help (0.0114%)\n",
      "Topic #18: \n",
      "+ murder (0.0317%), town (0.0270%), mystery (0.0258%), death (0.0188%), police (0.0137%)\n",
      "Topic #19: \n",
      "+ comic (0.0279%), cat (0.0228%), poem (0.0217%), animal (0.0199%), cole (0.0165%)\n",
      "Topic #20: \n",
      "+ tale (0.0337%), horse (0.0263%), ship (0.0189%), adventure (0.0164%), sea (0.0144%)\n",
      "Topic #21: \n",
      "+ christmas (0.0234%), tree (0.0168%), house (0.0156%), jack (0.0135%), night (0.0127%)\n",
      "Topic #22: \n",
      "+ political (0.0253%), state (0.0200%), american (0.0149%), america (0.0144%), power (0.0121%)\n",
      "Topic #23: \n",
      "+ story (0.0397%), year (0.0211%), world (0.0173%), life (0.0138%), become (0.0121%)\n",
      "Topic #24: \n",
      "+ art (0.0255%), work (0.0189%), history (0.0158%), artist (0.0143%), life (0.0141%)\n",
      "Topic #25: \n",
      "+ century (0.0257%), history (0.0161%), john (0.0138%), war (0.0130%), figure (0.0092%)\n",
      "Topic #26: \n",
      "+ woman (0.0427%), love (0.0375%), life (0.0276%), mother (0.0167%), heart (0.0153%)\n",
      "Topic #27: \n",
      "+ new (0.0268%), author (0.0216%), novel (0.0171%), time (0.0158%), series (0.0158%)\n",
      "Topic #28: \n",
      "+ world (0.0165%), secret (0.0137%), know (0.0133%), face (0.0098%), dark (0.0096%)\n",
      "Topic #29: \n",
      "+ recipe (0.0304%), food (0.0279%), family (0.0143%), cook (0.0133%), drink (0.0129%)\n"
     ]
    }
   ],
   "source": [
    "n_topics = 30\n",
    "model_30 = tp.LDAModel(k = n_topics, corpus = corpus, seed = 357)\n",
    "\n",
    "model_30.train(iter = 500)\n",
    "\n",
    "print_topic_words(model_30)"
   ]
  },
  {
   "cell_type": "markdown",
   "id": "b2566226",
   "metadata": {},
   "source": [
    "This also looks pretty solid. Between the two models, there appear to be some similar topics, but the second model, \n",
    "which has a higher number of topics, includes a wider range of words in the top word distrubition. While all that \n",
    "seems well and good, we don't yet have a way to determine whether an increase in the number of topics will always \n",
    "produce more interpretable results. At some point, we might start splitting hairs. In fact, we can see this \n",
    "beginning to happen in a few instances with the second model. There are a few topics above that we might prefer to \n",
    "merge into a single one. Maybe topics 4 and 27, for example, would be better off belonging together, rather than \n",
    "staying apart, as they are here.\n",
    "\n",
    "So the question is, what is an ideal number of topics?\n",
    "\n",
    "One way to approach this question would be to run through a range of different topic sizes and inspect the results. \n",
    "In some cases, it can be perfectly valid to pick the number of topics that appears to be the most interpretable for \n",
    "you and the questions you have about your corpus. But there are also a few metrics we can use to measure the \n",
    "quality of a given model in terms of the underlying data it represents. Sometimes these metrics lead to models that \n",
    "aren't quite as interpretable, but they also help us make a more empirically grounded assessment of the resultant \n",
    "topics."
   ]
  },
  {
   "cell_type": "markdown",
   "id": "18b9267d",
   "metadata": {},
   "source": [
    "### Perplexity\n",
    "\n",
    "The first of these measures is **perplexity**. In text mining and natural language processing, we use perplexity \n",
    "scoring to evaluate how well a model predicts an unseen set of words. Essentially, it measures how \"surprised\" a \n",
    "model is by a sequence of unseen words. The lower the perplexity, the more your model is capable of mapping \n",
    "predictions against the data it's been trained on.\n",
    "\n",
    "```{margin} More on perplexity\n",
    "If you'd like to read more on perplexity in the context of NLP, [this post] offers a good walkthrough of the \n",
    "concept and its application for the kind of work we're doing here.\n",
    "\n",
    "[this post]: https://towardsdatascience.com/perplexity-intuition-and-derivation-105dd481c8f3\n",
    "```\n",
    "\n",
    "When you train a `tomotopy` model object, the model records a perplexity score for the training run. We can access \n",
    "this score as an attribute for a given model."
   ]
  },
  {
   "cell_type": "code",
   "execution_count": 23,
   "id": "3d6a87c9",
   "metadata": {},
   "outputs": [
    {
     "name": "stdout",
     "output_type": "stream",
     "text": [
      "Perplexity score for the 10-topic model: 9767.1118 \n",
      "Perplexity score for the 30-topic model: 10225.3969\n"
     ]
    }
   ],
   "source": [
    "print(\n",
    "    f\"Perplexity score for the {model_10.k}-topic model: {model_10.perplexity:0.4f}\",\n",
    "    f\"\\nPerplexity score for the {model_30.k}-topic model: {model_30.perplexity:0.4f}\"\n",
    ")"
   ]
  },
  {
   "cell_type": "markdown",
   "id": "9b8e8782",
   "metadata": {},
   "source": [
    "Interestingly, in this instance, the model with the smaller number of topics has a better perplexity score than the \n",
    "one with more topics. This would suggest that the first model is better fitted to our data and is thus a \"better\" \n",
    "model.\n",
    "\n",
    "It also suggests that there may be a topic number between these two that has an even better perplexity score. We \n",
    "can test to see whether this is the case by constructing a `for` loop, in which we iterate through a range of \n",
    "different topic numbers, train a model on each, and record the resultant perplexity scores."
   ]
  },
  {
   "cell_type": "code",
   "execution_count": 24,
   "id": "ae2f6ac7",
   "metadata": {},
   "outputs": [],
   "source": [
    "n_topic_range = range(10, 31)\n",
    "\n",
    "perplexity_scores = []\n",
    "for k in n_topic_range:\n",
    "    _model = tp.LDAModel(k = k, corpus = corpus, seed = 357)\n",
    "    _model.train(iter = 500)\n",
    "    perplexity_scores.append({'N_TOPICS': k, 'PERPLEXITY_SCORE': _model.perplexity})"
   ]
  },
  {
   "cell_type": "markdown",
   "id": "1925d7d2",
   "metadata": {},
   "source": [
    "Let's convert the results to a dataframe and, while we're at it, train a model with the best-scoring number of \n",
    "topics."
   ]
  },
  {
   "cell_type": "code",
   "execution_count": 25,
   "id": "f0b9f299",
   "metadata": {},
   "outputs": [],
   "source": [
    "perplexity_scores = pd.DataFrame(perplexity_scores)\n",
    "perplexity_scores = perplexity_scores.sort_values('PERPLEXITY_SCORE')\n",
    "\n",
    "best_n_topic = perplexity_scores.nsmallest(1, 'PERPLEXITY_SCORE')['N_TOPICS'].item()\n",
    "best_p = tp.LDAModel(k = best_n_topic, corpus = corpus, seed = 357)\n",
    "best_p.train(iter = 500)"
   ]
  },
  {
   "cell_type": "markdown",
   "id": "46843d79",
   "metadata": {},
   "source": [
    "Here are the results:"
   ]
  },
  {
   "cell_type": "code",
   "execution_count": 26,
   "id": "69bf9bec",
   "metadata": {},
   "outputs": [
    {
     "data": {
      "text/html": [
       "<div>\n",
       "<style scoped>\n",
       "    .dataframe tbody tr th:only-of-type {\n",
       "        vertical-align: middle;\n",
       "    }\n",
       "\n",
       "    .dataframe tbody tr th {\n",
       "        vertical-align: top;\n",
       "    }\n",
       "\n",
       "    .dataframe thead th {\n",
       "        text-align: right;\n",
       "    }\n",
       "</style>\n",
       "<table border=\"1\" class=\"dataframe\">\n",
       "  <thead>\n",
       "    <tr style=\"text-align: right;\">\n",
       "      <th></th>\n",
       "      <th>N_TOPICS</th>\n",
       "      <th>PERPLEXITY_SCORE</th>\n",
       "    </tr>\n",
       "  </thead>\n",
       "  <tbody>\n",
       "    <tr>\n",
       "      <th>12</th>\n",
       "      <td>22</td>\n",
       "      <td>9743.965507</td>\n",
       "    </tr>\n",
       "    <tr>\n",
       "      <th>0</th>\n",
       "      <td>10</td>\n",
       "      <td>9767.111839</td>\n",
       "    </tr>\n",
       "    <tr>\n",
       "      <th>17</th>\n",
       "      <td>27</td>\n",
       "      <td>9817.241300</td>\n",
       "    </tr>\n",
       "    <tr>\n",
       "      <th>1</th>\n",
       "      <td>11</td>\n",
       "      <td>9854.947514</td>\n",
       "    </tr>\n",
       "    <tr>\n",
       "      <th>7</th>\n",
       "      <td>17</td>\n",
       "      <td>9901.255709</td>\n",
       "    </tr>\n",
       "    <tr>\n",
       "      <th>18</th>\n",
       "      <td>28</td>\n",
       "      <td>9960.354987</td>\n",
       "    </tr>\n",
       "    <tr>\n",
       "      <th>5</th>\n",
       "      <td>15</td>\n",
       "      <td>9980.877440</td>\n",
       "    </tr>\n",
       "    <tr>\n",
       "      <th>13</th>\n",
       "      <td>23</td>\n",
       "      <td>9992.182970</td>\n",
       "    </tr>\n",
       "    <tr>\n",
       "      <th>8</th>\n",
       "      <td>18</td>\n",
       "      <td>10016.706893</td>\n",
       "    </tr>\n",
       "    <tr>\n",
       "      <th>14</th>\n",
       "      <td>24</td>\n",
       "      <td>10072.478196</td>\n",
       "    </tr>\n",
       "    <tr>\n",
       "      <th>11</th>\n",
       "      <td>21</td>\n",
       "      <td>10088.561813</td>\n",
       "    </tr>\n",
       "    <tr>\n",
       "      <th>3</th>\n",
       "      <td>13</td>\n",
       "      <td>10096.603287</td>\n",
       "    </tr>\n",
       "    <tr>\n",
       "      <th>10</th>\n",
       "      <td>20</td>\n",
       "      <td>10097.970560</td>\n",
       "    </tr>\n",
       "    <tr>\n",
       "      <th>6</th>\n",
       "      <td>16</td>\n",
       "      <td>10103.504066</td>\n",
       "    </tr>\n",
       "    <tr>\n",
       "      <th>2</th>\n",
       "      <td>12</td>\n",
       "      <td>10141.311590</td>\n",
       "    </tr>\n",
       "  </tbody>\n",
       "</table>\n",
       "</div>"
      ],
      "text/plain": [
       "    N_TOPICS  PERPLEXITY_SCORE\n",
       "12        22       9743.965507\n",
       "0         10       9767.111839\n",
       "17        27       9817.241300\n",
       "1         11       9854.947514\n",
       "7         17       9901.255709\n",
       "18        28       9960.354987\n",
       "5         15       9980.877440\n",
       "13        23       9992.182970\n",
       "8         18      10016.706893\n",
       "14        24      10072.478196\n",
       "11        21      10088.561813\n",
       "3         13      10096.603287\n",
       "10        20      10097.970560\n",
       "6         16      10103.504066\n",
       "2         12      10141.311590"
      ]
     },
     "execution_count": 26,
     "metadata": {},
     "output_type": "execute_result"
    }
   ],
   "source": [
    "perplexity_scores.head(15)"
   ]
  },
  {
   "cell_type": "markdown",
   "id": "9b86dfb0",
   "metadata": {},
   "source": [
    "In this instance, it looks like 22 topics is the best, though the difference between the perplexity scores for that \n",
    "model and the next best-scoring model, our 10-topic model, is relatively small. Given this, if you find that a \n",
    "10-topic model is more interpretable, you may choose to make a compromise on perplexity and go with that instead."
   ]
  },
  {
   "cell_type": "code",
   "execution_count": 27,
   "id": "e44e273c",
   "metadata": {},
   "outputs": [
    {
     "name": "stdout",
     "output_type": "stream",
     "text": [
      "Topic #0: \n",
      "+ book (0.0318%), story (0.0279%), time (0.0214%), new (0.0184%), novel (0.0166%)\n",
      "Topic #1: \n",
      "+ love (0.0391%), woman (0.0364%), life (0.0232%), mother (0.0203%), family (0.0184%)\n",
      "Topic #2: \n",
      "+ life (0.0400%), world (0.0225%), great (0.0157%), year (0.0137%), story (0.0134%)\n",
      "Topic #3: \n",
      "+ just (0.0201%), like (0.0149%), make (0.0126%), want (0.0124%), know (0.0122%)\n",
      "Topic #4: \n",
      "+ book (0.0269%), child (0.0241%), school (0.0190%), young (0.0186%), kid (0.0169%)\n",
      "Topic #5: \n",
      "+ war (0.0349%), world (0.0182%), battle (0.0152%), fight (0.0131%), force (0.0105%)\n",
      "Topic #6: \n",
      "+ new (0.0383%), york (0.0232%), art (0.0163%), music (0.0135%), street (0.0100%)\n",
      "Topic #7: \n",
      "+ god (0.0361%), spiritual (0.0212%), book (0.0164%), religious (0.0112%), religion (0.0100%)\n",
      "Topic #8: \n",
      "+ home (0.0218%), house (0.0215%), cat (0.0159%), horse (0.0148%), dog (0.0120%)\n",
      "Topic #9: \n",
      "+ adventure (0.0244%), story (0.0237%), tale (0.0155%), book (0.0153%), feature (0.0129%)\n",
      "Topic #10: \n",
      "+ work (0.0272%), classic (0.0211%), year (0.0168%), penguin (0.0154%), literature (0.0133%)\n",
      "Topic #11: \n",
      "+ book (0.0268%), include (0.0163%), help (0.0130%), new (0.0126%), provide (0.0113%)\n",
      "Topic #12: \n",
      "+ food (0.0269%), recipe (0.0257%), family (0.0111%), cook (0.0105%), italian (0.0102%)\n",
      "Topic #13: \n",
      "+ city (0.0249%), london (0.0151%), empire (0.0107%), elizabeth (0.0099%), king (0.0096%)\n",
      "Topic #14: \n",
      "+ new (0.0304%), author (0.0245%), time (0.0231%), bestselling (0.0221%), york (0.0197%)\n",
      "Topic #15: \n",
      "+ travel (0.0194%), sea (0.0168%), new (0.0130%), top (0.0121%), map (0.0119%)\n",
      "Topic #16: \n",
      "+ use (0.0326%), step (0.0179%), simple (0.0150%), book (0.0138%), create (0.0131%)\n",
      "Topic #17: \n",
      "+ team (0.0175%), baseball (0.0170%), sport (0.0164%), hockey (0.0117%), player (0.0111%)\n",
      "Topic #18: \n",
      "+ family (0.0138%), new (0.0136%), secret (0.0135%), know (0.0124%), old (0.0124%)\n",
      "Topic #19: \n",
      "+ magic (0.0159%), king (0.0141%), return (0.0138%), kingdom (0.0116%), power (0.0105%)\n",
      "Topic #20: \n",
      "+ american (0.0246%), history (0.0203%), political (0.0167%), america (0.0158%), state (0.0132%)\n",
      "Topic #21: \n",
      "+ business (0.0122%), problem (0.0105%), success (0.0101%), health (0.0099%), people (0.0097%)\n"
     ]
    }
   ],
   "source": [
    "print_topic_words(best_p)"
   ]
  },
  {
   "cell_type": "markdown",
   "id": "60b01c17",
   "metadata": {},
   "source": [
    "### Coherence\n",
    "\n",
    "If you're having trouble mapping perplexity scores onto interpretable results, you might use a **coherence score** \n",
    "instead. Coherence scores measure the degree of semantic similarity among the words in a topic. Some people prefer \n",
    "to use coherence scoring in place of perplexity because these scores help distinguish the difference between topics \n",
    "that fit snugly on consistent word co-occurence and those that are artifacts of statistical inference.\n",
    "\n",
    "There are a few ways to calculate coherence scores. We'll use `c_v` coherence, which uses the two kinds of text \n",
    "similarity we've already seen in the workshop: pointwise mutual information (PMI) and cosine similarity. This \n",
    "method takes the co-occurence counts of top words in a given topic and calculates a PMI score for each word. Then, \n",
    "it looks to every other topic in the model and calculates a PMI score for the present topic's words and those in \n",
    "the other topics. This results in a series of vectors, which are then measured with cosine similarity.\n",
    "\n",
    "That's a mouthful, but `tomotopy` makes implementing it a breeze. Let's look at the score for the best model above."
   ]
  },
  {
   "cell_type": "code",
   "execution_count": 28,
   "id": "30a5ea5b",
   "metadata": {},
   "outputs": [
    {
     "name": "stdout",
     "output_type": "stream",
     "text": [
      "Coherence score: 0.6051\n"
     ]
    }
   ],
   "source": [
    "from tomotopy.coherence import Coherence\n",
    "\n",
    "coherence = Coherence(best_p, coherence = 'c_v')\n",
    "print(f\"Coherence score: {coherence.get_score():.4f}\")"
   ]
  },
  {
   "cell_type": "markdown",
   "id": "72ecf8d6",
   "metadata": {},
   "source": [
    "Like with perplexity, we can construct a `for` loop and look for the best score among a set of different topic \n",
    "sizes. Here, we're looking for the highest score, which will be a number between 0 and 1."
   ]
  },
  {
   "cell_type": "code",
   "execution_count": 29,
   "id": "f5fa4b34",
   "metadata": {},
   "outputs": [],
   "source": [
    "n_topic_range = range(10, 31)\n",
    "\n",
    "coherence_scores = []\n",
    "for k in n_topic_range:\n",
    "    _model = tp.LDAModel(k = k, corpus = corpus, seed = 357)\n",
    "    _model.train(iter = 500)\n",
    "    coherence = Coherence(_model, coherence = 'c_v')\n",
    "    coherence_scores.append({'N_TOPICS': k, 'COHERENCE_SCORE': coherence.get_score()})"
   ]
  },
  {
   "cell_type": "markdown",
   "id": "6a7f2c7a",
   "metadata": {},
   "source": [
    "Let's format the scores, find the best one, and train a model on that."
   ]
  },
  {
   "cell_type": "code",
   "execution_count": 30,
   "id": "2bb8acb7",
   "metadata": {},
   "outputs": [],
   "source": [
    "coherence_scores = pd.DataFrame(coherence_scores)\n",
    "coherence_scores = coherence_scores.sort_values('COHERENCE_SCORE', ascending = False)\n",
    "\n",
    "best_n_topic = coherence_scores.nlargest(1, 'COHERENCE_SCORE')['N_TOPICS'].item()\n",
    "best_c = tp.LDAModel(k = best_n_topic, corpus = corpus, seed = 357)\n",
    "best_c.train(iter = 500)"
   ]
  },
  {
   "cell_type": "code",
   "execution_count": 31,
   "id": "4dd40915",
   "metadata": {},
   "outputs": [
    {
     "data": {
      "text/html": [
       "<div>\n",
       "<style scoped>\n",
       "    .dataframe tbody tr th:only-of-type {\n",
       "        vertical-align: middle;\n",
       "    }\n",
       "\n",
       "    .dataframe tbody tr th {\n",
       "        vertical-align: top;\n",
       "    }\n",
       "\n",
       "    .dataframe thead th {\n",
       "        text-align: right;\n",
       "    }\n",
       "</style>\n",
       "<table border=\"1\" class=\"dataframe\">\n",
       "  <thead>\n",
       "    <tr style=\"text-align: right;\">\n",
       "      <th></th>\n",
       "      <th>N_TOPICS</th>\n",
       "      <th>COHERENCE_SCORE</th>\n",
       "    </tr>\n",
       "  </thead>\n",
       "  <tbody>\n",
       "    <tr>\n",
       "      <th>19</th>\n",
       "      <td>29</td>\n",
       "      <td>0.655928</td>\n",
       "    </tr>\n",
       "    <tr>\n",
       "      <th>18</th>\n",
       "      <td>28</td>\n",
       "      <td>0.654988</td>\n",
       "    </tr>\n",
       "    <tr>\n",
       "      <th>17</th>\n",
       "      <td>27</td>\n",
       "      <td>0.648859</td>\n",
       "    </tr>\n",
       "    <tr>\n",
       "      <th>20</th>\n",
       "      <td>30</td>\n",
       "      <td>0.645488</td>\n",
       "    </tr>\n",
       "    <tr>\n",
       "      <th>13</th>\n",
       "      <td>23</td>\n",
       "      <td>0.624086</td>\n",
       "    </tr>\n",
       "    <tr>\n",
       "      <th>15</th>\n",
       "      <td>25</td>\n",
       "      <td>0.615611</td>\n",
       "    </tr>\n",
       "    <tr>\n",
       "      <th>16</th>\n",
       "      <td>26</td>\n",
       "      <td>0.608920</td>\n",
       "    </tr>\n",
       "    <tr>\n",
       "      <th>12</th>\n",
       "      <td>22</td>\n",
       "      <td>0.605131</td>\n",
       "    </tr>\n",
       "    <tr>\n",
       "      <th>11</th>\n",
       "      <td>21</td>\n",
       "      <td>0.599103</td>\n",
       "    </tr>\n",
       "    <tr>\n",
       "      <th>14</th>\n",
       "      <td>24</td>\n",
       "      <td>0.595933</td>\n",
       "    </tr>\n",
       "    <tr>\n",
       "      <th>8</th>\n",
       "      <td>18</td>\n",
       "      <td>0.579910</td>\n",
       "    </tr>\n",
       "    <tr>\n",
       "      <th>10</th>\n",
       "      <td>20</td>\n",
       "      <td>0.578593</td>\n",
       "    </tr>\n",
       "    <tr>\n",
       "      <th>5</th>\n",
       "      <td>15</td>\n",
       "      <td>0.570283</td>\n",
       "    </tr>\n",
       "    <tr>\n",
       "      <th>7</th>\n",
       "      <td>17</td>\n",
       "      <td>0.558606</td>\n",
       "    </tr>\n",
       "    <tr>\n",
       "      <th>9</th>\n",
       "      <td>19</td>\n",
       "      <td>0.558422</td>\n",
       "    </tr>\n",
       "  </tbody>\n",
       "</table>\n",
       "</div>"
      ],
      "text/plain": [
       "    N_TOPICS  COHERENCE_SCORE\n",
       "19        29         0.655928\n",
       "18        28         0.654988\n",
       "17        27         0.648859\n",
       "20        30         0.645488\n",
       "13        23         0.624086\n",
       "15        25         0.615611\n",
       "16        26         0.608920\n",
       "12        22         0.605131\n",
       "11        21         0.599103\n",
       "14        24         0.595933\n",
       "8         18         0.579910\n",
       "10        20         0.578593\n",
       "5         15         0.570283\n",
       "7         17         0.558606\n",
       "9         19         0.558422"
      ]
     },
     "execution_count": 31,
     "metadata": {},
     "output_type": "execute_result"
    }
   ],
   "source": [
    "coherence_scores.head(15)"
   ]
  },
  {
   "cell_type": "markdown",
   "id": "71b6eaef",
   "metadata": {},
   "source": [
    "Looks like a 29-topic model wins out! Here are the top words for each topic:"
   ]
  },
  {
   "cell_type": "code",
   "execution_count": 32,
   "id": "f679149d",
   "metadata": {},
   "outputs": [
    {
     "name": "stdout",
     "output_type": "stream",
     "text": [
      "Topic #0: \n",
      "+ city (0.0212%), london (0.0172%), old (0.0162%), brother (0.0158%), miss (0.0142%)\n",
      "Topic #1: \n",
      "+ win (0.0262%), award (0.0259%), story (0.0239%), novel (0.0202%), short (0.0165%)\n",
      "Topic #2: \n",
      "+ family (0.0300%), life (0.0283%), mother (0.0237%), father (0.0236%), love (0.0219%)\n",
      "Topic #3: \n",
      "+ world (0.0245%), story (0.0219%), life (0.0166%), year (0.0150%), great (0.0134%)\n",
      "Topic #4: \n",
      "+ work (0.0291%), classic (0.0234%), literature (0.0190%), penguin (0.0180%), introduction (0.0176%)\n",
      "Topic #5: \n",
      "+ new (0.0583%), time (0.0292%), school (0.0236%), help (0.0194%), series (0.0178%)\n",
      "Topic #6: \n",
      "+ magic (0.0227%), poem (0.0191%), dragon (0.0151%), power (0.0131%), sword (0.0131%)\n",
      "Topic #7: \n",
      "+ use (0.0158%), learn (0.0150%), help (0.0138%), think (0.0117%), business (0.0108%)\n",
      "Topic #8: \n",
      "+ town (0.0238%), mystery (0.0235%), murder (0.0156%), small (0.0136%), detective (0.0113%)\n",
      "Topic #9: \n",
      "+ music (0.0322%), song (0.0185%), band (0.0127%), jones (0.0111%), buddhist (0.0105%)\n",
      "Topic #10: \n",
      "+ cole (0.0208%), van (0.0115%), say (0.0108%), freud (0.0100%), lacey (0.0093%)\n",
      "Topic #11: \n",
      "+ drink (0.0183%), city (0.0178%), camp (0.0126%), hockey (0.0126%), country (0.0126%)\n",
      "Topic #12: \n",
      "+ god (0.0520%), word (0.0165%), religious (0.0156%), japanese (0.0148%), jesus (0.0131%)\n",
      "Topic #13: \n",
      "+ guide (0.0318%), use (0.0227%), new (0.0186%), include (0.0138%), step (0.0138%)\n",
      "Topic #14: \n",
      "+ child (0.0267%), read (0.0239%), animal (0.0222%), reader (0.0207%), book (0.0177%)\n",
      "Topic #15: \n",
      "+ history (0.0258%), century (0.0200%), american (0.0194%), political (0.0158%), state (0.0117%)\n",
      "Topic #16: \n",
      "+ health (0.0196%), body (0.0136%), weight (0.0128%), plan (0.0113%), eat (0.0113%)\n",
      "Topic #17: \n",
      "+ like (0.0181%), just (0.0179%), make (0.0149%), know (0.0138%), want (0.0137%)\n",
      "Topic #18: \n",
      "+ book (0.0437%), adventure (0.0191%), series (0.0187%), feature (0.0177%), little (0.0153%)\n",
      "Topic #19: \n",
      "+ power (0.0149%), country (0.0130%), america (0.0122%), financial (0.0109%), american (0.0106%)\n",
      "Topic #20: \n",
      "+ war (0.0384%), battle (0.0157%), world (0.0144%), force (0.0138%), fight (0.0127%)\n",
      "Topic #21: \n",
      "+ recipe (0.0334%), food (0.0281%), family (0.0148%), italian (0.0144%), cook (0.0144%)\n",
      "Topic #22: \n",
      "+ human (0.0325%), science (0.0198%), planet (0.0178%), time (0.0170%), universe (0.0147%)\n",
      "Topic #23: \n",
      "+ life (0.0303%), book (0.0242%), world (0.0147%), experience (0.0116%), practice (0.0101%)\n",
      "Topic #24: \n",
      "+ time (0.0401%), book (0.0370%), new (0.0347%), york (0.0255%), write (0.0181%)\n",
      "Topic #25: \n",
      "+ sea (0.0290%), ship (0.0259%), king (0.0208%), captain (0.0112%), high (0.0097%)\n",
      "Topic #26: \n",
      "+ woman (0.0415%), love (0.0309%), life (0.0240%), heart (0.0197%), novel (0.0145%)\n",
      "Topic #27: \n",
      "+ art (0.0404%), artist (0.0272%), work (0.0182%), include (0.0123%), writer (0.0109%)\n",
      "Topic #28: \n",
      "+ dark (0.0137%), kill (0.0132%), dead (0.0128%), murder (0.0118%), killer (0.0106%)\n"
     ]
    }
   ],
   "source": [
    "print_topic_words(best_c)"
   ]
  },
  {
   "cell_type": "markdown",
   "id": "f310c2c5",
   "metadata": {},
   "source": [
    "And here's a distribution plot of the topic proportions. We'll wrap this code in a function for later comparison \n",
    "work.\n",
    "\n",
    "```{margin} What this function does\n",
    "For each topic in the model:\n",
    "1. Get the top five words\n",
    "2. Use string formatting in concert with `join()` to label and stringify those words\n",
    "3. Append the formatted string to an empty list, which we can use as an index in a `pandas` series\n",
    "4. Plot the resultant series\n",
    "```"
   ]
  },
  {
   "cell_type": "code",
   "execution_count": 33,
   "id": "4832d8f1",
   "metadata": {},
   "outputs": [
    {
     "data": {
      "image/png": "[encoded data removed]",
      "text/plain": [
       "<Figure size 1080x1080 with 1 Axes>"
      ]
     },
     "metadata": {
      "needs_background": "light"
     },
     "output_type": "display_data"
    }
   ],
   "source": [
    "def plot_topic_proportions(tm, model_name = '', top_n = 5):\n",
    "    topic_proportions = tm.get_count_by_topics() / tm.num_words\n",
    "    top_words = []\n",
    "    for topic in range(tm.k):\n",
    "        words = tm.get_topic_words(topic, top_n = top_n)\n",
    "        words = f\"Topic #{topic}: \" + ', '.join([w[0] for w in words])\n",
    "        top_words.append(words)\n",
    "        \n",
    "    to_plot = pd.Series(topic_proportions, index = top_words)\n",
    "    to_plot = to_plot.sort_values()\n",
    "    to_plot.plot.barh(figsize = (15,15),\n",
    "                      title = f\"Topic Proportions for {model_name}\",\n",
    "                      xlabel = \"Topic\"\n",
    "                     );\n",
    "    \n",
    "plot_topic_proportions(best_c, model_name = 'Best Coherence Model')"
   ]
  },
  {
   "cell_type": "markdown",
   "id": "1bc9479d",
   "metadata": {},
   "source": [
    "Fine Tuning: Advanced\n",
    "---------------------------\n",
    "\n",
    "### Hyperparameters: alpha and eta \n",
    "\n",
    "Clearly, there is much to consider with respect to the number of topics alone. But this number is not the only \n",
    "value we can set when initializing a model. LDA modeling has two key **hyperparameters**, which we can configure to \n",
    "more specifically control the nature of the topics a training run produces:\n",
    "\n",
    "```{margin} Want more details?\n",
    "This Stack Exchange [answer] is a remarkably succinct summary of these two hyperparameters.\n",
    "\n",
    "[answer]: https://datascience.stackexchange.com/a/202\n",
    "```\n",
    "\n",
    "+ **Alpha**: represents document-topic density; the higher the alpha, the more evenly distributed, or \"symmetric,\" \n",
    "  topic proportions are in a particular document; a lower alpha means topic proportions are more \"asymmetric\" (that \n",
    "  is, a document will have fewer predominating topics, rather than several)\n",
    "+ **Eta**: represents word-topic density; the higher the eta, the more word probabilities will be distributed \n",
    "  evenly across a topic (specifically, this boosts the presence of low-probability words); a lower eta means word \n",
    "  distributions are more uneven, so each topic will have less dominant words\n",
    "  \n",
    "Essentially, these two hyperparameters variously control specificity in our model: one for the way our model \n",
    "handles document specificity and one for the way it handles topic specificity.\n",
    "\n",
    "```{admonition} On terminology\n",
    "Different LDA implementations have different names for these hyperparameters. Eta, for example, is also referred to \n",
    "as \"beta.\" When reading the documentation for an implementation, look for whatever term stands for the \"document \n",
    "prior\" (alpha) and the \"word prior\" (eta).\n",
    "```"
   ]
  },
  {
   "cell_type": "markdown",
   "id": "15fd49d0",
   "metadata": {},
   "source": [
    "`tomotopy` has actually been setting values for alpha and eta all along. If we initialize a new model, we can \n",
    "inspect their default values."
   ]
  },
  {
   "cell_type": "code",
   "execution_count": 34,
   "id": "d801b327",
   "metadata": {
    "scrolled": false
   },
   "outputs": [
    {
     "name": "stdout",
     "output_type": "stream",
     "text": [
      "Alpha value: 0.10 \n",
      "Eta value: 0.01\n"
     ]
    }
   ],
   "source": [
    "model = tp.LDAModel(k = 29, corpus = corpus, seed = 357)\n",
    "\n",
    "print(\n",
    "    f\"Alpha value: {model.alpha[0]:.2f}\",\n",
    "    f\"\\nEta value: {model.eta:.2f}\"\n",
    ")"
   ]
  },
  {
   "cell_type": "markdown",
   "id": "70bf37a1",
   "metadata": {},
   "source": [
    "And we can declare specific values for each using arguments in `LDAModel()`. Let's show an example. Below, we boost \n",
    "the alpha and lessen the eta. With a high alpha, we expect to create a more even distribution in topics among the \n",
    "documents, which will in turn mean each topic has more words associated with it; with a low eta, the probabilities \n",
    "for the top words within these topics should be higher."
   ]
  },
  {
   "cell_type": "code",
   "execution_count": 35,
   "id": "367da660",
   "metadata": {},
   "outputs": [],
   "source": [
    "ae_adjusted = tp.LDAModel(k = 29, alpha = 1, eta = 0.001, corpus = corpus, seed = 357)\n",
    "ae_adjusted.train(iter = 500)"
   ]
  },
  {
   "cell_type": "markdown",
   "id": "3b04e369",
   "metadata": {},
   "source": [
    "Let's compare with the best coherence score model from above.\n",
    "\n",
    "```{margin} What this loop does\n",
    "For each model in our model dictionary:\n",
    "1. Iterate through all the topics\n",
    "2. Get the top five words for each topic\n",
    "3. Use list comprehension to get the associated probability scores for those words\n",
    "4. Print the median word count for the topics\n",
    "5. Print the mean probability scores for the top words in the topic\n",
    "```"
   ]
  },
  {
   "cell_type": "code",
   "execution_count": 36,
   "id": "f9981930",
   "metadata": {},
   "outputs": [
    {
     "name": "stdout",
     "output_type": "stream",
     "text": [
      "For the best coherence model: \n",
      "+ Median number of words per topic: 3568 \n",
      "+ Mean probability for the top five words per topic: 0.0194% \n",
      "\n",
      "For the high alpha/low eta model: \n",
      "+ Median number of words per topic: 4559 \n",
      "+ Mean probability for the top five words per topic: 0.0286% \n",
      "\n"
     ]
    }
   ],
   "source": [
    "model_dict = {'best coherence': best_c, 'high alpha/low eta': ae_adjusted}\n",
    "\n",
    "for name, tm in model_dict.items():\n",
    "    probability_scores = []\n",
    "    for topic in range(tm.k):\n",
    "        words = tm.get_topic_words(topic, top_n = 5)\n",
    "        scores = [w[1] for w in words]\n",
    "        probability_scores.append(scores)\n",
    "        \n",
    "    print(\n",
    "        f\"For the {name} model:\",\n",
    "        f\"\\n+ Median number of words per topic:\",\n",
    "        f\"{np.median(tm.get_count_by_topics()):.0f}\",\n",
    "        f\"\\n+ Mean probability for the top five words per topic:\",\n",
    "        f\"{np.mean(probability_scores):0.4f}%\",\n",
    "        \"\\n\"\n",
    "    )"
   ]
  },
  {
   "cell_type": "markdown",
   "id": "15d8d22c",
   "metadata": {},
   "source": [
    "### Deciding on hyperparameter values\n",
    "\n",
    "As with setting our number of topics, we could spend hours going back and forth between different alpha and eta \n",
    "values to determine which combination of hyperparameters is best. In the literature about LDA modeling, researchers \n",
    "have suggested various ways of setting these values programmatically. For example, the authors of [this paper] \n",
    "suggest that the ideal alpha and eta values are $\\frac{50}{k}$ and 0.1, respectively (where $k$ is the number of \n",
    "topics). Alternatively, in blogs and forums like Stack Exchange, you'll often see people advocate for an approach \n",
    "called **grid searching**. This involves selecting a range of different values for the hyperparameters, permuting \n",
    "them, and building as many different models as it takes to go through all possible permutations.\n",
    "\n",
    "Both of these approaches are reasonably valid, but they don't emphasize an important point about what our \n",
    "hyperparameters represent. Remember from above that both of them refer to _priors_, that is, to certain kinds of \n",
    "knowledge we have about our data before we even model it. In our case, we're working with a bunch of book blurbs. \n",
    "The generic conventions of blurbs are fairly constrained, so it probably doesn't make sense to raise our alpha \n",
    "values – in a sense we're already working with a \"high alpha\" corpus. The same might be said of a corpus of tweets \n",
    "collected around a highly specific set of keywords: in this instance, your data collection is doing the work of \n",
    "hyperparameter optimization. Put another way, _setting hyperparameters depends on your data and your research \n",
    "question(s)_. It's as valid to ask, \"is this an interpretable model?\", or, \"does this match with what I know about \n",
    "my data?\", as it is to employ perplexity scores to define a good alpha or eta.\n",
    "\n",
    "Here's one example of what happens if you only fine tune with mathematical optimization in mind. In the model \n",
    "below, the hyperparameters are set to produce a low perplexity score with 29 topics. As it happens, this model also \n",
    "has a very high coherence score.\n",
    "\n",
    "[this paper]: https://www.pnas.org/content/101/suppl_1/5228"
   ]
  },
  {
   "cell_type": "code",
   "execution_count": 37,
   "id": "37ab65fa",
   "metadata": {},
   "outputs": [
    {
     "name": "stdout",
     "output_type": "stream",
     "text": [
      "Perplexity score: 6750.9571 \n",
      "Coherence score: 0.9083\n"
     ]
    }
   ],
   "source": [
    "hyperoptimized_model = tp.LDAModel(k = 29, alpha = 5, eta = 2, corpus = corpus, seed = 357)\n",
    "hyperoptimized_model.train(iter = 500)\n",
    "\n",
    "coherence = Coherence(hyperoptimized_model, coherence = 'c_v')\n",
    "\n",
    "print(\n",
    "    f\"Perplexity score: {hyperoptimized_model.perplexity:0.4f}\",\n",
    "    f\"\\nCoherence score: {coherence.get_score():0.4f}\"\n",
    ")"
   ]
  },
  {
   "cell_type": "markdown",
   "id": "3c1b10f0",
   "metadata": {},
   "source": [
    "Those are good looking scores, but look at the topics it produces:"
   ]
  },
  {
   "cell_type": "code",
   "execution_count": 38,
   "id": "47cfc0b5",
   "metadata": {},
   "outputs": [
    {
     "name": "stdout",
     "output_type": "stream",
     "text": [
      "Topic #0: \n",
      "+ irrigators (0.0001%), halitosis (0.0001%), imitative (0.0001%), ranknational (0.0001%), dishonor (0.0001%)\n",
      "Topic #1: \n",
      "+ sax (0.0001%), sportsreality (0.0001%), boogeymani (0.0001%), entrepreneurship (0.0001%), mathers (0.0001%)\n",
      "Topic #2: \n",
      "+ succulent (0.0001%), toast (0.0001%), life (0.0001%), reunió (0.0001%), sueño (0.0001%)\n",
      "Topic #3: \n",
      "+ new (0.0001%), book (0.0001%), life (0.0001%), time (0.0001%), world (0.0001%)\n",
      "Topic #4: \n",
      "+ new (0.0056%), book (0.0053%), life (0.0050%), time (0.0039%), world (0.0037%)\n",
      "Topic #5: \n",
      "+ languish (0.0001%), hypoglycemia (0.0001%), traced (0.0001%), romagna (0.0001%), heavenly (0.0001%)\n",
      "Topic #6: \n",
      "+ palasts (0.0001%), puzzler (0.0001%), supersede (0.0001%), indicates (0.0001%), backbone (0.0001%)\n",
      "Topic #7: \n",
      "+ slaveholder (0.0001%), kazuhiko (0.0001%), bunniculalooks (0.0001%), calliope (0.0001%), tehranthe (0.0001%)\n",
      "Topic #8: \n",
      "+ burr (0.0001%), albino (0.0001%), annointed (0.0001%), conceivable (0.0001%), yates (0.0001%)\n",
      "Topic #9: \n",
      "+ writermark (0.0001%), writes (0.0001%), ancestor (0.0001%), license (0.0001%), world (0.0001%)\n",
      "Topic #10: \n",
      "+ cavalry (0.0001%), book (0.0001%), life (0.0001%), time (0.0001%), world (0.0001%)\n",
      "Topic #11: \n",
      "+ meacham (0.0001%), mccues (0.0001%), antinomian (0.0001%), houseask (0.0001%), onand (0.0001%)\n",
      "Topic #12: \n",
      "+ zulmira (0.0001%), cagliostros (0.0001%), gawkward (0.0001%), violate (0.0001%), packard (0.0001%)\n",
      "Topic #13: \n",
      "+ friendinto (0.0001%), stupidity (0.0001%), foolishness (0.0001%), baldwin (0.0001%), errand (0.0001%)\n",
      "Topic #14: \n",
      "+ heisler (0.0001%), baritone (0.0001%), tenor (0.0001%), trombone (0.0001%), baileymike (0.0001%)\n",
      "Topic #15: \n",
      "+ nevadas (0.0001%), divisadero (0.0001%), carmelite (0.0001%), seriously (0.0001%), philosophical (0.0001%)\n",
      "Topic #16: \n",
      "+ blutchs (0.0001%), nunezs (0.0001%), newfangled (0.0001%), fantasía (0.0001%), pandemic (0.0001%)\n",
      "Topic #17: \n",
      "+ pero (0.0001%), copenhagen (0.0001%), rabble (0.0001%), plumbing (0.0001%), jess (0.0001%)\n",
      "Topic #18: \n",
      "+ travels (0.0001%), altman (0.0001%), palate (0.0001%), maxwell (0.0001%), sophisticate (0.0001%)\n",
      "Topic #19: \n",
      "+ elendel (0.0001%), mistborn (0.0001%), más (0.0001%), cuenca (0.0001%), del (0.0001%)\n",
      "Topic #20: \n",
      "+ denial (0.0001%), aquitaine (0.0001%), sorel (0.0001%), breaks (0.0001%), nightmarish (0.0001%)\n",
      "Topic #21: \n",
      "+ new (0.0001%), book (0.0001%), life (0.0001%), time (0.0001%), world (0.0001%)\n",
      "Topic #22: \n",
      "+ florentine (0.0001%), althussers (0.0001%), lrrp (0.0001%), justamente (0.0001%), ganado (0.0001%)\n",
      "Topic #23: \n",
      "+ moose (0.0001%), outnumber (0.0001%), occupy (0.0001%), ragtag (0.0001%), helicopter (0.0001%)\n",
      "Topic #24: \n",
      "+ covent (0.0001%), pushy (0.0001%), applied (0.0001%), ballad (0.0001%), bungalow (0.0001%)\n",
      "Topic #25: \n",
      "+ new (0.0001%), book (0.0001%), life (0.0001%), time (0.0001%), world (0.0001%)\n",
      "Topic #26: \n",
      "+ disclose (0.0001%), swoon (0.0001%), alleviation (0.0001%), thespray (0.0001%), misgiving (0.0001%)\n",
      "Topic #27: \n",
      "+ new (0.0001%), book (0.0001%), life (0.0001%), time (0.0001%), world (0.0001%)\n",
      "Topic #28: \n",
      "+ installationsand (0.0001%), librarians (0.0001%), overthinking (0.0001%), eli (0.0001%), spill (0.0001%)\n"
     ]
    }
   ],
   "source": [
    "print_topic_words(hyperoptimized_model)"
   ]
  },
  {
   "cell_type": "code",
   "execution_count": 39,
   "id": "41871604",
   "metadata": {},
   "outputs": [
    {
     "data": {
      "image/png": "[encoded data removed]",
      "text/plain": [
       "<Figure size 1080x1080 with 1 Axes>"
      ]
     },
     "metadata": {
      "needs_background": "light"
     },
     "output_type": "display_data"
    }
   ],
   "source": [
    "plot_topic_proportions(hyperoptimized_model, model_name = 'Hyperoptimized Model')"
   ]
  },
  {
   "cell_type": "markdown",
   "id": "3fddcbc9",
   "metadata": {},
   "source": [
    "Pretty rotten! One topic all but completely dominates the topic distribution and the others are, well, strange. \n",
    "They seem to be registering highly specific words within certain blurbs, almost at random.\n",
    "\n",
    "The challenge of setting your hyperparameters, then, is that it's a balancing act. In light of the above output, \n",
    "for example, you might decide to favor interpretability above everything else. But doing so can lead you to \n",
    "overfitting your model. A model built on the principle of interpretability alone might only ever show you what you \n",
    "expect to find. Hence the balancing act: the whole process of fine tuning involves incorporating a number of \n",
    "different considerations (and compromises!) that, at the end of the day, should always work in the service of your \n",
    "research question – that is, the very reason you want to build a model in the first place!\n",
    "\n",
    "To return to the question of our own corpus, we won't change much in our hyperparameters. Again, blurbs are a \n",
    "fairly constrained genre, so what we'll do is slightly roll off the alpha value. This will help emphasize specific \n",
    "document-topic connections, which may help us understand some of the different document types in the corpus. We'll \n",
    "stick with the 29 topic model, as it strikes a good balance between perplexity/coherence scoring and general spread \n",
    "among the topics themselves. As for eta, we'll leave it alone."
   ]
  },
  {
   "cell_type": "code",
   "execution_count": 40,
   "id": "4a5bbe00",
   "metadata": {},
   "outputs": [
    {
     "name": "stdout",
     "output_type": "stream",
     "text": [
      "Perplexity score: 9867.0200 \n",
      "Coherence score: 0.6443\n"
     ]
    }
   ],
   "source": [
    "tuned = tp.LDAModel(k = 29, alpha = 0.08, eta = 0.01, corpus = corpus, seed = 357)\n",
    "tuned.train(iter = 500)\n",
    "\n",
    "coherence_model = Coherence(tuned, coherence = 'c_v')\n",
    "\n",
    "print(\n",
    "    f\"Perplexity score: {tuned.perplexity:0.4f}\",\n",
    "    f\"\\nCoherence score: {coherence_model.get_score():0.4f}\"\n",
    ")"
   ]
  },
  {
   "cell_type": "code",
   "execution_count": 41,
   "id": "18607603",
   "metadata": {
    "scrolled": false
   },
   "outputs": [
    {
     "name": "stdout",
     "output_type": "stream",
     "text": [
      "Topic #0: \n",
      "+ home (0.0305%), cat (0.0217%), friend (0.0179%), dog (0.0156%), city (0.0137%)\n",
      "Topic #1: \n",
      "+ new (0.0397%), time (0.0337%), book (0.0335%), york (0.0307%), award (0.0179%)\n",
      "Topic #2: \n",
      "+ woman (0.0549%), life (0.0210%), relationship (0.0191%), mother (0.0171%), husband (0.0171%)\n",
      "Topic #3: \n",
      "+ new (0.0268%), just (0.0194%), time (0.0182%), make (0.0139%), like (0.0121%)\n",
      "Topic #4: \n",
      "+ life (0.0245%), spiritual (0.0196%), live (0.0192%), art (0.0159%), practice (0.0139%)\n",
      "Topic #5: \n",
      "+ vampire (0.0162%), financial (0.0149%), rule (0.0128%), money (0.0128%), crisis (0.0081%)\n",
      "Topic #6: \n",
      "+ new (0.0271%), man (0.0143%), magic (0.0138%), tale (0.0133%), return (0.0130%)\n",
      "Topic #7: \n",
      "+ book (0.0164%), use (0.0128%), learn (0.0116%), show (0.0108%), offer (0.0101%)\n",
      "Topic #8: \n",
      "+ classic (0.0284%), work (0.0241%), penguin (0.0228%), text (0.0172%), year (0.0172%)\n",
      "Topic #9: \n",
      "+ life (0.0333%), story (0.0247%), world (0.0184%), year (0.0172%), man (0.0110%)\n",
      "Topic #10: \n",
      "+ music (0.0242%), star (0.0173%), sport (0.0173%), lego (0.0169%), team (0.0160%)\n",
      "Topic #11: \n",
      "+ recipe (0.0296%), food (0.0231%), drink (0.0126%), italian (0.0126%), cook (0.0126%)\n",
      "Topic #12: \n",
      "+ japanese (0.0228%), word (0.0140%), jean (0.0127%), whale (0.0095%), landscape (0.0089%)\n",
      "Topic #13: \n",
      "+ guide (0.0291%), new (0.0177%), travel (0.0158%), include (0.0136%), create (0.0107%)\n",
      "Topic #14: \n",
      "+ tale (0.0245%), art (0.0230%), king (0.0204%), paint (0.0174%), artist (0.0158%)\n",
      "Topic #15: \n",
      "+ century (0.0164%), french (0.0136%), war (0.0128%), draw (0.0120%), europe (0.0112%)\n",
      "Topic #16: \n",
      "+ health (0.0189%), body (0.0145%), weight (0.0123%), food (0.0116%), program (0.0113%)\n",
      "Topic #17: \n",
      "+ book (0.0425%), child (0.0204%), reader (0.0178%), little (0.0171%), animal (0.0169%)\n",
      "Topic #18: \n",
      "+ collection (0.0218%), book (0.0216%), volume (0.0183%), story (0.0166%), include (0.0164%)\n",
      "Topic #19: \n",
      "+ god (0.0568%), religious (0.0174%), jesus (0.0146%), faith (0.0141%), bible (0.0136%)\n",
      "Topic #20: \n",
      "+ war (0.0300%), battle (0.0152%), force (0.0137%), ship (0.0127%), star (0.0122%)\n",
      "Topic #21: \n",
      "+ christmas (0.0256%), little (0.0156%), holiday (0.0139%), come (0.0135%), baby (0.0126%)\n",
      "Topic #22: \n",
      "+ social (0.0121%), theory (0.0121%), political (0.0114%), public (0.0101%), analysis (0.0098%)\n",
      "Topic #23: \n",
      "+ american (0.0240%), history (0.0216%), new (0.0171%), world (0.0151%), time (0.0131%)\n",
      "Topic #24: \n",
      "+ love (0.0400%), life (0.0194%), family (0.0172%), young (0.0161%), old (0.0135%)\n",
      "Topic #25: \n",
      "+ mystery (0.0289%), town (0.0224%), murder (0.0211%), police (0.0149%), detective (0.0130%)\n",
      "Topic #26: \n",
      "+ man (0.0225%), woman (0.0225%), romance (0.0162%), passion (0.0135%), fall (0.0106%)\n",
      "Topic #27: \n",
      "+ book (0.0371%), character (0.0297%), series (0.0163%), fan (0.0150%), action (0.0144%)\n",
      "Topic #28: \n",
      "+ secret (0.0187%), world (0.0147%), dark (0.0134%), know (0.0116%), face (0.0110%)\n"
     ]
    }
   ],
   "source": [
    "print_topic_words(tuned)"
   ]
  },
  {
   "cell_type": "code",
   "execution_count": 42,
   "id": "5364cbee",
   "metadata": {},
   "outputs": [
    {
     "data": {
      "image/png": "[encoded data removed]",
      "text/plain": [
       "<Figure size 1080x1080 with 1 Axes>"
      ]
     },
     "metadata": {
      "needs_background": "light"
     },
     "output_type": "display_data"
    }
   ],
   "source": [
    "plot_topic_proportions(tuned, model_name = 'Fine-Tuned Model')"
   ]
  },
  {
   "cell_type": "markdown",
   "id": "ed1041ae",
   "metadata": {},
   "source": [
    "Now, even with a fine-tuned model there are likely to be some inscrutable topics. Look at topic 12 for example: \n",
    "what in the world does that represent? Topic 0 has a few less nonsequitors, but from this vantage it's hard to \n",
    "discern what it might be about. This, of course, is part of the point of topic modeling: it's a way of helping us \n",
    "discover new things about a corpus. Are topics 0 and 12 nonsense topics, or do they have some inner coherence? With \n",
    "our model built, it's on us to start exploring."
   ]
  },
  {
   "cell_type": "markdown",
   "id": "10ac32ce",
   "metadata": {},
   "source": [
    "Exploring a Model\n",
    "---------------------\n",
    "\n",
    "In this final section, we'll do just that. It's often helpful to build a few visualizations to aid us in our \n",
    "explorations, so we'll make those and see what we can find.\n",
    "\n",
    "Before doing so, let's rebuild a theta from the fine-tuned model. Remember that a theta is a document-topic matrix, \n",
    "where each cell is a probability score for a document's association with a particular topic."
   ]
  },
  {
   "cell_type": "code",
   "execution_count": 43,
   "id": "e8f0cdf5",
   "metadata": {},
   "outputs": [],
   "source": [
    "all_topic_distributions = [doc.get_topic_dist() for doc in tuned.docs]\n",
    "theta = np.stack(all_topic_distributions)\n",
    "theta /= theta.sum(axis = 1, keepdims = True)\n",
    "theta = pd.DataFrame(theta, index = manifest['TITLE'])"
   ]
  },
  {
   "cell_type": "markdown",
   "id": "df474ea8",
   "metadata": {},
   "source": [
    "We'll also make a quick set of labels for our topics, which list the top five words for each one."
   ]
  },
  {
   "cell_type": "code",
   "execution_count": 44,
   "id": "56c738a2",
   "metadata": {},
   "outputs": [],
   "source": [
    "labels = []\n",
    "for topic in range(tuned.k):\n",
    "    words = tuned.get_topic_words(topic, top_n = 5)\n",
    "    words = f\"#{topic}: \" + ', '.join([w[0] for w in words])\n",
    "    labels.append(words)"
   ]
  },
  {
   "cell_type": "markdown",
   "id": "d530b717",
   "metadata": {},
   "source": [
    "A heatmap is a natural fit for inspecting these probability distributions."
   ]
  },
  {
   "cell_type": "code",
   "execution_count": 45,
   "id": "c759878a",
   "metadata": {},
   "outputs": [
    {
     "data": {
      "image/png": "[encoded data removed]",
      "text/plain": [
       "<Figure size 1080x576 with 2 Axes>"
      ]
     },
     "metadata": {
      "needs_background": "light"
     },
     "output_type": "display_data"
    }
   ],
   "source": [
    "import matplotlib.pyplot as plt\n",
    "import seaborn as sns\n",
    "\n",
    "n_samples = 20\n",
    "random_titles = manifest['TITLE'].sample(n_samples)\n",
    "selected_theta = theta[theta.index.isin(random_titles)]\n",
    "\n",
    "plt.figure(figsize = (15, 8))\n",
    "ax = sns.heatmap(selected_theta,\n",
    "                 xticklabels = labels,\n",
    "                 linewidths = 1,\n",
    "                 linecolor = 'black',\n",
    "                 cmap = 'Blues'\n",
    "                )\n",
    "ax.set(xlabel = 'Topic', ylabel = 'Title')\n",
    "ax.xaxis.set_label_position('top')\n",
    "ax.xaxis.tick_top()\n",
    "plt.xticks(rotation = 30, ha = 'left')\n",
    "plt.tight_layout();"
   ]
  },
  {
   "cell_type": "markdown",
   "id": "70cb19ef",
   "metadata": {},
   "source": [
    "Topic 8 seems to be about the classics. What kind of titles have a particularly high association with this topic?"
   ]
  },
  {
   "cell_type": "code",
   "execution_count": 49,
   "id": "dc5d2982",
   "metadata": {},
   "outputs": [
    {
     "data": {
      "text/html": [
       "<style  type=\"text/css\" >\n",
       "</style><table id=\"T_7255a_\" ><thead>    <tr>        <th class=\"col_heading level0 col0\" >AUTHOR</th>        <th class=\"col_heading level0 col1\" >TITLE</th>        <th class=\"col_heading level0 col2\" >GENRE</th>        <th class=\"col_heading level0 col3\" >TOPIC_8_SCORE</th>    </tr></thead><tbody>\n",
       "                <tr>\n",
       "                                <td id=\"T_7255a_row0_col0\" class=\"data row0 col0\" >Horatio Alger</td>\n",
       "                        <td id=\"T_7255a_row0_col1\" class=\"data row0 col1\" >Ragged Dick and Struggling Upward</td>\n",
       "                        <td id=\"T_7255a_row0_col2\" class=\"data row0 col2\" >Classics</td>\n",
       "                        <td id=\"T_7255a_row0_col3\" class=\"data row0 col3\" >0.553598</td>\n",
       "            </tr>\n",
       "            <tr>\n",
       "                                <td id=\"T_7255a_row1_col0\" class=\"data row1 col0\" >Stan Berenstain, Jan Berenstain</td>\n",
       "                        <td id=\"T_7255a_row1_col1\" class=\"data row1 col1\" >The Berenstain Bears Blaze a Trail</td>\n",
       "                        <td id=\"T_7255a_row1_col2\" class=\"data row1 col2\" >Children’s Books</td>\n",
       "                        <td id=\"T_7255a_row1_col3\" class=\"data row1 col3\" >0.229238</td>\n",
       "            </tr>\n",
       "            <tr>\n",
       "                                <td id=\"T_7255a_row2_col0\" class=\"data row2 col0\" >Chretien de Troyes</td>\n",
       "                        <td id=\"T_7255a_row2_col1\" class=\"data row2 col1\" >Arthurian Romances</td>\n",
       "                        <td id=\"T_7255a_row2_col2\" class=\"data row2 col2\" >Classics</td>\n",
       "                        <td id=\"T_7255a_row2_col3\" class=\"data row2 col3\" >0.781303</td>\n",
       "            </tr>\n",
       "            <tr>\n",
       "                                <td id=\"T_7255a_row3_col0\" class=\"data row3 col0\" >Nicola Sacco, Bartolomeo Vanzetti</td>\n",
       "                        <td id=\"T_7255a_row3_col1\" class=\"data row3 col1\" >The Letters of Sacco and Vanzetti</td>\n",
       "                        <td id=\"T_7255a_row3_col2\" class=\"data row3 col2\" >Classics</td>\n",
       "                        <td id=\"T_7255a_row3_col3\" class=\"data row3 col3\" >0.542920</td>\n",
       "            </tr>\n",
       "            <tr>\n",
       "                                <td id=\"T_7255a_row4_col0\" class=\"data row4 col0\" >Elizabeth Winthrop</td>\n",
       "                        <td id=\"T_7255a_row4_col1\" class=\"data row4 col1\" >The Battle for the Castle</td>\n",
       "                        <td id=\"T_7255a_row4_col2\" class=\"data row4 col2\" >Children’s Books</td>\n",
       "                        <td id=\"T_7255a_row4_col3\" class=\"data row4 col3\" >0.229807</td>\n",
       "            </tr>\n",
       "            <tr>\n",
       "                                <td id=\"T_7255a_row5_col0\" class=\"data row5 col0\" >Leslie Alcock</td>\n",
       "                        <td id=\"T_7255a_row5_col1\" class=\"data row5 col1\" >Arthur's Britain</td>\n",
       "                        <td id=\"T_7255a_row5_col2\" class=\"data row5 col2\" >Nonfiction</td>\n",
       "                        <td id=\"T_7255a_row5_col3\" class=\"data row5 col3\" >0.146158</td>\n",
       "            </tr>\n",
       "            <tr>\n",
       "                                <td id=\"T_7255a_row6_col0\" class=\"data row6 col0\" >Frances Hodgson Burnett</td>\n",
       "                        <td id=\"T_7255a_row6_col1\" class=\"data row6 col1\" >A Little Princess</td>\n",
       "                        <td id=\"T_7255a_row6_col2\" class=\"data row6 col2\" >Classics</td>\n",
       "                        <td id=\"T_7255a_row6_col3\" class=\"data row6 col3\" >0.250944</td>\n",
       "            </tr>\n",
       "            <tr>\n",
       "                                <td id=\"T_7255a_row7_col0\" class=\"data row7 col0\" >Mary Boykin Chesnut</td>\n",
       "                        <td id=\"T_7255a_row7_col1\" class=\"data row7 col1\" >Mary Chesnut's Diary</td>\n",
       "                        <td id=\"T_7255a_row7_col2\" class=\"data row7 col2\" >Classics</td>\n",
       "                        <td id=\"T_7255a_row7_col3\" class=\"data row7 col3\" >0.572314</td>\n",
       "            </tr>\n",
       "            <tr>\n",
       "                                <td id=\"T_7255a_row8_col0\" class=\"data row8 col0\" >Kenneth Grahame</td>\n",
       "                        <td id=\"T_7255a_row8_col1\" class=\"data row8 col1\" >The Wind in the Willows</td>\n",
       "                        <td id=\"T_7255a_row8_col2\" class=\"data row8 col2\" >Classics</td>\n",
       "                        <td id=\"T_7255a_row8_col3\" class=\"data row8 col3\" >0.608761</td>\n",
       "            </tr>\n",
       "            <tr>\n",
       "                                <td id=\"T_7255a_row9_col0\" class=\"data row9 col0\" >Harriet Jacobs</td>\n",
       "                        <td id=\"T_7255a_row9_col1\" class=\"data row9 col1\" >Incidents in the Life of a Slave Girl</td>\n",
       "                        <td id=\"T_7255a_row9_col2\" class=\"data row9 col2\" >Classics</td>\n",
       "                        <td id=\"T_7255a_row9_col3\" class=\"data row9 col3\" >0.575178</td>\n",
       "            </tr>\n",
       "            <tr>\n",
       "                                <td id=\"T_7255a_row10_col0\" class=\"data row10 col0\" >Richard E. Kim</td>\n",
       "                        <td id=\"T_7255a_row10_col1\" class=\"data row10 col1\" >The Martyred</td>\n",
       "                        <td id=\"T_7255a_row10_col2\" class=\"data row10 col2\" >Classics</td>\n",
       "                        <td id=\"T_7255a_row10_col3\" class=\"data row10 col3\" >0.478683</td>\n",
       "            </tr>\n",
       "            <tr>\n",
       "                                <td id=\"T_7255a_row11_col0\" class=\"data row11 col0\" >Friedrich Nietzsche</td>\n",
       "                        <td id=\"T_7255a_row11_col1\" class=\"data row11 col1\" >The Will to Power</td>\n",
       "                        <td id=\"T_7255a_row11_col2\" class=\"data row11 col2\" >Nonfiction</td>\n",
       "                        <td id=\"T_7255a_row11_col3\" class=\"data row11 col3\" >0.290242</td>\n",
       "            </tr>\n",
       "            <tr>\n",
       "                                <td id=\"T_7255a_row12_col0\" class=\"data row12 col0\" >Various</td>\n",
       "                        <td id=\"T_7255a_row12_col1\" class=\"data row12 col1\" >The Penguin Book of Modern African Poetry</td>\n",
       "                        <td id=\"T_7255a_row12_col2\" class=\"data row12 col2\" >Classics</td>\n",
       "                        <td id=\"T_7255a_row12_col3\" class=\"data row12 col3\" >0.436538</td>\n",
       "            </tr>\n",
       "            <tr>\n",
       "                                <td id=\"T_7255a_row13_col0\" class=\"data row13 col0\" >Various</td>\n",
       "                        <td id=\"T_7255a_row13_col1\" class=\"data row13 col1\" >The Portable Twentieth-Century Russian Reader</td>\n",
       "                        <td id=\"T_7255a_row13_col2\" class=\"data row13 col2\" >Classics</td>\n",
       "                        <td id=\"T_7255a_row13_col3\" class=\"data row13 col3\" >0.681862</td>\n",
       "            </tr>\n",
       "            <tr>\n",
       "                                <td id=\"T_7255a_row14_col0\" class=\"data row14 col0\" >Ron Roy</td>\n",
       "                        <td id=\"T_7255a_row14_col1\" class=\"data row14 col1\" >A to Z Mysteries: The Lucky Lottery</td>\n",
       "                        <td id=\"T_7255a_row14_col2\" class=\"data row14 col2\" >Children’s Books</td>\n",
       "                        <td id=\"T_7255a_row14_col3\" class=\"data row14 col3\" >0.211067</td>\n",
       "            </tr>\n",
       "            <tr>\n",
       "                                <td id=\"T_7255a_row15_col0\" class=\"data row15 col0\" >Anonymous</td>\n",
       "                        <td id=\"T_7255a_row15_col1\" class=\"data row15 col1\" >The Vinland Sagas</td>\n",
       "                        <td id=\"T_7255a_row15_col2\" class=\"data row15 col2\" >Classics</td>\n",
       "                        <td id=\"T_7255a_row15_col3\" class=\"data row15 col3\" >0.628127</td>\n",
       "            </tr>\n",
       "            <tr>\n",
       "                                <td id=\"T_7255a_row16_col0\" class=\"data row16 col0\" >Anonymous</td>\n",
       "                        <td id=\"T_7255a_row16_col1\" class=\"data row16 col1\" >The Cloud of Unknowing and Other Works</td>\n",
       "                        <td id=\"T_7255a_row16_col2\" class=\"data row16 col2\" >Classics</td>\n",
       "                        <td id=\"T_7255a_row16_col3\" class=\"data row16 col3\" >0.496929</td>\n",
       "            </tr>\n",
       "            <tr>\n",
       "                                <td id=\"T_7255a_row17_col0\" class=\"data row17 col0\" >Thomas Hardy</td>\n",
       "                        <td id=\"T_7255a_row17_col1\" class=\"data row17 col1\" >The Distracted Preacher</td>\n",
       "                        <td id=\"T_7255a_row17_col2\" class=\"data row17 col2\" >Fiction</td>\n",
       "                        <td id=\"T_7255a_row17_col3\" class=\"data row17 col3\" >0.272698</td>\n",
       "            </tr>\n",
       "            <tr>\n",
       "                                <td id=\"T_7255a_row18_col0\" class=\"data row18 col0\" >Arthur Miller</td>\n",
       "                        <td id=\"T_7255a_row18_col1\" class=\"data row18 col1\" >A View from the Bridge</td>\n",
       "                        <td id=\"T_7255a_row18_col2\" class=\"data row18 col2\" >Classics</td>\n",
       "                        <td id=\"T_7255a_row18_col3\" class=\"data row18 col3\" >0.630500</td>\n",
       "            </tr>\n",
       "            <tr>\n",
       "                                <td id=\"T_7255a_row19_col0\" class=\"data row19 col0\" >William Shakespeare</td>\n",
       "                        <td id=\"T_7255a_row19_col1\" class=\"data row19 col1\" >King John</td>\n",
       "                        <td id=\"T_7255a_row19_col2\" class=\"data row19 col2\" >Classics</td>\n",
       "                        <td id=\"T_7255a_row19_col3\" class=\"data row19 col3\" >0.604255</td>\n",
       "            </tr>\n",
       "            <tr>\n",
       "                                <td id=\"T_7255a_row20_col0\" class=\"data row20 col0\" >Various</td>\n",
       "                        <td id=\"T_7255a_row20_col1\" class=\"data row20 col1\" >Hippocratic Writings</td>\n",
       "                        <td id=\"T_7255a_row20_col2\" class=\"data row20 col2\" >Classics</td>\n",
       "                        <td id=\"T_7255a_row20_col3\" class=\"data row20 col3\" >0.563660</td>\n",
       "            </tr>\n",
       "            <tr>\n",
       "                                <td id=\"T_7255a_row21_col0\" class=\"data row21 col0\" >Abbe Prevost</td>\n",
       "                        <td id=\"T_7255a_row21_col1\" class=\"data row21 col1\" >Manon Lescaut</td>\n",
       "                        <td id=\"T_7255a_row21_col2\" class=\"data row21 col2\" >Classics</td>\n",
       "                        <td id=\"T_7255a_row21_col3\" class=\"data row21 col3\" >0.570990</td>\n",
       "            </tr>\n",
       "    </tbody></table>"
      ],
      "text/plain": [
       "<pandas.io.formats.style.Styler at 0x1285fed30>"
      ]
     },
     "execution_count": 49,
     "metadata": {},
     "output_type": "execute_result"
    }
   ],
   "source": [
    "topic_8 = theta[theta.idxmax(axis = 1) == 8][8]\n",
    "selected = manifest[manifest['TITLE'].isin(topic_8.index)]\n",
    "selected = selected[['AUTHOR', 'TITLE', 'GENRE']].assign(TOPIC_8_SCORE = topic_8.values)\n",
    "selected.style.hide_index()"
   ]
  },
  {
   "cell_type": "markdown",
   "id": "c99916c2",
   "metadata": {},
   "source": [
    "Looks about right, though it's interesting to see a few children's books here. Were we to explore this a bit \n",
    "further, we'd probably want to take a look at those probability scores. The seeming outliers in this listing also \n",
    "tend to have a low score for the topic.\n",
    "\n",
    "Topic 5 has an interesting mix of top words: \"vampire,\" \"financial,\" \"rule,\" etc. What's going on here?"
   ]
  },
  {
   "cell_type": "code",
   "execution_count": 50,
   "id": "f5344b93",
   "metadata": {},
   "outputs": [
    {
     "data": {
      "text/html": [
       "<style  type=\"text/css\" >\n",
       "</style><table id=\"T_b3e6f_\" ><thead>    <tr>        <th class=\"col_heading level0 col0\" >AUTHOR</th>        <th class=\"col_heading level0 col1\" >TITLE</th>        <th class=\"col_heading level0 col2\" >GENRE</th>        <th class=\"col_heading level0 col3\" >TOPIC_5_SCORE</th>    </tr></thead><tbody>\n",
       "                <tr>\n",
       "                                <td id=\"T_b3e6f_row0_col0\" class=\"data row0 col0\" >John Burningham</td>\n",
       "                        <td id=\"T_b3e6f_row0_col1\" class=\"data row0 col1\" >Tug of War</td>\n",
       "                        <td id=\"T_b3e6f_row0_col2\" class=\"data row0 col2\" >Children’s Books</td>\n",
       "                        <td id=\"T_b3e6f_row0_col3\" class=\"data row0 col3\" >0.247715</td>\n",
       "            </tr>\n",
       "            <tr>\n",
       "                                <td id=\"T_b3e6f_row1_col0\" class=\"data row1 col0\" >Maggie Furey</td>\n",
       "                        <td id=\"T_b3e6f_row1_col1\" class=\"data row1 col1\" >Echo of Eternity</td>\n",
       "                        <td id=\"T_b3e6f_row1_col2\" class=\"data row1 col2\" >Fiction</td>\n",
       "                        <td id=\"T_b3e6f_row1_col3\" class=\"data row1 col3\" >0.199022</td>\n",
       "            </tr>\n",
       "            <tr>\n",
       "                                <td id=\"T_b3e6f_row2_col0\" class=\"data row2 col0\" >Eileen Truax</td>\n",
       "                        <td id=\"T_b3e6f_row2_col1\" class=\"data row2 col1\" >We Built the Wall</td>\n",
       "                        <td id=\"T_b3e6f_row2_col2\" class=\"data row2 col2\" >Nonfiction</td>\n",
       "                        <td id=\"T_b3e6f_row2_col3\" class=\"data row2 col3\" >0.255975</td>\n",
       "            </tr>\n",
       "            <tr>\n",
       "                                <td id=\"T_b3e6f_row3_col0\" class=\"data row3 col0\" >Andrew Vachss</td>\n",
       "                        <td id=\"T_b3e6f_row3_col1\" class=\"data row3 col1\" >Vachss: Underground</td>\n",
       "                        <td id=\"T_b3e6f_row3_col2\" class=\"data row3 col2\" >Fiction</td>\n",
       "                        <td id=\"T_b3e6f_row3_col3\" class=\"data row3 col3\" >0.210242</td>\n",
       "            </tr>\n",
       "            <tr>\n",
       "                                <td id=\"T_b3e6f_row4_col0\" class=\"data row4 col0\" >Paul Grangaard</td>\n",
       "                        <td id=\"T_b3e6f_row4_col1\" class=\"data row4 col1\" >Grangaard Strategy: Invest Right During Retirement</td>\n",
       "                        <td id=\"T_b3e6f_row4_col2\" class=\"data row4 col2\" >Fiction</td>\n",
       "                        <td id=\"T_b3e6f_row4_col3\" class=\"data row4 col3\" >0.458991</td>\n",
       "            </tr>\n",
       "            <tr>\n",
       "                                <td id=\"T_b3e6f_row5_col0\" class=\"data row5 col0\" >John Ramsey Miller</td>\n",
       "                        <td id=\"T_b3e6f_row5_col1\" class=\"data row5 col1\" >The Last Family</td>\n",
       "                        <td id=\"T_b3e6f_row5_col2\" class=\"data row5 col2\" >Fiction</td>\n",
       "                        <td id=\"T_b3e6f_row5_col3\" class=\"data row5 col3\" >0.218730</td>\n",
       "            </tr>\n",
       "            <tr>\n",
       "                                <td id=\"T_b3e6f_row6_col0\" class=\"data row6 col0\" >Andy Owens</td>\n",
       "                        <td id=\"T_b3e6f_row6_col1\" class=\"data row6 col1\" >Buffy the Vampire Slayer Season 8 Volume 6: Retreat</td>\n",
       "                        <td id=\"T_b3e6f_row6_col2\" class=\"data row6 col2\" >Fiction</td>\n",
       "                        <td id=\"T_b3e6f_row6_col3\" class=\"data row6 col3\" >0.354488</td>\n",
       "            </tr>\n",
       "            <tr>\n",
       "                                <td id=\"T_b3e6f_row7_col0\" class=\"data row7 col0\" >James F. Thompson</td>\n",
       "                        <td id=\"T_b3e6f_row7_col1\" class=\"data row7 col1\" >The Cubicle Survival Guide</td>\n",
       "                        <td id=\"T_b3e6f_row7_col2\" class=\"data row7 col2\" >Humor</td>\n",
       "                        <td id=\"T_b3e6f_row7_col3\" class=\"data row7 col3\" >0.250471</td>\n",
       "            </tr>\n",
       "            <tr>\n",
       "                                <td id=\"T_b3e6f_row8_col0\" class=\"data row8 col0\" >Scott Patterson</td>\n",
       "                        <td id=\"T_b3e6f_row8_col1\" class=\"data row8 col1\" >Dark Pools</td>\n",
       "                        <td id=\"T_b3e6f_row8_col2\" class=\"data row8 col2\" >Nonfiction</td>\n",
       "                        <td id=\"T_b3e6f_row8_col3\" class=\"data row8 col3\" >0.307148</td>\n",
       "            </tr>\n",
       "            <tr>\n",
       "                                <td id=\"T_b3e6f_row9_col0\" class=\"data row9 col0\" >Greg Palast</td>\n",
       "                        <td id=\"T_b3e6f_row9_col1\" class=\"data row9 col1\" >Billionaires & Ballot Bandits</td>\n",
       "                        <td id=\"T_b3e6f_row9_col2\" class=\"data row9 col2\" >Nonfiction</td>\n",
       "                        <td id=\"T_b3e6f_row9_col3\" class=\"data row9 col3\" >0.394973</td>\n",
       "            </tr>\n",
       "            <tr>\n",
       "                                <td id=\"T_b3e6f_row10_col0\" class=\"data row10 col0\" >Chris Hardwick</td>\n",
       "                        <td id=\"T_b3e6f_row10_col1\" class=\"data row10 col1\" >The Nerdist Way</td>\n",
       "                        <td id=\"T_b3e6f_row10_col2\" class=\"data row10 col2\" >Humor</td>\n",
       "                        <td id=\"T_b3e6f_row10_col3\" class=\"data row10 col3\" >0.241594</td>\n",
       "            </tr>\n",
       "            <tr>\n",
       "                                <td id=\"T_b3e6f_row11_col0\" class=\"data row11 col0\" >Amy Gray</td>\n",
       "                        <td id=\"T_b3e6f_row11_col1\" class=\"data row11 col1\" >How to Be a Vampire</td>\n",
       "                        <td id=\"T_b3e6f_row11_col2\" class=\"data row11 col2\" >Teen & Young Adult</td>\n",
       "                        <td id=\"T_b3e6f_row11_col3\" class=\"data row11 col3\" >0.252977</td>\n",
       "            </tr>\n",
       "            <tr>\n",
       "                                <td id=\"T_b3e6f_row12_col0\" class=\"data row12 col0\" >Andrew Fox</td>\n",
       "                        <td id=\"T_b3e6f_row12_col1\" class=\"data row12 col1\" >Bride of the Fat White Vampire</td>\n",
       "                        <td id=\"T_b3e6f_row12_col2\" class=\"data row12 col2\" >Fiction</td>\n",
       "                        <td id=\"T_b3e6f_row12_col3\" class=\"data row12 col3\" >0.250888</td>\n",
       "            </tr>\n",
       "            <tr>\n",
       "                                <td id=\"T_b3e6f_row13_col0\" class=\"data row13 col0\" >Dawn Cusick</td>\n",
       "                        <td id=\"T_b3e6f_row13_col1\" class=\"data row13 col1\" >Bug Butts</td>\n",
       "                        <td id=\"T_b3e6f_row13_col2\" class=\"data row13 col2\" >Children’s Books</td>\n",
       "                        <td id=\"T_b3e6f_row13_col3\" class=\"data row13 col3\" >0.474483</td>\n",
       "            </tr>\n",
       "            <tr>\n",
       "                                <td id=\"T_b3e6f_row14_col0\" class=\"data row14 col0\" >Keri Arthur</td>\n",
       "                        <td id=\"T_b3e6f_row14_col1\" class=\"data row14 col1\" >Darkness Rising</td>\n",
       "                        <td id=\"T_b3e6f_row14_col2\" class=\"data row14 col2\" >Fiction</td>\n",
       "                        <td id=\"T_b3e6f_row14_col3\" class=\"data row14 col3\" >0.359722</td>\n",
       "            </tr>\n",
       "            <tr>\n",
       "                                <td id=\"T_b3e6f_row15_col0\" class=\"data row15 col0\" >Simon Johnson, James Kwak</td>\n",
       "                        <td id=\"T_b3e6f_row15_col1\" class=\"data row15 col1\" >13 Bankers</td>\n",
       "                        <td id=\"T_b3e6f_row15_col2\" class=\"data row15 col2\" >Nonfiction</td>\n",
       "                        <td id=\"T_b3e6f_row15_col3\" class=\"data row15 col3\" >0.343755</td>\n",
       "            </tr>\n",
       "            <tr>\n",
       "                                <td id=\"T_b3e6f_row16_col0\" class=\"data row16 col0\" >Eric Powell</td>\n",
       "                        <td id=\"T_b3e6f_row16_col1\" class=\"data row16 col1\" >The Goon: Volume 5: Wicked Inclinations (2nd edition)</td>\n",
       "                        <td id=\"T_b3e6f_row16_col2\" class=\"data row16 col2\" >Fiction</td>\n",
       "                        <td id=\"T_b3e6f_row16_col3\" class=\"data row16 col3\" >0.211155</td>\n",
       "            </tr>\n",
       "            <tr>\n",
       "                                <td id=\"T_b3e6f_row17_col0\" class=\"data row17 col0\" >Jerry Kaplan</td>\n",
       "                        <td id=\"T_b3e6f_row17_col1\" class=\"data row17 col1\" >Startup</td>\n",
       "                        <td id=\"T_b3e6f_row17_col2\" class=\"data row17 col2\" >Nonfiction</td>\n",
       "                        <td id=\"T_b3e6f_row17_col3\" class=\"data row17 col3\" >0.227893</td>\n",
       "            </tr>\n",
       "            <tr>\n",
       "                                <td id=\"T_b3e6f_row18_col0\" class=\"data row18 col0\" >Janet Tashjian</td>\n",
       "                        <td id=\"T_b3e6f_row18_col1\" class=\"data row18 col1\" >The Gospel According to Larry</td>\n",
       "                        <td id=\"T_b3e6f_row18_col2\" class=\"data row18 col2\" >Teen & Young Adult</td>\n",
       "                        <td id=\"T_b3e6f_row18_col3\" class=\"data row18 col3\" >0.225252</td>\n",
       "            </tr>\n",
       "            <tr>\n",
       "                                <td id=\"T_b3e6f_row19_col0\" class=\"data row19 col0\" >James Crumley</td>\n",
       "                        <td id=\"T_b3e6f_row19_col1\" class=\"data row19 col1\" >Bordersnakes</td>\n",
       "                        <td id=\"T_b3e6f_row19_col2\" class=\"data row19 col2\" >Fiction</td>\n",
       "                        <td id=\"T_b3e6f_row19_col3\" class=\"data row19 col3\" >0.189728</td>\n",
       "            </tr>\n",
       "            <tr>\n",
       "                                <td id=\"T_b3e6f_row20_col0\" class=\"data row20 col0\" >Hunter S. Thompson</td>\n",
       "                        <td id=\"T_b3e6f_row20_col1\" class=\"data row20 col1\" >Better Than Sex</td>\n",
       "                        <td id=\"T_b3e6f_row20_col2\" class=\"data row20 col2\" >Nonfiction</td>\n",
       "                        <td id=\"T_b3e6f_row20_col3\" class=\"data row20 col3\" >0.180376</td>\n",
       "            </tr>\n",
       "            <tr>\n",
       "                                <td id=\"T_b3e6f_row21_col0\" class=\"data row21 col0\" >Lawrence G. McDonald, Patrick Robinson</td>\n",
       "                        <td id=\"T_b3e6f_row21_col1\" class=\"data row21 col1\" >A Colossal Failure of Common Sense</td>\n",
       "                        <td id=\"T_b3e6f_row21_col2\" class=\"data row21 col2\" >Nonfiction</td>\n",
       "                        <td id=\"T_b3e6f_row21_col3\" class=\"data row21 col3\" >0.212348</td>\n",
       "            </tr>\n",
       "    </tbody></table>"
      ],
      "text/plain": [
       "<pandas.io.formats.style.Styler at 0x1391d7e48>"
      ]
     },
     "execution_count": 50,
     "metadata": {},
     "output_type": "execute_result"
    }
   ],
   "source": [
    "topic_5 = theta[theta.idxmax(axis = 1) == 5][5]\n",
    "selected = manifest[manifest['TITLE'].isin(topic_5.index)]\n",
    "selected = selected[['AUTHOR', 'TITLE', 'GENRE']].assign(TOPIC_5_SCORE = topic_5.values)\n",
    "selected.style.hide_index()"
   ]
  },
  {
   "cell_type": "code",
   "execution_count": null,
   "id": "c4c4cd8d",
   "metadata": {},
   "outputs": [],
   "source": []
  }
 ],
 "metadata": {
  "kernelspec": {
   "display_name": "nlp",
   "language": "python",
   "name": "nlp"
  },
  "language_info": {
   "codemirror_mode": {
    "name": "ipython",
    "version": 3
   },
   "file_extension": ".py",
   "mimetype": "text/x-python",
   "name": "python",
   "nbconvert_exporter": "python",
   "pygments_lexer": "ipython3",
   "version": "3.7.3"
  }
 },
 "nbformat": 4,
 "nbformat_minor": 5
}
